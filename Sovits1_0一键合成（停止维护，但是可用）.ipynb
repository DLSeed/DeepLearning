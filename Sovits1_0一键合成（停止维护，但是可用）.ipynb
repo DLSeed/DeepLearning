{
  "cells": [
    {
      "cell_type": "markdown",
      "metadata": {
        "id": "view-in-github",
        "colab_type": "text"
      },
      "source": [
        "<a href=\"https://colab.research.google.com/github/DLSeed/DeepLearning/blob/main/Sovits1_0%E4%B8%80%E9%94%AE%E5%90%88%E6%88%90%EF%BC%88%E5%81%9C%E6%AD%A2%E7%BB%B4%E6%8A%A4%EF%BC%8C%E4%BD%86%E6%98%AF%E5%8F%AF%E7%94%A8%EF%BC%89.ipynb\" target=\"_parent\"><img src=\"https://colab.research.google.com/assets/colab-badge.svg\" alt=\"Open In Colab\"/></a>"
      ]
    },
    {
      "cell_type": "markdown",
      "metadata": {
        "id": "F-IpF6c5X0q_"
      },
      "source": [
        "# 简介\n",
        "\n",
        "**请使用新脚本**\n",
        "\n",
        "**[sovits_f0一键合成](https://colab.research.google.com/drive/1F3VpHCi9eridGw1F1hbqR7qhXGKuSCus)**\n",
        "\n",
        "**新脚本配合新的模型**\n",
        "\n",
        "**此脚本配合旧模型及十人预模型**\n",
        "\n",
        "sovits包括**训练、合成**两部分，替换至本篇进行合成的模型必须是**Rcell版引入f0参数的sovits方式训练出的模型（三件套的colab，模型仅在内部互通）**\n",
        "\n",
        "**格式参考vits专栏三件套（评论区）**[vits注解](https://www.bilibili.com/read/cv18478187)\n",
        "\n",
        "95%的问题都可以参考专栏解决，剩下的我也不会了\n",
        "\n",
        "[一键制作数据集](https://colab.research.google.com/drive/1qzTZQp7ew7HMal4oApm4DI1cK2JR1N0t)\n",
        "\n",
        "[一键训练](https://colab.research.google.com/drive/1xTCtNOK0Rglzq06H3iAwBwVnBuz0fgxJ)\n",
        "\n",
        "**支持一键合成长时间的音频（5min以上），建议使用GPU（CPU比较慢）**\n",
        "\n",
        "按照[Rcell](https://space.bilibili.com/343303724)大佬的思路拼合soft-vc与vits，\n",
        "使用[Francis-Komizu](https://space.bilibili.com/636704927)大佬的原colab结构，并延续Sovits的称呼。\n",
        "\n",
        "hubert.pt为[soft-vc](https://github.com/bshall/hubert)发布的内容合成器模型，generator_idxr.pth为R佬在huggingface发布的模型；采用存在谷歌云盘的方式，节约下载时间。\n",
        "[Sovits](https://github.com/IceKyrin/Sovits) fork自F佬的[github](https://github.com/Francis-Komizu/Sovits)，其中内置了R佬pth的config.json及官方hubert模块（改为加载本地模型方式），以方便使用。"
      ]
    },
    {
      "cell_type": "markdown",
      "metadata": {
        "id": "CMIJduVhX2Ge"
      },
      "source": [
        "# 配置环境"
      ]
    },
    {
      "cell_type": "code",
      "execution_count": 1,
      "metadata": {
        "id": "BfuRLaqys47I",
        "outputId": "2edf3d0a-de32-4a9e-d01b-b6aca5e7b39a",
        "colab": {
          "base_uri": "https://localhost:8080/",
          "height": 1000
        }
      },
      "outputs": [
        {
          "output_type": "stream",
          "name": "stdout",
          "text": [
            "Cloning into 'sovits_infer_rcell'...\n",
            "remote: Enumerating objects: 156, done.\u001b[K\n",
            "remote: Counting objects: 100% (52/52), done.\u001b[K\n",
            "remote: Compressing objects: 100% (47/47), done.\u001b[K\n",
            "remote: Total 156 (delta 17), reused 14 (delta 5), pack-reused 104\u001b[K\n",
            "Receiving objects: 100% (156/156), 95.83 KiB | 9.58 MiB/s, done.\n",
            "Resolving deltas: 100% (55/55), done.\n",
            "/content/sovits_infer_rcell\n",
            "Looking in indexes: https://pypi.org/simple, https://us-python.pkg.dev/colab-wheels/public/simple/\n",
            "Collecting Cython==0.29.21\n",
            "  Downloading Cython-0.29.21-cp37-cp37m-manylinux1_x86_64.whl (2.0 MB)\n",
            "\u001b[K     |████████████████████████████████| 2.0 MB 29.8 MB/s \n",
            "\u001b[?25hCollecting librosa==0.8.0\n",
            "  Downloading librosa-0.8.0.tar.gz (183 kB)\n",
            "\u001b[K     |████████████████████████████████| 183 kB 70.8 MB/s \n",
            "\u001b[?25hCollecting matplotlib==3.3.1\n",
            "  Downloading matplotlib-3.3.1-cp37-cp37m-manylinux1_x86_64.whl (11.6 MB)\n",
            "\u001b[K     |████████████████████████████████| 11.6 MB 45.2 MB/s \n",
            "\u001b[?25hCollecting numpy==1.18.5\n",
            "  Downloading numpy-1.18.5-cp37-cp37m-manylinux1_x86_64.whl (20.1 MB)\n",
            "\u001b[K     |████████████████████████████████| 20.1 MB 4.1 MB/s \n",
            "\u001b[?25hCollecting phonemizer==2.2.1\n",
            "  Downloading phonemizer-2.2.1-py3-none-any.whl (49 kB)\n",
            "\u001b[K     |████████████████████████████████| 49 kB 6.1 MB/s \n",
            "\u001b[?25hCollecting scipy==1.5.2\n",
            "  Downloading scipy-1.5.2-cp37-cp37m-manylinux1_x86_64.whl (25.9 MB)\n",
            "\u001b[K     |████████████████████████████████| 25.9 MB 1.2 MB/s \n",
            "\u001b[?25hCollecting tensorboard==2.3.0\n",
            "  Downloading tensorboard-2.3.0-py3-none-any.whl (6.8 MB)\n",
            "\u001b[K     |████████████████████████████████| 6.8 MB 51.4 MB/s \n",
            "\u001b[?25hRequirement already satisfied: torch in /usr/local/lib/python3.7/dist-packages (from -r requirements.txt (line 8)) (1.12.1+cu113)\n",
            "Requirement already satisfied: torchvision in /usr/local/lib/python3.7/dist-packages (from -r requirements.txt (line 9)) (0.13.1+cu113)\n",
            "Collecting torchcrepe\n",
            "  Downloading torchcrepe-0.0.17-py3-none-any.whl (72.3 MB)\n",
            "\u001b[K     |████████████████████████████████| 72.3 MB 8.2 kB/s \n",
            "\u001b[?25hCollecting Unidecode==1.1.1\n",
            "  Downloading Unidecode-1.1.1-py2.py3-none-any.whl (238 kB)\n",
            "\u001b[K     |████████████████████████████████| 238 kB 72.2 MB/s \n",
            "\u001b[?25hRequirement already satisfied: torchaudio in /usr/local/lib/python3.7/dist-packages (from -r requirements.txt (line 12)) (0.12.1+cu113)\n",
            "Collecting pyworld\n",
            "  Downloading pyworld-0.3.0.tar.gz (212 kB)\n",
            "\u001b[K     |████████████████████████████████| 212 kB 76.2 MB/s \n",
            "\u001b[?25h  Installing build dependencies ... \u001b[?25l\u001b[?25hdone\n",
            "  Getting requirements to build wheel ... \u001b[?25l\u001b[?25hdone\n",
            "    Preparing wheel metadata ... \u001b[?25l\u001b[?25hdone\n",
            "Requirement already satisfied: audioread>=2.0.0 in /usr/local/lib/python3.7/dist-packages (from librosa==0.8.0->-r requirements.txt (line 2)) (3.0.0)\n",
            "Requirement already satisfied: scikit-learn!=0.19.0,>=0.14.0 in /usr/local/lib/python3.7/dist-packages (from librosa==0.8.0->-r requirements.txt (line 2)) (1.0.2)\n",
            "Requirement already satisfied: joblib>=0.14 in /usr/local/lib/python3.7/dist-packages (from librosa==0.8.0->-r requirements.txt (line 2)) (1.1.0)\n",
            "Requirement already satisfied: decorator>=3.0.0 in /usr/local/lib/python3.7/dist-packages (from librosa==0.8.0->-r requirements.txt (line 2)) (4.4.2)\n",
            "Requirement already satisfied: resampy>=0.2.2 in /usr/local/lib/python3.7/dist-packages (from librosa==0.8.0->-r requirements.txt (line 2)) (0.4.0)\n",
            "Requirement already satisfied: numba>=0.43.0 in /usr/local/lib/python3.7/dist-packages (from librosa==0.8.0->-r requirements.txt (line 2)) (0.56.2)\n",
            "Requirement already satisfied: soundfile>=0.9.0 in /usr/local/lib/python3.7/dist-packages (from librosa==0.8.0->-r requirements.txt (line 2)) (0.10.3.post1)\n",
            "Requirement already satisfied: pooch>=1.0 in /usr/local/lib/python3.7/dist-packages (from librosa==0.8.0->-r requirements.txt (line 2)) (1.6.0)\n",
            "Requirement already satisfied: pillow>=6.2.0 in /usr/local/lib/python3.7/dist-packages (from matplotlib==3.3.1->-r requirements.txt (line 3)) (7.1.2)\n",
            "Requirement already satisfied: cycler>=0.10 in /usr/local/lib/python3.7/dist-packages (from matplotlib==3.3.1->-r requirements.txt (line 3)) (0.11.0)\n",
            "Requirement already satisfied: python-dateutil>=2.1 in /usr/local/lib/python3.7/dist-packages (from matplotlib==3.3.1->-r requirements.txt (line 3)) (2.8.2)\n",
            "Requirement already satisfied: certifi>=2020.06.20 in /usr/local/lib/python3.7/dist-packages (from matplotlib==3.3.1->-r requirements.txt (line 3)) (2022.6.15)\n",
            "Requirement already satisfied: pyparsing!=2.0.4,!=2.1.2,!=2.1.6,>=2.0.3 in /usr/local/lib/python3.7/dist-packages (from matplotlib==3.3.1->-r requirements.txt (line 3)) (3.0.9)\n",
            "Requirement already satisfied: kiwisolver>=1.0.1 in /usr/local/lib/python3.7/dist-packages (from matplotlib==3.3.1->-r requirements.txt (line 3)) (1.4.4)\n",
            "Collecting segments\n",
            "  Downloading segments-2.2.1-py2.py3-none-any.whl (15 kB)\n",
            "Requirement already satisfied: attrs>=18.1 in /usr/local/lib/python3.7/dist-packages (from phonemizer==2.2.1->-r requirements.txt (line 5)) (22.1.0)\n",
            "Requirement already satisfied: absl-py>=0.4 in /usr/local/lib/python3.7/dist-packages (from tensorboard==2.3.0->-r requirements.txt (line 7)) (1.2.0)\n",
            "Requirement already satisfied: grpcio>=1.24.3 in /usr/local/lib/python3.7/dist-packages (from tensorboard==2.3.0->-r requirements.txt (line 7)) (1.48.1)\n",
            "Requirement already satisfied: setuptools>=41.0.0 in /usr/local/lib/python3.7/dist-packages (from tensorboard==2.3.0->-r requirements.txt (line 7)) (57.4.0)\n",
            "Requirement already satisfied: tensorboard-plugin-wit>=1.6.0 in /usr/local/lib/python3.7/dist-packages (from tensorboard==2.3.0->-r requirements.txt (line 7)) (1.8.1)\n",
            "Requirement already satisfied: werkzeug>=0.11.15 in /usr/local/lib/python3.7/dist-packages (from tensorboard==2.3.0->-r requirements.txt (line 7)) (1.0.1)\n",
            "Requirement already satisfied: google-auth<2,>=1.6.3 in /usr/local/lib/python3.7/dist-packages (from tensorboard==2.3.0->-r requirements.txt (line 7)) (1.35.0)\n",
            "Requirement already satisfied: markdown>=2.6.8 in /usr/local/lib/python3.7/dist-packages (from tensorboard==2.3.0->-r requirements.txt (line 7)) (3.4.1)\n",
            "Requirement already satisfied: requests<3,>=2.21.0 in /usr/local/lib/python3.7/dist-packages (from tensorboard==2.3.0->-r requirements.txt (line 7)) (2.23.0)\n",
            "Requirement already satisfied: protobuf>=3.6.0 in /usr/local/lib/python3.7/dist-packages (from tensorboard==2.3.0->-r requirements.txt (line 7)) (3.17.3)\n",
            "Requirement already satisfied: google-auth-oauthlib<0.5,>=0.4.1 in /usr/local/lib/python3.7/dist-packages (from tensorboard==2.3.0->-r requirements.txt (line 7)) (0.4.6)\n",
            "Requirement already satisfied: six>=1.10.0 in /usr/local/lib/python3.7/dist-packages (from tensorboard==2.3.0->-r requirements.txt (line 7)) (1.15.0)\n",
            "Requirement already satisfied: wheel>=0.26 in /usr/local/lib/python3.7/dist-packages (from tensorboard==2.3.0->-r requirements.txt (line 7)) (0.37.1)\n",
            "Requirement already satisfied: pyasn1-modules>=0.2.1 in /usr/local/lib/python3.7/dist-packages (from google-auth<2,>=1.6.3->tensorboard==2.3.0->-r requirements.txt (line 7)) (0.2.8)\n",
            "Requirement already satisfied: cachetools<5.0,>=2.0.0 in /usr/local/lib/python3.7/dist-packages (from google-auth<2,>=1.6.3->tensorboard==2.3.0->-r requirements.txt (line 7)) (4.2.4)\n",
            "Requirement already satisfied: rsa<5,>=3.1.4 in /usr/local/lib/python3.7/dist-packages (from google-auth<2,>=1.6.3->tensorboard==2.3.0->-r requirements.txt (line 7)) (4.9)\n",
            "Requirement already satisfied: requests-oauthlib>=0.7.0 in /usr/local/lib/python3.7/dist-packages (from google-auth-oauthlib<0.5,>=0.4.1->tensorboard==2.3.0->-r requirements.txt (line 7)) (1.3.1)\n",
            "Requirement already satisfied: typing-extensions in /usr/local/lib/python3.7/dist-packages (from kiwisolver>=1.0.1->matplotlib==3.3.1->-r requirements.txt (line 3)) (4.1.1)\n",
            "Requirement already satisfied: importlib-metadata>=4.4 in /usr/local/lib/python3.7/dist-packages (from markdown>=2.6.8->tensorboard==2.3.0->-r requirements.txt (line 7)) (4.12.0)\n",
            "Requirement already satisfied: zipp>=0.5 in /usr/local/lib/python3.7/dist-packages (from importlib-metadata>=4.4->markdown>=2.6.8->tensorboard==2.3.0->-r requirements.txt (line 7)) (3.8.1)\n",
            "Requirement already satisfied: llvmlite<0.40,>=0.39.0dev0 in /usr/local/lib/python3.7/dist-packages (from numba>=0.43.0->librosa==0.8.0->-r requirements.txt (line 2)) (0.39.1)\n",
            "Requirement already satisfied: appdirs>=1.3.0 in /usr/local/lib/python3.7/dist-packages (from pooch>=1.0->librosa==0.8.0->-r requirements.txt (line 2)) (1.4.4)\n",
            "Requirement already satisfied: packaging>=20.0 in /usr/local/lib/python3.7/dist-packages (from pooch>=1.0->librosa==0.8.0->-r requirements.txt (line 2)) (21.3)\n",
            "Requirement already satisfied: pyasn1<0.5.0,>=0.4.6 in /usr/local/lib/python3.7/dist-packages (from pyasn1-modules>=0.2.1->google-auth<2,>=1.6.3->tensorboard==2.3.0->-r requirements.txt (line 7)) (0.4.8)\n",
            "Requirement already satisfied: idna<3,>=2.5 in /usr/local/lib/python3.7/dist-packages (from requests<3,>=2.21.0->tensorboard==2.3.0->-r requirements.txt (line 7)) (2.10)\n",
            "Requirement already satisfied: urllib3!=1.25.0,!=1.25.1,<1.26,>=1.21.1 in /usr/local/lib/python3.7/dist-packages (from requests<3,>=2.21.0->tensorboard==2.3.0->-r requirements.txt (line 7)) (1.24.3)\n",
            "Requirement already satisfied: chardet<4,>=3.0.2 in /usr/local/lib/python3.7/dist-packages (from requests<3,>=2.21.0->tensorboard==2.3.0->-r requirements.txt (line 7)) (3.0.4)\n",
            "Requirement already satisfied: oauthlib>=3.0.0 in /usr/local/lib/python3.7/dist-packages (from requests-oauthlib>=0.7.0->google-auth-oauthlib<0.5,>=0.4.1->tensorboard==2.3.0->-r requirements.txt (line 7)) (3.2.0)\n",
            "Requirement already satisfied: threadpoolctl>=2.0.0 in /usr/local/lib/python3.7/dist-packages (from scikit-learn!=0.19.0,>=0.14.0->librosa==0.8.0->-r requirements.txt (line 2)) (3.1.0)\n",
            "Requirement already satisfied: cffi>=1.0 in /usr/local/lib/python3.7/dist-packages (from soundfile>=0.9.0->librosa==0.8.0->-r requirements.txt (line 2)) (1.15.1)\n",
            "Requirement already satisfied: pycparser in /usr/local/lib/python3.7/dist-packages (from cffi>=1.0->soundfile>=0.9.0->librosa==0.8.0->-r requirements.txt (line 2)) (2.21)\n",
            "Requirement already satisfied: tqdm in /usr/local/lib/python3.7/dist-packages (from torchcrepe->-r requirements.txt (line 10)) (4.64.1)\n",
            "Collecting torchcrepe\n",
            "  Downloading torchcrepe-0.0.16-py3-none-any.whl (72.3 MB)\n",
            "\u001b[K     |████████████████████████████████| 72.3 MB 8.6 kB/s \n",
            "\u001b[?25h  Downloading torchcrepe-0.0.15-py3-none-any.whl (72.3 MB)\n",
            "\u001b[K     |████████████████████████████████| 72.3 MB 5.1 kB/s \n",
            "\u001b[?25hCollecting csvw>=1.5.6\n",
            "  Downloading csvw-3.1.1-py2.py3-none-any.whl (56 kB)\n",
            "\u001b[K     |████████████████████████████████| 56 kB 5.1 MB/s \n",
            "\u001b[?25hRequirement already satisfied: regex in /usr/local/lib/python3.7/dist-packages (from segments->phonemizer==2.2.1->-r requirements.txt (line 5)) (2022.6.2)\n",
            "Collecting clldutils>=1.7.3\n",
            "  Downloading clldutils-3.12.0-py2.py3-none-any.whl (197 kB)\n",
            "\u001b[K     |████████████████████████████████| 197 kB 18.2 MB/s \n",
            "\u001b[?25hRequirement already satisfied: tabulate>=0.7.7 in /usr/local/lib/python3.7/dist-packages (from clldutils>=1.7.3->segments->phonemizer==2.2.1->-r requirements.txt (line 5)) (0.8.10)\n",
            "Collecting colorlog\n",
            "  Downloading colorlog-6.7.0-py2.py3-none-any.whl (11 kB)\n",
            "Collecting colorama\n",
            "  Downloading colorama-0.4.5-py2.py3-none-any.whl (16 kB)\n",
            "Requirement already satisfied: jsonschema in /usr/local/lib/python3.7/dist-packages (from csvw>=1.5.6->segments->phonemizer==2.2.1->-r requirements.txt (line 5)) (4.3.3)\n",
            "Collecting rfc3986<2\n",
            "  Downloading rfc3986-1.5.0-py2.py3-none-any.whl (31 kB)\n",
            "Collecting isodate\n",
            "  Downloading isodate-0.6.1-py2.py3-none-any.whl (41 kB)\n",
            "\u001b[K     |████████████████████████████████| 41 kB 589 kB/s \n",
            "\u001b[?25hCollecting language-tags\n",
            "  Downloading language_tags-1.1.0-py2.py3-none-any.whl (210 kB)\n",
            "\u001b[K     |████████████████████████████████| 210 kB 73.4 MB/s \n",
            "\u001b[?25hRequirement already satisfied: uritemplate>=3.0.0 in /usr/local/lib/python3.7/dist-packages (from csvw>=1.5.6->segments->phonemizer==2.2.1->-r requirements.txt (line 5)) (3.0.1)\n",
            "Requirement already satisfied: babel in /usr/local/lib/python3.7/dist-packages (from csvw>=1.5.6->segments->phonemizer==2.2.1->-r requirements.txt (line 5)) (2.10.3)\n",
            "Collecting rdflib\n",
            "  Downloading rdflib-6.2.0-py3-none-any.whl (500 kB)\n",
            "\u001b[K     |████████████████████████████████| 500 kB 75.5 MB/s \n",
            "\u001b[?25hRequirement already satisfied: pytz>=2015.7 in /usr/local/lib/python3.7/dist-packages (from babel->csvw>=1.5.6->segments->phonemizer==2.2.1->-r requirements.txt (line 5)) (2022.2.1)\n",
            "Requirement already satisfied: importlib-resources>=1.4.0 in /usr/local/lib/python3.7/dist-packages (from jsonschema->csvw>=1.5.6->segments->phonemizer==2.2.1->-r requirements.txt (line 5)) (5.9.0)\n",
            "Requirement already satisfied: pyrsistent!=0.17.0,!=0.17.1,!=0.17.2,>=0.14.0 in /usr/local/lib/python3.7/dist-packages (from jsonschema->csvw>=1.5.6->segments->phonemizer==2.2.1->-r requirements.txt (line 5)) (0.18.1)\n",
            "Building wheels for collected packages: librosa, pyworld\n",
            "  Building wheel for librosa (setup.py) ... \u001b[?25l\u001b[?25hdone\n",
            "  Created wheel for librosa: filename=librosa-0.8.0-py3-none-any.whl size=201396 sha256=9dc4efbc01a4def5a7976597212253614d505ee0effdb917db7316322bc04952\n",
            "  Stored in directory: /root/.cache/pip/wheels/de/1e/aa/d91797ae7e1ce11853ee100bee9d1781ae9d750e7458c95afb\n",
            "  Building wheel for pyworld (PEP 517) ... \u001b[?25l\u001b[?25hdone\n",
            "  Created wheel for pyworld: filename=pyworld-0.3.0-cp37-cp37m-linux_x86_64.whl size=609482 sha256=12a80731b125b8caf1fdea5686e89bcae12d91e53a536234facbad5b8ec931f4\n",
            "  Stored in directory: /root/.cache/pip/wheels/e7/7c/11/c775fffa0e1e7b05a6604b4323408a77f80fb4ab304d96b5c6\n",
            "Successfully built librosa pyworld\n",
            "Installing collected packages: isodate, rfc3986, rdflib, numpy, language-tags, colorama, scipy, csvw, colorlog, clldutils, segments, librosa, Cython, Unidecode, torchcrepe, tensorboard, pyworld, phonemizer, matplotlib\n",
            "  Attempting uninstall: numpy\n",
            "    Found existing installation: numpy 1.21.6\n",
            "    Uninstalling numpy-1.21.6:\n",
            "      Successfully uninstalled numpy-1.21.6\n",
            "  Attempting uninstall: scipy\n",
            "    Found existing installation: scipy 1.7.3\n",
            "    Uninstalling scipy-1.7.3:\n",
            "      Successfully uninstalled scipy-1.7.3\n",
            "  Attempting uninstall: librosa\n",
            "    Found existing installation: librosa 0.8.1\n",
            "    Uninstalling librosa-0.8.1:\n",
            "      Successfully uninstalled librosa-0.8.1\n",
            "  Attempting uninstall: Cython\n",
            "    Found existing installation: Cython 0.29.32\n",
            "    Uninstalling Cython-0.29.32:\n",
            "      Successfully uninstalled Cython-0.29.32\n",
            "  Attempting uninstall: tensorboard\n",
            "    Found existing installation: tensorboard 2.8.0\n",
            "    Uninstalling tensorboard-2.8.0:\n",
            "      Successfully uninstalled tensorboard-2.8.0\n",
            "  Attempting uninstall: matplotlib\n",
            "    Found existing installation: matplotlib 3.2.2\n",
            "    Uninstalling matplotlib-3.2.2:\n",
            "      Successfully uninstalled matplotlib-3.2.2\n",
            "\u001b[31mERROR: pip's dependency resolver does not currently take into account all the packages that are installed. This behaviour is the source of the following dependency conflicts.\n",
            "xarray-einstats 0.2.2 requires numpy>=1.21, but you have numpy 1.18.5 which is incompatible.\n",
            "tensorflow 2.8.2+zzzcolab20220719082949 requires numpy>=1.20, but you have numpy 1.18.5 which is incompatible.\n",
            "tensorflow 2.8.2+zzzcolab20220719082949 requires tensorboard<2.9,>=2.8, but you have tensorboard 2.3.0 which is incompatible.\n",
            "tables 3.7.0 requires numpy>=1.19.0, but you have numpy 1.18.5 which is incompatible.\n",
            "plotnine 0.8.0 requires numpy>=1.19.0, but you have numpy 1.18.5 which is incompatible.\n",
            "jaxlib 0.3.15+cuda11.cudnn805 requires numpy>=1.19, but you have numpy 1.18.5 which is incompatible.\n",
            "jax 0.3.17 requires numpy>=1.20, but you have numpy 1.18.5 which is incompatible.\n",
            "cmdstanpy 1.0.7 requires numpy>=1.21, but you have numpy 1.18.5 which is incompatible.\u001b[0m\n",
            "Successfully installed Cython-0.29.21 Unidecode-1.1.1 clldutils-3.12.0 colorama-0.4.5 colorlog-6.7.0 csvw-3.1.1 isodate-0.6.1 language-tags-1.1.0 librosa-0.8.0 matplotlib-3.3.1 numpy-1.18.5 phonemizer-2.2.1 pyworld-0.3.0 rdflib-6.2.0 rfc3986-1.5.0 scipy-1.5.2 segments-2.2.1 tensorboard-2.3.0 torchcrepe-0.0.15\n"
          ]
        },
        {
          "output_type": "display_data",
          "data": {
            "application/vnd.colab-display-data+json": {
              "pip_warning": {
                "packages": [
                  "matplotlib",
                  "mpl_toolkits",
                  "numpy"
                ]
              }
            }
          },
          "metadata": {}
        },
        {
          "output_type": "stream",
          "name": "stdout",
          "text": [
            "/content/sovits_infer_rcell/wav_temp\n",
            "/content/sovits_infer_rcell\n"
          ]
        }
      ],
      "source": [
        "!git clone https://github.com/IceKyrin/sovits_infer_rcell\n",
        "%cd sovits_infer_rcell\n",
        "!pip install -r requirements.txt\n",
        "!mkdir pth\n",
        "!mkdir raw\n",
        "!mkdir results\n",
        "%cd wav_temp\n",
        "!mkdir input\n",
        "!mkdir output\n",
        "%cd .."
      ]
    },
    {
      "cell_type": "code",
      "execution_count": 3,
      "metadata": {
        "id": "RMUmOmIiX873",
        "outputId": "0d5e323f-cf6f-4ac0-fe62-843b9763c948",
        "colab": {
          "base_uri": "https://localhost:8080/"
        }
      },
      "outputs": [
        {
          "output_type": "stream",
          "name": "stdout",
          "text": [
            "Looking in indexes: https://pypi.org/simple, https://us-python.pkg.dev/colab-wheels/public/simple/\n",
            "Requirement already satisfied: pydub in /usr/local/lib/python3.7/dist-packages (0.25.1)\n"
          ]
        }
      ],
      "source": [
        "!pip install pydub\n",
        "import os\n",
        "import shutil\n",
        "import utils\n",
        "import torch\n",
        "import hubert\n",
        "import librosa\n",
        "import logging\n",
        "import soundfile\n",
        "import torchcrepe\n",
        "import torchaudio\n",
        "import numpy as np\n",
        "from wav_temp import merge\n",
        "from models import SynthesizerTrn\n",
        "from text.symbols import symbols\n",
        "from text import text_to_sequence\n",
        "from pydub import AudioSegment\n",
        "\n",
        "logging.getLogger('numba').setLevel(logging.WARNING)\n",
        "\n",
        "# python删除文件的方法 os.remove(path)path指的是文件的绝对路径,如：\n",
        "def del_file(path_data):\n",
        "    for i in os.listdir(path_data):  # os.listdir(path_data)#返回一个列表，里面是当前目录下面的所有东西的相对路径\n",
        "        os.remove(path_data + i)\n",
        "\n",
        "\n",
        "def cut(cut_time, file_path, vocal_name, out_dir):\n",
        "    audio_segment = AudioSegment.from_file(file_path, format='wav')\n",
        "\n",
        "    total = int(audio_segment.duration_seconds / cut_time)  # 计算音频切片后的个数\n",
        "    for i in range(total):\n",
        "        # 将音频10s切片，并以顺序进行命名\n",
        "        audio_segment[i * cut_time * 1000:(i + 1) * cut_time * 1000].export(f\"{out_dir}/{vocal_name}-{i}.wav\",\n",
        "                                                                            format=\"wav\")\n",
        "    audio_segment[total * cut_time * 1000:].export(f\"{out_dir}/{vocal_name}-{total}.wav\", format=\"wav\")  # 缺少结尾的音频片段\n",
        "\n",
        "\n",
        "def resample_to_22050(audio_path):\n",
        "    raw_audio, raw_sample_rate = torchaudio.load(audio_path)\n",
        "    audio_22050 = torchaudio.transforms.Resample(orig_freq=raw_sample_rate, new_freq=22050)(raw_audio)[0]\n",
        "    soundfile.write(audio_path, audio_22050, 22050)\n",
        "\n",
        "\n",
        "def get_text(text, hps):\n",
        "    text_norm = text_to_sequence(text, hps.data.text_cleaners)\n",
        "    if hps.data.add_blank:\n",
        "        text_norm = commons.intersperse(text_norm, 0)\n",
        "    text_norm = torch.LongTensor(text_norm)\n",
        "    return text_norm\n",
        "\n",
        "\n",
        "def resize2d(source, target_len):\n",
        "    source[source < 0.001] = np.nan\n",
        "    target = np.interp(np.arange(0, len(source) * target_len, len(source)) / target_len, np.arange(0, len(source)),\n",
        "                       source)\n",
        "    return np.nan_to_num(target)\n",
        "\n",
        "\n",
        "def convert_wav_22050_to_f0():\n",
        "    if torch.cuda.is_available():\n",
        "        audio, sr = torchcrepe.load.audio(source_path)\n",
        "        tmp = torchcrepe.predict(audio=audio, fmin=50, fmax=1050, #fmax=550,\n",
        "                                 sample_rate=22050, model='full',\n",
        "                                 batch_size=2048, device='cuda:0').numpy()[0]\n",
        "    else:\n",
        "        tmp = librosa.pyin(librosa.load(source_path)[0],\n",
        "                           fmin=librosa.note_to_hz('C2'),\n",
        "                           fmax=librosa.note_to_hz('C7'),\n",
        "                           frame_length=1780)[0]\n",
        "    f0 = np.zeros_like(tmp)\n",
        "    f0[tmp > 0] = tmp[tmp > 0]\n",
        "    return f0"
      ]
    },
    {
      "cell_type": "markdown",
      "metadata": {
        "id": "monWsXd-YUUb"
      },
      "source": [
        "# 加载模型"
      ]
    },
    {
      "cell_type": "markdown",
      "metadata": {
        "id": "EiHW39jFYhou"
      },
      "source": [
        "## 加载内容编码器"
      ]
    },
    {
      "cell_type": "code",
      "execution_count": 4,
      "metadata": {
        "id": "sZ2mXdCa10di",
        "outputId": "fa9a3146-1703-4ef1-e6fa-872de526f706",
        "colab": {
          "base_uri": "https://localhost:8080/"
        }
      },
      "outputs": [
        {
          "output_type": "stream",
          "name": "stdout",
          "text": [
            "/usr/local/lib/python3.7/dist-packages/gdown/cli.py:131: FutureWarning: Option `--id` was deprecated in version 4.3.1 and will be removed in 5.0. You don't need to pass it anymore to use a file ID.\n",
            "  category=FutureWarning,\n",
            "Downloading...\n",
            "From: https://drive.google.com/uc?id=1cA37nsiSnsouF2TJkaXb3_VoA-rbifTu\n",
            "To: /content/sovits_infer_rcell/pth/hubert.pt\n",
            "100% 378M/378M [00:02<00:00, 158MB/s]\n"
          ]
        }
      ],
      "source": [
        "# 这个东西是https://github.com/bshall/hubert/releases/tag/v0.1 的hubert-soft-0d54a1f4.pt，可以自己替换来源、但是不能换其他模型（路径自己改）。\n",
        "!gdown --id '1cA37nsiSnsouF2TJkaXb3_VoA-rbifTu' --output /content/sovits_infer_rcell/pth/hubert.pt\n",
        "hubert_soft = hubert.hubert_soft('/content/sovits_infer_rcell/pth/hubert.pt')"
      ]
    },
    {
      "cell_type": "markdown",
      "metadata": {
        "id": "5C5qnjljYoPX"
      },
      "source": [
        "## 加载生成器"
      ]
    },
    {
      "cell_type": "markdown",
      "source": [
        "如果要**替换自己的模型**，将 !gdown这行注释掉（行首加个“#”即可，注释成功则变绿）\n",
        "\n",
        "将**自己的配置json（上一篇生成了的）**上传至/content/sovits_infer_rcell/configs/文件夹\n",
        "将**自己的模型（上一篇生成了的）**上传至/content/sovits_infer_rcell/pth文件夹"
      ],
      "metadata": {
        "id": "rEXBSUEwtu6U"
      }
    },
    {
      "cell_type": "code",
      "execution_count": 5,
      "metadata": {
        "id": "YNtmkYruYVqL",
        "cellView": "form",
        "outputId": "45fb24e0-b80e-4ac1-8e47-4a1dd344ca49",
        "colab": {
          "base_uri": "https://localhost:8080/"
        }
      },
      "outputs": [
        {
          "output_type": "stream",
          "name": "stdout",
          "text": [
            "Mounted at /content/drive/\n"
          ]
        }
      ],
      "source": [
        "from google.colab import drive\n",
        "\n",
        "#@markdown 是否使用谷歌盘内模型（不勾选则自动下载十人预模型/猫雷）\n",
        "g_drive = True #@param {type:\"boolean\"}\n",
        "if g_drive:\n",
        "  drive.mount('/content/drive/')\n",
        "  config_path = \"/content/drive/MyDrive/lamianer/config.json\" #@param {type:\"string\"}\n",
        "  model_path = '/content/drive/MyDrive/lamianer/2501_epochs.pth' #@param {type:\"string\"}\n",
        "else:\n",
        "  #@markdown 是否使用十人预模型（不勾选则自动下载猫雷）\n",
        "  pre_pth = False #@param {type:\"boolean\"}\n",
        "  if pre_pth:\n",
        "    !gdown --id '18AjNe4ICb4esodRsLsnWd5Je7rUcHK-h' --output /content/sovits_infer_rcell/pth/G.pth\n",
        "    config_path = \"./configs/lang_pre.json\"\n",
        "  else:\n",
        "    # 这个东西是https://huggingface.co/spaces/innnky/soft-vits-singingvc 的G.pth（猫雷），可以换成自己的模型（必须是按照sovits方式训练出的其他角色模型）\n",
        "    !gdown --id '1gg1Igsa7nOtsLohtv-hNq2mmXCsbFqZJ' --output /content/sovits_infer_rcell/pth/G.pth\n",
        "    config_path = \"./configs/vctk_base.json\"\n",
        "  model_path = \"/content/sovits_infer_rcell/pth/G.pth\"\n",
        "\n",
        "hps_ms = utils.get_hparams_from_file(config_path)\n",
        "dev = torch.device(\"cuda\" if torch.cuda.is_available() else \"cpu\")\n",
        "net_g_ms = SynthesizerTrn(\n",
        "    len(symbols),\n",
        "    hps_ms.data.filter_length // 2 + 1,\n",
        "    hps_ms.train.segment_size // hps_ms.data.hop_length,\n",
        "    n_speakers=hps_ms.data.n_speakers,\n",
        "    **hps_ms.model)\n",
        "_ = utils.load_checkpoint(model_path, net_g_ms, None)\n",
        "_ = net_g_ms.eval().to(dev)"
      ]
    },
    {
      "cell_type": "markdown",
      "metadata": {
        "id": "oy-GDKKsZl-j"
      },
      "source": [
        "# 声音转换\n",
        "\n",
        "支持{1、2}**任选一个方式**的声音转换！\n",
        "支持**10s以上5分钟以内**的音频（再久合成时间会过长）。\n",
        "上传到/content/sovits_infer_rcell/raw文件夹，支持自动合成歌曲\n",
        "\n",
        "使用[spleeter](https://github.com/deezer/spleeter)的2stems模式分离歌曲，自动生成这两个文件。（请自行阅读官方使用文档）\n",
        "\n",
        "spleeter separate -p spleeter:2stems -o output audio_example.mp3\n",
        "\n",
        "**结果自动输出至results文件夹。**自行下载，无预览\n",
        "mp3为自动合成的带伴奏歌曲，out_vits为纯人声。"
      ]
    },
    {
      "cell_type": "markdown",
      "source": [
        "跑调破音基本是因为直播采样到的音域不够，这个没办法。（狗头）猫雷高音上不去、低音下不去。\n",
        "例子是牵丝戏，可以不下。明显感觉开头的低音、戏腔都炸了，其他部分还好。"
      ],
      "metadata": {
        "id": "YIYXbcATPaXw"
      }
    },
    {
      "cell_type": "code",
      "source": [
        "# 进results下载试听\n",
        "!gdown --id '1ymJDK1VSESzv2xv_2Ce8h4QoSnzoplt7' --output /content/sovits_infer_rcell/results/demo.mp3"
      ],
      "metadata": {
        "id": "XbBW_XMOQKYj"
      },
      "execution_count": null,
      "outputs": []
    },
    {
      "cell_type": "markdown",
      "metadata": {
        "id": "CqCACnGFbOZE"
      },
      "source": [
        "1、使用参考音频"
      ]
    },
    {
      "cell_type": "code",
      "execution_count": null,
      "metadata": {
        "id": "VX_Rgrc6iQtt"
      },
      "outputs": [],
      "source": [
        "!gdown --id '10JQMPdzp0gjg9cVVersxVZWhIr4UwrFF' --output /content/sovits_infer_rcell/raw/vocals.wav\n",
        "!gdown --id '1lwmw9P-kgNYjjUveD8J_HuF_yfcdnoHJ' --output /content/sovits_infer_rcell/raw/bgm.wav"
      ]
    },
    {
      "cell_type": "markdown",
      "metadata": {
        "id": "JmYTeL_BiXty"
      },
      "source": [
        "2、使用上传音频\n",
        "\n",
        "自行上传至raw文件夹（单声道，22050hz，wav格式），可有bgm.wav（必须为wav格式），无伴奏则为纯人声合成"
      ]
    },
    {
      "cell_type": "markdown",
      "metadata": {
        "id": "7wHXCofJ_64b"
      },
      "source": [
        "3、合成音频"
      ]
    },
    {
      "cell_type": "code",
      "execution_count": null,
      "metadata": {
        "id": "MXoalx7B2NEv",
        "outputId": "0ebbbb2b-4532-4bc8-da78-48d7488edf50",
        "colab": {
          "base_uri": "https://localhost:8080/"
        }
      },
      "outputs": [
        {
          "output_type": "stream",
          "name": "stdout",
          "text": [
            "torch.Size([1, 256, 1500]) tensor([1500], device='cuda:0')\n",
            "torch.Size([1, 1, 1500])\n",
            "tensor([2580], device='cuda:0')\n",
            "summer_ED2_vocal-3.wav success: 10.00%\n",
            "torch.Size([1, 256, 1500]) tensor([1500], device='cuda:0')\n",
            "torch.Size([1, 1, 1500])\n",
            "tensor([2580], device='cuda:0')\n",
            "summer_ED2_vocal-1.wav success: 20.00%\n",
            "torch.Size([1, 256, 1500]) tensor([1500], device='cuda:0')\n",
            "torch.Size([1, 1, 1500])\n",
            "tensor([2580], device='cuda:0')\n",
            "summer_ED2_vocal-4.wav success: 30.00%\n",
            "torch.Size([1, 256, 1459]) tensor([1459], device='cuda:0')\n",
            "torch.Size([1, 1, 1459])\n",
            "tensor([2509], device='cuda:0')\n",
            "summer_ED2_vocal-9.wav success: 40.00%\n",
            "torch.Size([1, 256, 1500]) tensor([1500], device='cuda:0')\n",
            "torch.Size([1, 1, 1500])\n",
            "tensor([2580], device='cuda:0')\n",
            "summer_ED2_vocal-5.wav success: 50.00%\n"
          ]
        }
      ],
      "source": [
        "#@markdown **单声道，22050hz，wav格式**\n",
        "\n",
        "#@markdown 角色id——猫雷模型：0号为猫雷\n",
        "\n",
        "#@markdown 预模型——音色列表：（即霜效果较好）\n",
        "\n",
        "#@markdown 0、辉宇·星  1、星羽、光  2、opencpop中文歌声公开数据集  3、jsut日语公开数据集\n",
        "\n",
        "#@markdown 4、崇山悟  5、奕兰秋  6、云灏  7、遂安  8、即霜  9、雯喣\n",
        "\n",
        "#@markdown 角色id\n",
        "speaker_id = \"0\" #@param {type:\"string\"}\n",
        "\n",
        "#@markdown 人声文件名（不带.wav）\n",
        "clean_name = \"summer_ED2_vocal\" #@param {type:\"string\"}\n",
        "#@markdown 伴奏文件名（可以不放伴奏）（不带.wav）\n",
        "bgm_name = \"\" #@param {type:\"string\"}\n",
        "#@markdown 每次处理的长度，建议30s以内，大了炸显存\n",
        "cut_time = \"30\" #@param {type:\"string\"}\n",
        "#@markdown 变音高，一般不动\n",
        "vc_transform = \"0\" #@param {type:\"string\"}\n",
        "\n",
        "\n",
        "out_audio_name = clean_name\n",
        "\n",
        "resample_to_22050(f'/content/drive/MyDrive/music/raw/{clean_name}.wav')\n",
        "del_file(\"./wav_temp/input/\")\n",
        "del_file(\"./wav_temp/output/\")\n",
        "\n",
        "raw_audio_path = f\"/content/drive/MyDrive/music/raw/{clean_name}.wav\"\n",
        "\n",
        "audio, sample_rate = torchaudio.load(raw_audio_path)\n",
        "\n",
        "audio_time = audio.shape[-1] / 22050\n",
        "if audio_time > 1.3 * int(cut_time):\n",
        "    cut(int(cut_time), raw_audio_path, clean_name, \"./wav_temp/input\")\n",
        "else:\n",
        "    shutil.copy(f\"/content/drive/MyDrive/music/raw/{clean_name}.wav\", f\"./wav_temp/input/{clean_name}-0.wav\")\n",
        "file_list = os.listdir(\"./wav_temp/input\")\n",
        "\n",
        "count = 0\n",
        "for file_name in file_list:\n",
        "    source_path = \"./wav_temp/input/\" + file_name\n",
        "    vc_transform = 1\n",
        "    audio, sample_rate = torchaudio.load(source_path)\n",
        "    input_size = audio.shape[-1]\n",
        "    if sample_rate != 16000:\n",
        "        audio = torchaudio.transforms.Resample(orig_freq=sample_rate, new_freq=16000)(audio)[0]\n",
        "    audio22050 = torchaudio.transforms.Resample(orig_freq=16000, new_freq=22050)(audio)[0]\n",
        "\n",
        "    # 此版本使用torchcrepe加速获取f0\n",
        "    f0 = convert_wav_22050_to_f0()\n",
        "\n",
        "    source = torch.FloatTensor(audio).unsqueeze(0).unsqueeze(0)\n",
        "    with torch.inference_mode():\n",
        "        units = hubert_soft.units(source)\n",
        "        soft = units.squeeze(0).cpu().numpy()\n",
        "        f0 = resize2d(f0, len(soft[:, 0])) * int(vc_transform)\n",
        "        soft[:, 0] = f0 / 10\n",
        "\n",
        "    sid = torch.LongTensor([int(speaker_id)]).to(dev)\n",
        "    stn_tst = torch.FloatTensor(soft)\n",
        "    x_tst = stn_tst.to(dev).unsqueeze(0)\n",
        "    x_tst_lengths = torch.LongTensor([stn_tst.size(0)]).to(dev)\n",
        "\n",
        "    with torch.no_grad():\n",
        "        audio = net_g_ms.infer(x_tst, x_tst_lengths, sid=sid, noise_scale=0, noise_scale_w=0, length_scale=1)[0][\n",
        "            0, 0].data.cpu().float().numpy()\n",
        "    soundfile.write(\"./wav_temp/output/\" + file_name, audio, int(audio.shape[0] / input_size * 22050))\n",
        "    count += 1\n",
        "    print(\"%s success: %.2f%%\" % (file_name, 100 * count / len(file_list)))\n",
        "merge.run(clean_name, bgm_name, out_audio_name)"
      ]
    },
    {
      "cell_type": "code",
      "source": [
        "import IPython.display as ipd\n",
        "import torchaudio\n",
        "#@markdown 预览干声（自行进results查看文件名，带.wav，仅支持wav）\n",
        "source_path = \"/content/sovits_infer_rcell/results/vocals.wav\"  #@param {type:\"string\"}\n",
        "audio,sr = torchaudio.load(source_path)\n",
        "ipd.display(ipd.Audio(audio, rate=sr))"
      ],
      "metadata": {
        "cellView": "form",
        "id": "vjkgBV7j2cVJ"
      },
      "execution_count": null,
      "outputs": []
    },
    {
      "cell_type": "markdown",
      "metadata": {
        "id": "Qi1ajEiZftyN"
      },
      "source": [
        "# 参考\n",
        "\n",
        "https://github.com/bshall/soft-vc\n",
        "\n",
        "[基于VITS和SoftVC实现任意对一VoiceConversion](https://www.bilibili.com/video/BV1S14y1x78X?share_source=copy_web&vd_source=630b87174c967a898cae3765fba3bfa8)\n",
        "\n"
      ]
    }
  ],
  "metadata": {
    "colab": {
      "collapsed_sections": [],
      "provenance": [],
      "include_colab_link": true
    },
    "gpuClass": "standard",
    "interpreter": {
      "hash": "742fb0cf312e06021cb7ef6febc33961079fd3903e709e6dbd223a75c181bd01"
    },
    "kernelspec": {
      "display_name": "Python 3.8.13 ('torch')",
      "language": "python",
      "name": "python3"
    },
    "language_info": {
      "codemirror_mode": {
        "name": "ipython",
        "version": 3
      },
      "file_extension": ".py",
      "mimetype": "text/x-python",
      "name": "python",
      "nbconvert_exporter": "python",
      "pygments_lexer": "ipython3",
      "version": "3.8.13"
    },
    "accelerator": "GPU"
  },
  "nbformat": 4,
  "nbformat_minor": 0
}