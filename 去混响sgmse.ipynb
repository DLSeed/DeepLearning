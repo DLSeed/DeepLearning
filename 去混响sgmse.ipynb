{
  "nbformat": 4,
  "nbformat_minor": 0,
  "metadata": {
    "colab": {
      "provenance": [],
      "authorship_tag": "ABX9TyNFz3dPupFFZiQwIK0gypW+",
      "include_colab_link": true
    },
    "kernelspec": {
      "name": "python3",
      "display_name": "Python 3"
    },
    "language_info": {
      "name": "python"
    },
    "accelerator": "GPU",
    "gpuClass": "standard"
  },
  "cells": [
    {
      "cell_type": "markdown",
      "metadata": {
        "id": "view-in-github",
        "colab_type": "text"
      },
      "source": [
        "<a href=\"https://colab.research.google.com/github/DLSeed/DeepLearning/blob/main/%E5%8E%BB%E6%B7%B7%E5%93%8Dsgmse.ipynb\" target=\"_parent\"><img src=\"https://colab.research.google.com/assets/colab-badge.svg\" alt=\"Open In Colab\"/></a>"
      ]
    },
    {
      "cell_type": "code",
      "source": [
        "!nvidia-smi"
      ],
      "metadata": {
        "id": "GtNNkCmELrWl",
        "outputId": "973a1294-525d-4d27-a018-bed0b4dde677",
        "colab": {
          "base_uri": "https://localhost:8080/"
        }
      },
      "execution_count": 1,
      "outputs": [
        {
          "output_type": "stream",
          "name": "stdout",
          "text": [
            "Mon Oct 10 04:37:46 2022       \n",
            "+-----------------------------------------------------------------------------+\n",
            "| NVIDIA-SMI 460.32.03    Driver Version: 460.32.03    CUDA Version: 11.2     |\n",
            "|-------------------------------+----------------------+----------------------+\n",
            "| GPU  Name        Persistence-M| Bus-Id        Disp.A | Volatile Uncorr. ECC |\n",
            "| Fan  Temp  Perf  Pwr:Usage/Cap|         Memory-Usage | GPU-Util  Compute M. |\n",
            "|                               |                      |               MIG M. |\n",
            "|===============================+======================+======================|\n",
            "|   0  Tesla T4            Off  | 00000000:00:04.0 Off |                    0 |\n",
            "| N/A   50C    P8    10W /  70W |      0MiB / 15109MiB |      0%      Default |\n",
            "|                               |                      |                  N/A |\n",
            "+-------------------------------+----------------------+----------------------+\n",
            "                                                                               \n",
            "+-----------------------------------------------------------------------------+\n",
            "| Processes:                                                                  |\n",
            "|  GPU   GI   CI        PID   Type   Process name                  GPU Memory |\n",
            "|        ID   ID                                                   Usage      |\n",
            "|=============================================================================|\n",
            "|  No running processes found                                                 |\n",
            "+-----------------------------------------------------------------------------+\n"
          ]
        }
      ]
    },
    {
      "cell_type": "code",
      "source": [
        "from google.colab import drive\n",
        "drive.mount('/content/drive/')\n"
      ],
      "metadata": {
        "colab": {
          "base_uri": "https://localhost:8080/"
        },
        "id": "XQP9Od5t2SOn",
        "outputId": "ba191fda-c5e8-4203-e2c5-d96bd6c1f9b1"
      },
      "execution_count": 2,
      "outputs": [
        {
          "output_type": "stream",
          "name": "stdout",
          "text": [
            "Mounted at /content/drive/\n"
          ]
        }
      ]
    },
    {
      "cell_type": "code",
      "source": [
        "!git clone https://github.com/sekiguchi92/SoundSourceSeparation.git\n",
        "!pip install -r /content/SoundSourceSeparation/src_torch/requirements.txt"
      ],
      "metadata": {
        "id": "Q9Wj9vyLLEXI",
        "outputId": "3e036da7-0d4c-4897-d813-85a13b1571ee",
        "colab": {
          "base_uri": "https://localhost:8080/"
        }
      },
      "execution_count": 5,
      "outputs": [
        {
          "output_type": "stream",
          "name": "stdout",
          "text": [
            "fatal: destination path 'SoundSourceSeparation' already exists and is not an empty directory.\n",
            "Looking in indexes: https://pypi.org/simple, https://us-python.pkg.dev/colab-wheels/public/simple/\n",
            "Requirement already satisfied: torch>=1.9 in /usr/local/lib/python3.7/dist-packages (from -r /content/SoundSourceSeparation/src_torch/requirements.txt (line 1)) (1.12.1+cu113)\n",
            "Requirement already satisfied: torchaudio>=0.9 in /usr/local/lib/python3.7/dist-packages (from -r /content/SoundSourceSeparation/src_torch/requirements.txt (line 2)) (0.12.1+cu113)\n",
            "Requirement already satisfied: tqdm in /usr/local/lib/python3.7/dist-packages (from -r /content/SoundSourceSeparation/src_torch/requirements.txt (line 3)) (4.64.1)\n",
            "Requirement already satisfied: typing-extensions in /usr/local/lib/python3.7/dist-packages (from torch>=1.9->-r /content/SoundSourceSeparation/src_torch/requirements.txt (line 1)) (4.1.1)\n"
          ]
        }
      ]
    },
    {
      "cell_type": "code",
      "source": [
        "%cd /content/SoundSourceSeparation/src_torch/separation\n",
        "!python FastMNMF2.py /content/drive/MyDrive/music/raw/Summer_ED2_HP2-4BAND-3090_4band_arch-500m_1_Vocals.wav  --gpu 0 "
      ],
      "metadata": {
        "id": "M2ZnOfrDLEh_",
        "outputId": "d22dea4b-3d08-4dc1-a1c2-5f7a2b9e6457",
        "colab": {
          "base_uri": "https://localhost:8080/"
        }
      },
      "execution_count": 9,
      "outputs": [
        {
          "output_type": "stream",
          "name": "stdout",
          "text": [
            "/content/SoundSourceSeparation/src_torch/separation\n",
            "Update FastMNMF2_IP-M=2-S=3-F=513-K=2-init=circular-g=0.05-bit=64-intv_norm=10  30 times ...\n",
            "100% 30/30 [01:49<00:00,  3.64s/it]\n",
            "Update FastMNMF2_IP-M=2-S=3-F=513-K=16-init=twostep_30it-g=0.05-bit=64-intv_norm=10-ID=Summer_ED2_HP2-4BAND-3090_4band_arch-500m_1_Vocals  70 times ...\n",
            "100% 70/70 [04:14<00:00,  3.64s/it]\n",
            "tcmalloc: large alloc 1268113408 bytes == 0x9b294000 @  0x7fc222002b6b 0x7fc222022379 0x7fc1b25bfd57 0x7fc1b25adbc3 0x7fc1dc4b787f 0x7fc1dc4b7aca 0x7fc1dc4b7b2f 0x7fc1dc9cae49 0x7fc1dd23ccb0 0x7fc1dcf883ee 0x7fc1dd215e4e 0x7fc1dcfc82c2 0x7fc1dc9c52f1 0x7fc1dd38f64b 0x7fc1dcd12fff 0x7fc1dd217fcc 0x7fc1dcd12fff 0x7fc1de29012b 0x7fc1de2905ae 0x7fc1dcd8afa4 0x7fc1dc9ba80b 0x7fc1dd48dae1 0x7fc1dcebb069 0x7fc20418a71d 0x7fc20418b9d6 0x4d1b90 0x51b31c 0x5b41c5 0x58f49e 0x51837f 0x5b41c5\n",
            "tcmalloc: large alloc 1265639424 bytes == 0xe6bf2000 @  0x7fc222002b6b 0x7fc222022379 0x7fc1b25bfd57 0x7fc1b25adbc3 0x7fc1dc4b86af 0x7fc1dc4b9020 0x7fc1dc4b9074 0x7fc1dc9cadef 0x7fc1dd23cb8b 0x7fc1dcf881d3 0x7fc1dd217b8f 0x7fc1dcfc5bf7 0x7fc1dcc80334 0x7fc1dd23cf6d 0x7fc1dd192a36 0x7fc1de53f6ac 0x7fc1de53fc33 0x7fc1dd1b80c7 0x7fc1dc96d21e 0x7fc1dd48c452 0x7fc1dcfdd138 0x7fc20426f9ef 0x58ed05 0x51babb 0x5b41c5 0x58f49e 0x51b221 0x5b41c5 0x4ba899 0x4d29f9 0x5913c6\n"
          ]
        }
      ]
    },
    {
      "cell_type": "code",
      "source": [
        "!cp /content/SoundSourceSeparation/src_torch/separation/FastMNMF2_IP-sep-M=2-S=3-F=513-K=16-init=twostep_30it-g=0.05-bit=64-intv_norm=10-ID=Summer_ED2_HP2-4BAND-3090_4band_arch-500m_1_Vocals-100.wav /content/drive/MyDrive/music/raw"
      ],
      "metadata": {
        "id": "hqSkp306LEp5"
      },
      "execution_count": 10,
      "outputs": []
    },
    {
      "cell_type": "code",
      "source": [],
      "metadata": {
        "id": "Pr5d0UJ6OErd"
      },
      "execution_count": null,
      "outputs": []
    },
    {
      "cell_type": "code",
      "execution_count": null,
      "metadata": {
        "colab": {
          "base_uri": "https://localhost:8080/"
        },
        "id": "Iq8uzQ6P1Rtu",
        "outputId": "94b89633-fe49-44e3-e8c3-462093a9d579"
      },
      "outputs": [
        {
          "output_type": "stream",
          "name": "stdout",
          "text": [
            "fatal: destination path 'sgmse' already exists and is not an empty directory.\n",
            "Looking in indexes: https://pypi.org/simple, https://us-python.pkg.dev/colab-wheels/public/simple/\n",
            "Requirement already satisfied: h5py==3.6.0 in /usr/local/lib/python3.7/dist-packages (from -r /content/drive/MyDrive/sgmse/requirements.txt (line 1)) (3.6.0)\n",
            "Requirement already satisfied: ipympl==0.8.8 in /usr/local/lib/python3.7/dist-packages (from -r /content/drive/MyDrive/sgmse/requirements.txt (line 2)) (0.8.8)\n",
            "Requirement already satisfied: ipywidgets==7.6.5 in /usr/local/lib/python3.7/dist-packages (from -r /content/drive/MyDrive/sgmse/requirements.txt (line 3)) (7.6.5)\n",
            "Requirement already satisfied: jupyter==1.0.0 in /usr/local/lib/python3.7/dist-packages (from -r /content/drive/MyDrive/sgmse/requirements.txt (line 4)) (1.0.0)\n",
            "Requirement already satisfied: jupyter-client==6.1.12 in /usr/local/lib/python3.7/dist-packages (from -r /content/drive/MyDrive/sgmse/requirements.txt (line 5)) (6.1.12)\n",
            "Requirement already satisfied: jupyter-console==6.4.0 in /usr/local/lib/python3.7/dist-packages (from -r /content/drive/MyDrive/sgmse/requirements.txt (line 6)) (6.4.0)\n",
            "Requirement already satisfied: jupyter-core==4.7.1 in /usr/local/lib/python3.7/dist-packages (from -r /content/drive/MyDrive/sgmse/requirements.txt (line 7)) (4.7.1)\n",
            "Requirement already satisfied: jupyterlab-pygments==0.1.2 in /usr/local/lib/python3.7/dist-packages (from -r /content/drive/MyDrive/sgmse/requirements.txt (line 8)) (0.1.2)\n",
            "Requirement already satisfied: jupyterlab-widgets==1.0.2 in /usr/local/lib/python3.7/dist-packages (from -r /content/drive/MyDrive/sgmse/requirements.txt (line 9)) (1.0.2)\n",
            "Requirement already satisfied: librosa==0.9.1 in /usr/local/lib/python3.7/dist-packages (from -r /content/drive/MyDrive/sgmse/requirements.txt (line 10)) (0.9.1)\n",
            "Requirement already satisfied: Ninja==1.10.2.3 in /usr/local/lib/python3.7/dist-packages (from -r /content/drive/MyDrive/sgmse/requirements.txt (line 11)) (1.10.2.3)\n",
            "Requirement already satisfied: numpy in /usr/local/lib/python3.7/dist-packages (from -r /content/drive/MyDrive/sgmse/requirements.txt (line 13)) (1.21.6)\n",
            "Requirement already satisfied: pandas in /usr/local/lib/python3.7/dist-packages (from -r /content/drive/MyDrive/sgmse/requirements.txt (line 15)) (1.3.5)\n",
            "Requirement already satisfied: pesq==0.0.4 in /usr/local/lib/python3.7/dist-packages (from -r /content/drive/MyDrive/sgmse/requirements.txt (line 16)) (0.0.4)\n",
            "Requirement already satisfied: Pillow==9.0.1 in /usr/local/lib/python3.7/dist-packages (from -r /content/drive/MyDrive/sgmse/requirements.txt (line 17)) (9.0.1)\n",
            "Requirement already satisfied: protobuf==3.19.4 in /usr/local/lib/python3.7/dist-packages (from -r /content/drive/MyDrive/sgmse/requirements.txt (line 18)) (3.19.4)\n",
            "Requirement already satisfied: pyroomacoustics==0.6.0 in /usr/local/lib/python3.7/dist-packages (from -r /content/drive/MyDrive/sgmse/requirements.txt (line 19)) (0.6.0)\n",
            "Requirement already satisfied: pystoi==0.3.3 in /usr/local/lib/python3.7/dist-packages (from -r /content/drive/MyDrive/sgmse/requirements.txt (line 20)) (0.3.3)\n",
            "Requirement already satisfied: pytorch-lightning==1.6.5 in /usr/local/lib/python3.7/dist-packages (from -r /content/drive/MyDrive/sgmse/requirements.txt (line 21)) (1.6.5)\n",
            "Requirement already satisfied: scipy in /usr/local/lib/python3.7/dist-packages (from -r /content/drive/MyDrive/sgmse/requirements.txt (line 23)) (1.7.3)\n",
            "Requirement already satisfied: sdeint==0.2.4 in /usr/local/lib/python3.7/dist-packages (from -r /content/drive/MyDrive/sgmse/requirements.txt (line 24)) (0.2.4)\n",
            "Requirement already satisfied: setuptools==59.5.0 in /usr/local/lib/python3.7/dist-packages (from -r /content/drive/MyDrive/sgmse/requirements.txt (line 25)) (59.5.0)\n",
            "Requirement already satisfied: seaborn==0.11.2 in /usr/local/lib/python3.7/dist-packages (from -r /content/drive/MyDrive/sgmse/requirements.txt (line 26)) (0.11.2)\n",
            "Collecting torch==1.12.0\n",
            "  Downloading torch-1.12.0-cp37-cp37m-manylinux1_x86_64.whl (776.3 MB)\n",
            "\u001b[K     |████████████████████████████████| 776.3 MB 19 kB/s \n",
            "\u001b[?25hRequirement already satisfied: torch-ema==0.3 in /usr/local/lib/python3.7/dist-packages (from -r /content/drive/MyDrive/sgmse/requirements.txt (line 28)) (0.3)\n",
            "Collecting torchaudio==0.12.0\n",
            "  Downloading torchaudio-0.12.0-cp37-cp37m-manylinux1_x86_64.whl (3.7 MB)\n",
            "\u001b[K     |████████████████████████████████| 3.7 MB 54.7 MB/s \n",
            "\u001b[?25hCollecting torchvision==0.13.0\n",
            "  Downloading torchvision-0.13.0-cp37-cp37m-manylinux1_x86_64.whl (19.1 MB)\n",
            "\u001b[K     |████████████████████████████████| 19.1 MB 986 kB/s \n",
            "\u001b[?25hCollecting torchinfo==1.6.3\n",
            "  Downloading torchinfo-1.6.3-py3-none-any.whl (20 kB)\n",
            "Collecting torchsde==0.2.5\n",
            "  Downloading torchsde-0.2.5-py3-none-any.whl (59 kB)\n",
            "\u001b[K     |████████████████████████████████| 59 kB 7.8 MB/s \n",
            "\u001b[?25hRequirement already satisfied: tqdm==4.63.0 in /usr/local/lib/python3.7/dist-packages (from -r /content/drive/MyDrive/sgmse/requirements.txt (line 33)) (4.63.0)\n",
            "Requirement already satisfied: wandb==0.12.11 in /usr/local/lib/python3.7/dist-packages (from -r /content/drive/MyDrive/sgmse/requirements.txt (line 34)) (0.12.11)\n",
            "Requirement already satisfied: cached-property in /usr/local/lib/python3.7/dist-packages (from h5py==3.6.0->-r /content/drive/MyDrive/sgmse/requirements.txt (line 1)) (1.5.2)\n",
            "Requirement already satisfied: ipython-genutils in /usr/local/lib/python3.7/dist-packages (from ipympl==0.8.8->-r /content/drive/MyDrive/sgmse/requirements.txt (line 2)) (0.2.0)\n",
            "Requirement already satisfied: traitlets<6 in /usr/local/lib/python3.7/dist-packages (from ipympl==0.8.8->-r /content/drive/MyDrive/sgmse/requirements.txt (line 2)) (5.1.1)\n",
            "Requirement already satisfied: ipython<9 in /usr/local/lib/python3.7/dist-packages (from ipympl==0.8.8->-r /content/drive/MyDrive/sgmse/requirements.txt (line 2)) (7.9.0)\n",
            "Requirement already satisfied: matplotlib<4,>=2.0.0 in /usr/local/lib/python3.7/dist-packages (from ipympl==0.8.8->-r /content/drive/MyDrive/sgmse/requirements.txt (line 2)) (3.2.2)\n",
            "Requirement already satisfied: nbformat>=4.2.0 in /usr/local/lib/python3.7/dist-packages (from ipywidgets==7.6.5->-r /content/drive/MyDrive/sgmse/requirements.txt (line 3)) (5.6.1)\n",
            "Requirement already satisfied: ipykernel>=4.5.1 in /usr/local/lib/python3.7/dist-packages (from ipywidgets==7.6.5->-r /content/drive/MyDrive/sgmse/requirements.txt (line 3)) (5.3.4)\n",
            "Requirement already satisfied: widgetsnbextension~=3.5.0 in /usr/local/lib/python3.7/dist-packages (from ipywidgets==7.6.5->-r /content/drive/MyDrive/sgmse/requirements.txt (line 3)) (3.5.2)\n",
            "Requirement already satisfied: nbconvert in /usr/local/lib/python3.7/dist-packages (from jupyter==1.0.0->-r /content/drive/MyDrive/sgmse/requirements.txt (line 4)) (5.6.1)\n",
            "Requirement already satisfied: notebook in /usr/local/lib/python3.7/dist-packages (from jupyter==1.0.0->-r /content/drive/MyDrive/sgmse/requirements.txt (line 4)) (5.3.1)\n",
            "Requirement already satisfied: qtconsole in /usr/local/lib/python3.7/dist-packages (from jupyter==1.0.0->-r /content/drive/MyDrive/sgmse/requirements.txt (line 4)) (5.3.2)\n",
            "Requirement already satisfied: tornado>=4.1 in /usr/local/lib/python3.7/dist-packages (from jupyter-client==6.1.12->-r /content/drive/MyDrive/sgmse/requirements.txt (line 5)) (5.1.1)\n",
            "Requirement already satisfied: python-dateutil>=2.1 in /usr/local/lib/python3.7/dist-packages (from jupyter-client==6.1.12->-r /content/drive/MyDrive/sgmse/requirements.txt (line 5)) (2.8.2)\n",
            "Requirement already satisfied: pyzmq>=13 in /usr/local/lib/python3.7/dist-packages (from jupyter-client==6.1.12->-r /content/drive/MyDrive/sgmse/requirements.txt (line 5)) (23.2.1)\n",
            "Requirement already satisfied: prompt-toolkit!=3.0.0,!=3.0.1,<3.1.0,>=2.0.0 in /usr/local/lib/python3.7/dist-packages (from jupyter-console==6.4.0->-r /content/drive/MyDrive/sgmse/requirements.txt (line 6)) (2.0.10)\n",
            "Requirement already satisfied: pygments in /usr/local/lib/python3.7/dist-packages (from jupyter-console==6.4.0->-r /content/drive/MyDrive/sgmse/requirements.txt (line 6)) (2.6.1)\n",
            "Requirement already satisfied: pooch>=1.0 in /usr/local/lib/python3.7/dist-packages (from librosa==0.9.1->-r /content/drive/MyDrive/sgmse/requirements.txt (line 10)) (1.6.0)\n",
            "Requirement already satisfied: joblib>=0.14 in /usr/local/lib/python3.7/dist-packages (from librosa==0.9.1->-r /content/drive/MyDrive/sgmse/requirements.txt (line 10)) (1.2.0)\n",
            "Requirement already satisfied: resampy>=0.2.2 in /usr/local/lib/python3.7/dist-packages (from librosa==0.9.1->-r /content/drive/MyDrive/sgmse/requirements.txt (line 10)) (0.4.2)\n",
            "Requirement already satisfied: audioread>=2.1.5 in /usr/local/lib/python3.7/dist-packages (from librosa==0.9.1->-r /content/drive/MyDrive/sgmse/requirements.txt (line 10)) (3.0.0)\n",
            "Requirement already satisfied: numba>=0.45.1 in /usr/local/lib/python3.7/dist-packages (from librosa==0.9.1->-r /content/drive/MyDrive/sgmse/requirements.txt (line 10)) (0.56.2)\n",
            "Requirement already satisfied: decorator>=4.0.10 in /usr/local/lib/python3.7/dist-packages (from librosa==0.9.1->-r /content/drive/MyDrive/sgmse/requirements.txt (line 10)) (4.4.2)\n",
            "Requirement already satisfied: scikit-learn>=0.19.1 in /usr/local/lib/python3.7/dist-packages (from librosa==0.9.1->-r /content/drive/MyDrive/sgmse/requirements.txt (line 10)) (1.0.2)\n",
            "Requirement already satisfied: soundfile>=0.10.2 in /usr/local/lib/python3.7/dist-packages (from librosa==0.9.1->-r /content/drive/MyDrive/sgmse/requirements.txt (line 10)) (0.11.0)\n",
            "Requirement already satisfied: packaging>=20.0 in /usr/local/lib/python3.7/dist-packages (from librosa==0.9.1->-r /content/drive/MyDrive/sgmse/requirements.txt (line 10)) (21.3)\n",
            "Requirement already satisfied: pybind11>=2.2 in /usr/local/lib/python3.7/dist-packages (from pyroomacoustics==0.6.0->-r /content/drive/MyDrive/sgmse/requirements.txt (line 19)) (2.10.0)\n",
            "Requirement already satisfied: Cython in /usr/local/lib/python3.7/dist-packages (from pyroomacoustics==0.6.0->-r /content/drive/MyDrive/sgmse/requirements.txt (line 19)) (0.29.32)\n",
            "Requirement already satisfied: pyDeprecate>=0.3.1 in /usr/local/lib/python3.7/dist-packages (from pytorch-lightning==1.6.5->-r /content/drive/MyDrive/sgmse/requirements.txt (line 21)) (0.3.2)\n",
            "Requirement already satisfied: tensorboard>=2.2.0 in /usr/local/lib/python3.7/dist-packages (from pytorch-lightning==1.6.5->-r /content/drive/MyDrive/sgmse/requirements.txt (line 21)) (2.8.0)\n",
            "Requirement already satisfied: typing-extensions>=4.0.0 in /usr/local/lib/python3.7/dist-packages (from pytorch-lightning==1.6.5->-r /content/drive/MyDrive/sgmse/requirements.txt (line 21)) (4.1.1)\n",
            "Requirement already satisfied: fsspec[http]!=2021.06.0,>=2021.05.0 in /usr/local/lib/python3.7/dist-packages (from pytorch-lightning==1.6.5->-r /content/drive/MyDrive/sgmse/requirements.txt (line 21)) (2022.8.2)\n",
            "Requirement already satisfied: PyYAML>=5.4 in /usr/local/lib/python3.7/dist-packages (from pytorch-lightning==1.6.5->-r /content/drive/MyDrive/sgmse/requirements.txt (line 21)) (6.0)\n",
            "Requirement already satisfied: torchmetrics>=0.4.1 in /usr/local/lib/python3.7/dist-packages (from pytorch-lightning==1.6.5->-r /content/drive/MyDrive/sgmse/requirements.txt (line 21)) (0.10.0)\n",
            "Requirement already satisfied: requests in /usr/local/lib/python3.7/dist-packages (from torchvision==0.13.0->-r /content/drive/MyDrive/sgmse/requirements.txt (line 30)) (2.23.0)\n",
            "Collecting boltons>=20.2.1\n",
            "  Downloading boltons-21.0.0-py2.py3-none-any.whl (193 kB)\n",
            "\u001b[K     |████████████████████████████████| 193 kB 74.0 MB/s \n",
            "\u001b[?25hCollecting trampoline>=0.1.2\n",
            "  Downloading trampoline-0.1.2-py3-none-any.whl (5.2 kB)\n",
            "Requirement already satisfied: setproctitle in /usr/local/lib/python3.7/dist-packages (from wandb==0.12.11->-r /content/drive/MyDrive/sgmse/requirements.txt (line 34)) (1.3.2)\n",
            "Requirement already satisfied: pathtools in /usr/local/lib/python3.7/dist-packages (from wandb==0.12.11->-r /content/drive/MyDrive/sgmse/requirements.txt (line 34)) (0.1.2)\n",
            "Requirement already satisfied: docker-pycreds>=0.4.0 in /usr/local/lib/python3.7/dist-packages (from wandb==0.12.11->-r /content/drive/MyDrive/sgmse/requirements.txt (line 34)) (0.4.0)\n",
            "Requirement already satisfied: GitPython>=1.0.0 in /usr/local/lib/python3.7/dist-packages (from wandb==0.12.11->-r /content/drive/MyDrive/sgmse/requirements.txt (line 34)) (3.1.28)\n",
            "Requirement already satisfied: six>=1.13.0 in /usr/local/lib/python3.7/dist-packages (from wandb==0.12.11->-r /content/drive/MyDrive/sgmse/requirements.txt (line 34)) (1.15.0)\n",
            "Requirement already satisfied: yaspin>=1.0.0 in /usr/local/lib/python3.7/dist-packages (from wandb==0.12.11->-r /content/drive/MyDrive/sgmse/requirements.txt (line 34)) (2.2.0)\n",
            "Requirement already satisfied: Click!=8.0.0,>=7.0 in /usr/local/lib/python3.7/dist-packages (from wandb==0.12.11->-r /content/drive/MyDrive/sgmse/requirements.txt (line 34)) (7.1.2)\n",
            "Requirement already satisfied: sentry-sdk>=1.0.0 in /usr/local/lib/python3.7/dist-packages (from wandb==0.12.11->-r /content/drive/MyDrive/sgmse/requirements.txt (line 34)) (1.9.0)\n",
            "Requirement already satisfied: psutil>=5.0.0 in /usr/local/lib/python3.7/dist-packages (from wandb==0.12.11->-r /content/drive/MyDrive/sgmse/requirements.txt (line 34)) (5.4.8)\n",
            "Requirement already satisfied: promise<3,>=2.0 in /usr/local/lib/python3.7/dist-packages (from wandb==0.12.11->-r /content/drive/MyDrive/sgmse/requirements.txt (line 34)) (2.3)\n",
            "Requirement already satisfied: shortuuid>=0.5.0 in /usr/local/lib/python3.7/dist-packages (from wandb==0.12.11->-r /content/drive/MyDrive/sgmse/requirements.txt (line 34)) (1.0.9)\n",
            "Requirement already satisfied: pytz>=2017.3 in /usr/local/lib/python3.7/dist-packages (from pandas->-r /content/drive/MyDrive/sgmse/requirements.txt (line 15)) (2022.4)\n",
            "Requirement already satisfied: aiohttp!=4.0.0a0,!=4.0.0a1 in /usr/local/lib/python3.7/dist-packages (from fsspec[http]!=2021.06.0,>=2021.05.0->pytorch-lightning==1.6.5->-r /content/drive/MyDrive/sgmse/requirements.txt (line 21)) (3.8.3)\n",
            "Requirement already satisfied: multidict<7.0,>=4.5 in /usr/local/lib/python3.7/dist-packages (from aiohttp!=4.0.0a0,!=4.0.0a1->fsspec[http]!=2021.06.0,>=2021.05.0->pytorch-lightning==1.6.5->-r /content/drive/MyDrive/sgmse/requirements.txt (line 21)) (6.0.2)\n",
            "Requirement already satisfied: frozenlist>=1.1.1 in /usr/local/lib/python3.7/dist-packages (from aiohttp!=4.0.0a0,!=4.0.0a1->fsspec[http]!=2021.06.0,>=2021.05.0->pytorch-lightning==1.6.5->-r /content/drive/MyDrive/sgmse/requirements.txt (line 21)) (1.3.1)\n",
            "Requirement already satisfied: charset-normalizer<3.0,>=2.0 in /usr/local/lib/python3.7/dist-packages (from aiohttp!=4.0.0a0,!=4.0.0a1->fsspec[http]!=2021.06.0,>=2021.05.0->pytorch-lightning==1.6.5->-r /content/drive/MyDrive/sgmse/requirements.txt (line 21)) (2.1.1)\n",
            "Requirement already satisfied: attrs>=17.3.0 in /usr/local/lib/python3.7/dist-packages (from aiohttp!=4.0.0a0,!=4.0.0a1->fsspec[http]!=2021.06.0,>=2021.05.0->pytorch-lightning==1.6.5->-r /content/drive/MyDrive/sgmse/requirements.txt (line 21)) (22.1.0)\n",
            "Requirement already satisfied: yarl<2.0,>=1.0 in /usr/local/lib/python3.7/dist-packages (from aiohttp!=4.0.0a0,!=4.0.0a1->fsspec[http]!=2021.06.0,>=2021.05.0->pytorch-lightning==1.6.5->-r /content/drive/MyDrive/sgmse/requirements.txt (line 21)) (1.8.1)\n",
            "Requirement already satisfied: asynctest==0.13.0 in /usr/local/lib/python3.7/dist-packages (from aiohttp!=4.0.0a0,!=4.0.0a1->fsspec[http]!=2021.06.0,>=2021.05.0->pytorch-lightning==1.6.5->-r /content/drive/MyDrive/sgmse/requirements.txt (line 21)) (0.13.0)\n",
            "Requirement already satisfied: aiosignal>=1.1.2 in /usr/local/lib/python3.7/dist-packages (from aiohttp!=4.0.0a0,!=4.0.0a1->fsspec[http]!=2021.06.0,>=2021.05.0->pytorch-lightning==1.6.5->-r /content/drive/MyDrive/sgmse/requirements.txt (line 21)) (1.2.0)\n",
            "Requirement already satisfied: async-timeout<5.0,>=4.0.0a3 in /usr/local/lib/python3.7/dist-packages (from aiohttp!=4.0.0a0,!=4.0.0a1->fsspec[http]!=2021.06.0,>=2021.05.0->pytorch-lightning==1.6.5->-r /content/drive/MyDrive/sgmse/requirements.txt (line 21)) (4.0.2)\n",
            "Requirement already satisfied: gitdb<5,>=4.0.1 in /usr/local/lib/python3.7/dist-packages (from GitPython>=1.0.0->wandb==0.12.11->-r /content/drive/MyDrive/sgmse/requirements.txt (line 34)) (4.0.9)\n",
            "Requirement already satisfied: smmap<6,>=3.0.1 in /usr/local/lib/python3.7/dist-packages (from gitdb<5,>=4.0.1->GitPython>=1.0.0->wandb==0.12.11->-r /content/drive/MyDrive/sgmse/requirements.txt (line 34)) (5.0.0)\n",
            "Requirement already satisfied: jedi>=0.10 in /usr/local/lib/python3.7/dist-packages (from ipython<9->ipympl==0.8.8->-r /content/drive/MyDrive/sgmse/requirements.txt (line 2)) (0.18.1)\n",
            "Requirement already satisfied: backcall in /usr/local/lib/python3.7/dist-packages (from ipython<9->ipympl==0.8.8->-r /content/drive/MyDrive/sgmse/requirements.txt (line 2)) (0.2.0)\n",
            "Requirement already satisfied: pexpect in /usr/local/lib/python3.7/dist-packages (from ipython<9->ipympl==0.8.8->-r /content/drive/MyDrive/sgmse/requirements.txt (line 2)) (4.8.0)\n",
            "Requirement already satisfied: pickleshare in /usr/local/lib/python3.7/dist-packages (from ipython<9->ipympl==0.8.8->-r /content/drive/MyDrive/sgmse/requirements.txt (line 2)) (0.7.5)\n",
            "Requirement already satisfied: parso<0.9.0,>=0.8.0 in /usr/local/lib/python3.7/dist-packages (from jedi>=0.10->ipython<9->ipympl==0.8.8->-r /content/drive/MyDrive/sgmse/requirements.txt (line 2)) (0.8.3)\n",
            "Requirement already satisfied: pyparsing!=2.0.4,!=2.1.2,!=2.1.6,>=2.0.1 in /usr/local/lib/python3.7/dist-packages (from matplotlib<4,>=2.0.0->ipympl==0.8.8->-r /content/drive/MyDrive/sgmse/requirements.txt (line 2)) (3.0.9)\n",
            "Requirement already satisfied: kiwisolver>=1.0.1 in /usr/local/lib/python3.7/dist-packages (from matplotlib<4,>=2.0.0->ipympl==0.8.8->-r /content/drive/MyDrive/sgmse/requirements.txt (line 2)) (1.4.4)\n",
            "Requirement already satisfied: cycler>=0.10 in /usr/local/lib/python3.7/dist-packages (from matplotlib<4,>=2.0.0->ipympl==0.8.8->-r /content/drive/MyDrive/sgmse/requirements.txt (line 2)) (0.11.0)\n",
            "Requirement already satisfied: fastjsonschema in /usr/local/lib/python3.7/dist-packages (from nbformat>=4.2.0->ipywidgets==7.6.5->-r /content/drive/MyDrive/sgmse/requirements.txt (line 3)) (2.16.2)\n",
            "Requirement already satisfied: jsonschema>=2.6 in /usr/local/lib/python3.7/dist-packages (from nbformat>=4.2.0->ipywidgets==7.6.5->-r /content/drive/MyDrive/sgmse/requirements.txt (line 3)) (4.3.3)\n",
            "Requirement already satisfied: importlib-metadata>=3.6 in /usr/local/lib/python3.7/dist-packages (from nbformat>=4.2.0->ipywidgets==7.6.5->-r /content/drive/MyDrive/sgmse/requirements.txt (line 3)) (5.0.0)\n",
            "Requirement already satisfied: zipp>=0.5 in /usr/local/lib/python3.7/dist-packages (from importlib-metadata>=3.6->nbformat>=4.2.0->ipywidgets==7.6.5->-r /content/drive/MyDrive/sgmse/requirements.txt (line 3)) (3.8.1)\n",
            "Requirement already satisfied: importlib-resources>=1.4.0 in /usr/local/lib/python3.7/dist-packages (from jsonschema>=2.6->nbformat>=4.2.0->ipywidgets==7.6.5->-r /content/drive/MyDrive/sgmse/requirements.txt (line 3)) (5.9.0)\n",
            "Requirement already satisfied: pyrsistent!=0.17.0,!=0.17.1,!=0.17.2,>=0.14.0 in /usr/local/lib/python3.7/dist-packages (from jsonschema>=2.6->nbformat>=4.2.0->ipywidgets==7.6.5->-r /content/drive/MyDrive/sgmse/requirements.txt (line 3)) (0.18.1)\n",
            "Requirement already satisfied: llvmlite<0.40,>=0.39.0dev0 in /usr/local/lib/python3.7/dist-packages (from numba>=0.45.1->librosa==0.9.1->-r /content/drive/MyDrive/sgmse/requirements.txt (line 10)) (0.39.1)\n",
            "Requirement already satisfied: appdirs>=1.3.0 in /usr/local/lib/python3.7/dist-packages (from pooch>=1.0->librosa==0.9.1->-r /content/drive/MyDrive/sgmse/requirements.txt (line 10)) (1.4.4)\n",
            "Requirement already satisfied: wcwidth in /usr/local/lib/python3.7/dist-packages (from prompt-toolkit!=3.0.0,!=3.0.1,<3.1.0,>=2.0.0->jupyter-console==6.4.0->-r /content/drive/MyDrive/sgmse/requirements.txt (line 6)) (0.2.5)\n",
            "Requirement already satisfied: chardet<4,>=3.0.2 in /usr/local/lib/python3.7/dist-packages (from requests->torchvision==0.13.0->-r /content/drive/MyDrive/sgmse/requirements.txt (line 30)) (3.0.4)\n",
            "Requirement already satisfied: idna<3,>=2.5 in /usr/local/lib/python3.7/dist-packages (from requests->torchvision==0.13.0->-r /content/drive/MyDrive/sgmse/requirements.txt (line 30)) (2.10)\n",
            "Requirement already satisfied: urllib3!=1.25.0,!=1.25.1,<1.26,>=1.21.1 in /usr/local/lib/python3.7/dist-packages (from requests->torchvision==0.13.0->-r /content/drive/MyDrive/sgmse/requirements.txt (line 30)) (1.24.3)\n",
            "Requirement already satisfied: certifi>=2017.4.17 in /usr/local/lib/python3.7/dist-packages (from requests->torchvision==0.13.0->-r /content/drive/MyDrive/sgmse/requirements.txt (line 30)) (2022.9.24)\n",
            "Requirement already satisfied: threadpoolctl>=2.0.0 in /usr/local/lib/python3.7/dist-packages (from scikit-learn>=0.19.1->librosa==0.9.1->-r /content/drive/MyDrive/sgmse/requirements.txt (line 10)) (3.1.0)\n",
            "Requirement already satisfied: cffi>=1.0 in /usr/local/lib/python3.7/dist-packages (from soundfile>=0.10.2->librosa==0.9.1->-r /content/drive/MyDrive/sgmse/requirements.txt (line 10)) (1.15.1)\n",
            "Requirement already satisfied: pycparser in /usr/local/lib/python3.7/dist-packages (from cffi>=1.0->soundfile>=0.10.2->librosa==0.9.1->-r /content/drive/MyDrive/sgmse/requirements.txt (line 10)) (2.21)\n",
            "Requirement already satisfied: wheel>=0.26 in /usr/local/lib/python3.7/dist-packages (from tensorboard>=2.2.0->pytorch-lightning==1.6.5->-r /content/drive/MyDrive/sgmse/requirements.txt (line 21)) (0.37.1)\n",
            "Requirement already satisfied: absl-py>=0.4 in /usr/local/lib/python3.7/dist-packages (from tensorboard>=2.2.0->pytorch-lightning==1.6.5->-r /content/drive/MyDrive/sgmse/requirements.txt (line 21)) (1.2.0)\n",
            "Requirement already satisfied: werkzeug>=0.11.15 in /usr/local/lib/python3.7/dist-packages (from tensorboard>=2.2.0->pytorch-lightning==1.6.5->-r /content/drive/MyDrive/sgmse/requirements.txt (line 21)) (1.0.1)\n",
            "Requirement already satisfied: tensorboard-data-server<0.7.0,>=0.6.0 in /usr/local/lib/python3.7/dist-packages (from tensorboard>=2.2.0->pytorch-lightning==1.6.5->-r /content/drive/MyDrive/sgmse/requirements.txt (line 21)) (0.6.1)\n",
            "Requirement already satisfied: tensorboard-plugin-wit>=1.6.0 in /usr/local/lib/python3.7/dist-packages (from tensorboard>=2.2.0->pytorch-lightning==1.6.5->-r /content/drive/MyDrive/sgmse/requirements.txt (line 21)) (1.8.1)\n",
            "Requirement already satisfied: grpcio>=1.24.3 in /usr/local/lib/python3.7/dist-packages (from tensorboard>=2.2.0->pytorch-lightning==1.6.5->-r /content/drive/MyDrive/sgmse/requirements.txt (line 21)) (1.49.1)\n",
            "Requirement already satisfied: google-auth-oauthlib<0.5,>=0.4.1 in /usr/local/lib/python3.7/dist-packages (from tensorboard>=2.2.0->pytorch-lightning==1.6.5->-r /content/drive/MyDrive/sgmse/requirements.txt (line 21)) (0.4.6)\n",
            "Requirement already satisfied: google-auth<3,>=1.6.3 in /usr/local/lib/python3.7/dist-packages (from tensorboard>=2.2.0->pytorch-lightning==1.6.5->-r /content/drive/MyDrive/sgmse/requirements.txt (line 21)) (1.35.0)\n",
            "Requirement already satisfied: markdown>=2.6.8 in /usr/local/lib/python3.7/dist-packages (from tensorboard>=2.2.0->pytorch-lightning==1.6.5->-r /content/drive/MyDrive/sgmse/requirements.txt (line 21)) (3.4.1)\n",
            "Requirement already satisfied: pyasn1-modules>=0.2.1 in /usr/local/lib/python3.7/dist-packages (from google-auth<3,>=1.6.3->tensorboard>=2.2.0->pytorch-lightning==1.6.5->-r /content/drive/MyDrive/sgmse/requirements.txt (line 21)) (0.2.8)\n",
            "Requirement already satisfied: rsa<5,>=3.1.4 in /usr/local/lib/python3.7/dist-packages (from google-auth<3,>=1.6.3->tensorboard>=2.2.0->pytorch-lightning==1.6.5->-r /content/drive/MyDrive/sgmse/requirements.txt (line 21)) (4.9)\n",
            "Requirement already satisfied: cachetools<5.0,>=2.0.0 in /usr/local/lib/python3.7/dist-packages (from google-auth<3,>=1.6.3->tensorboard>=2.2.0->pytorch-lightning==1.6.5->-r /content/drive/MyDrive/sgmse/requirements.txt (line 21)) (4.2.4)\n",
            "Requirement already satisfied: requests-oauthlib>=0.7.0 in /usr/local/lib/python3.7/dist-packages (from google-auth-oauthlib<0.5,>=0.4.1->tensorboard>=2.2.0->pytorch-lightning==1.6.5->-r /content/drive/MyDrive/sgmse/requirements.txt (line 21)) (1.3.1)\n",
            "Requirement already satisfied: pyasn1<0.5.0,>=0.4.6 in /usr/local/lib/python3.7/dist-packages (from pyasn1-modules>=0.2.1->google-auth<3,>=1.6.3->tensorboard>=2.2.0->pytorch-lightning==1.6.5->-r /content/drive/MyDrive/sgmse/requirements.txt (line 21)) (0.4.8)\n",
            "Requirement already satisfied: oauthlib>=3.0.0 in /usr/local/lib/python3.7/dist-packages (from requests-oauthlib>=0.7.0->google-auth-oauthlib<0.5,>=0.4.1->tensorboard>=2.2.0->pytorch-lightning==1.6.5->-r /content/drive/MyDrive/sgmse/requirements.txt (line 21)) (3.2.1)\n",
            "Requirement already satisfied: terminado>=0.8.1 in /usr/local/lib/python3.7/dist-packages (from notebook->jupyter==1.0.0->-r /content/drive/MyDrive/sgmse/requirements.txt (line 4)) (0.13.3)\n",
            "Requirement already satisfied: jinja2 in /usr/local/lib/python3.7/dist-packages (from notebook->jupyter==1.0.0->-r /content/drive/MyDrive/sgmse/requirements.txt (line 4)) (2.11.3)\n",
            "Requirement already satisfied: Send2Trash in /usr/local/lib/python3.7/dist-packages (from notebook->jupyter==1.0.0->-r /content/drive/MyDrive/sgmse/requirements.txt (line 4)) (1.8.0)\n",
            "Requirement already satisfied: ptyprocess in /usr/local/lib/python3.7/dist-packages (from terminado>=0.8.1->notebook->jupyter==1.0.0->-r /content/drive/MyDrive/sgmse/requirements.txt (line 4)) (0.7.0)\n",
            "Requirement already satisfied: termcolor-whl==1.1.2 in /usr/local/lib/python3.7/dist-packages (from yaspin>=1.0.0->wandb==0.12.11->-r /content/drive/MyDrive/sgmse/requirements.txt (line 34)) (1.1.2)\n",
            "Requirement already satisfied: MarkupSafe>=0.23 in /usr/local/lib/python3.7/dist-packages (from jinja2->notebook->jupyter==1.0.0->-r /content/drive/MyDrive/sgmse/requirements.txt (line 4)) (2.0.1)\n",
            "Requirement already satisfied: bleach in /usr/local/lib/python3.7/dist-packages (from nbconvert->jupyter==1.0.0->-r /content/drive/MyDrive/sgmse/requirements.txt (line 4)) (5.0.1)\n",
            "Requirement already satisfied: entrypoints>=0.2.2 in /usr/local/lib/python3.7/dist-packages (from nbconvert->jupyter==1.0.0->-r /content/drive/MyDrive/sgmse/requirements.txt (line 4)) (0.4)\n",
            "Requirement already satisfied: pandocfilters>=1.4.1 in /usr/local/lib/python3.7/dist-packages (from nbconvert->jupyter==1.0.0->-r /content/drive/MyDrive/sgmse/requirements.txt (line 4)) (1.5.0)\n",
            "Requirement already satisfied: defusedxml in /usr/local/lib/python3.7/dist-packages (from nbconvert->jupyter==1.0.0->-r /content/drive/MyDrive/sgmse/requirements.txt (line 4)) (0.7.1)\n",
            "Requirement already satisfied: mistune<2,>=0.8.1 in /usr/local/lib/python3.7/dist-packages (from nbconvert->jupyter==1.0.0->-r /content/drive/MyDrive/sgmse/requirements.txt (line 4)) (0.8.4)\n",
            "Requirement already satisfied: testpath in /usr/local/lib/python3.7/dist-packages (from nbconvert->jupyter==1.0.0->-r /content/drive/MyDrive/sgmse/requirements.txt (line 4)) (0.6.0)\n",
            "Requirement already satisfied: webencodings in /usr/local/lib/python3.7/dist-packages (from bleach->nbconvert->jupyter==1.0.0->-r /content/drive/MyDrive/sgmse/requirements.txt (line 4)) (0.5.1)\n",
            "Requirement already satisfied: qtpy>=2.0.1 in /usr/local/lib/python3.7/dist-packages (from qtconsole->jupyter==1.0.0->-r /content/drive/MyDrive/sgmse/requirements.txt (line 4)) (2.2.1)\n",
            "Installing collected packages: torch, trampoline, boltons, torchvision, torchsde, torchinfo, torchaudio\n",
            "  Attempting uninstall: torch\n",
            "    Found existing installation: torch 1.12.1+cu113\n",
            "    Uninstalling torch-1.12.1+cu113:\n",
            "      Successfully uninstalled torch-1.12.1+cu113\n",
            "  Attempting uninstall: torchvision\n",
            "    Found existing installation: torchvision 0.13.1+cu113\n",
            "    Uninstalling torchvision-0.13.1+cu113:\n",
            "      Successfully uninstalled torchvision-0.13.1+cu113\n",
            "  Attempting uninstall: torchaudio\n",
            "    Found existing installation: torchaudio 0.12.1+cu113\n",
            "    Uninstalling torchaudio-0.12.1+cu113:\n",
            "      Successfully uninstalled torchaudio-0.12.1+cu113\n",
            "\u001b[31mERROR: pip's dependency resolver does not currently take into account all the packages that are installed. This behaviour is the source of the following dependency conflicts.\n",
            "torchtext 0.13.1 requires torch==1.12.1, but you have torch 1.12.0 which is incompatible.\u001b[0m\n",
            "Successfully installed boltons-21.0.0 torch-1.12.0 torchaudio-0.12.0 torchinfo-1.6.3 torchsde-0.2.5 torchvision-0.13.0 trampoline-0.1.2\n",
            "/content/sgmse/sgmse\n"
          ]
        }
      ],
      "source": [
        "!git clone https://github.com/sp-uhh/sgmse.git\n",
        "!pip install -r /content/drive/MyDrive/sgmse/requirements.txt\n",
        "%cd sgmse\n"
      ]
    },
    {
      "cell_type": "code",
      "source": [
        "!python enhancement.py --test_dir /content/drive/MyDrive/sgmse/test --enhanced_dir /content/drive/MyDrive/sgmse/enhanced --ckpt /content/drive/MyDrive/sgmse/pretrained/epoch=326-step=408750.ckpt --N 50 --snr 0.33"
      ],
      "metadata": {
        "colab": {
          "base_uri": "https://localhost:8080/"
        },
        "id": "pyUsAJ4n2fjc",
        "outputId": "4228d258-eec5-4679-e8db-e58c86582b09"
      },
      "execution_count": null,
      "outputs": [
        {
          "output_type": "stream",
          "name": "stdout",
          "text": [
            "\r0it [00:00, ?it/s]\r0it [00:00, ?it/s]\n"
          ]
        }
      ]
    },
    {
      "cell_type": "code",
      "source": [
        "!python calc_metrics.py --test_dir /content/drive/MyDrive/sgmse/test --enhanced_dir /content/drive/MyDrive/sgmse/enhanced"
      ],
      "metadata": {
        "colab": {
          "base_uri": "https://localhost:8080/"
        },
        "id": "2ON-psQx2ndM",
        "outputId": "10d9c62d-c651-4c82-e6b3-bb36866d00a0"
      },
      "execution_count": null,
      "outputs": [
        {
          "output_type": "stream",
          "name": "stdout",
          "text": [
            "\r0it [00:00, ?it/s]\r0it [00:00, ?it/s]\n",
            "/content/drive/MyDrive/sgmse/enhanced\n",
            "/usr/local/lib/python3.7/dist-packages/numpy/core/fromnumeric.py:3441: RuntimeWarning: Mean of empty slice.\n",
            "  out=out, **kwargs)\n",
            "/usr/local/lib/python3.7/dist-packages/numpy/core/_methods.py:189: RuntimeWarning: invalid value encountered in double_scalars\n",
            "  ret = ret.dtype.type(ret / rcount)\n",
            "/usr/local/lib/python3.7/dist-packages/numpy/core/_methods.py:263: RuntimeWarning: Degrees of freedom <= 0 for slice\n",
            "  keepdims=keepdims, where=where)\n",
            "/usr/local/lib/python3.7/dist-packages/numpy/core/_methods.py:223: RuntimeWarning: invalid value encountered in true_divide\n",
            "  subok=False)\n",
            "/usr/local/lib/python3.7/dist-packages/numpy/core/_methods.py:254: RuntimeWarning: invalid value encountered in double_scalars\n",
            "  ret = ret.dtype.type(ret / rcount)\n",
            "PESQ: nan ± nan\n",
            "ESTOI: nan ± nan\n",
            "SI-SDR: nan ± nan\n",
            "SI-SIR: nan ± nan\n",
            "SI-SAR: nan ± nan\n"
          ]
        }
      ]
    }
  ]
}