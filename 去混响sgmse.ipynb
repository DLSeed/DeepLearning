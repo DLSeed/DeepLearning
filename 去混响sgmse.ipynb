{
  "nbformat": 4,
  "nbformat_minor": 0,
  "metadata": {
    "colab": {
      "provenance": [],
      "authorship_tag": "ABX9TyOudFvLRM9+4qw1urCTBLix",
      "include_colab_link": true
    },
    "kernelspec": {
      "name": "python3",
      "display_name": "Python 3"
    },
    "language_info": {
      "name": "python"
    },
    "gpuClass": "premium"
  },
  "cells": [
    {
      "cell_type": "markdown",
      "metadata": {
        "id": "view-in-github",
        "colab_type": "text"
      },
      "source": [
        "<a href=\"https://colab.research.google.com/github/DLSeed/DeepLearning/blob/main/%E5%8E%BB%E6%B7%B7%E5%93%8Dsgmse.ipynb\" target=\"_parent\"><img src=\"https://colab.research.google.com/assets/colab-badge.svg\" alt=\"Open In Colab\"/></a>"
      ]
    },
    {
      "cell_type": "code",
      "source": [
        "!nvidia-smi"
      ],
      "metadata": {
        "id": "GtNNkCmELrWl",
        "outputId": "fb7469f8-80dc-44f6-eb1a-7a5038093ad0",
        "colab": {
          "base_uri": "https://localhost:8080/"
        }
      },
      "execution_count": 1,
      "outputs": [
        {
          "output_type": "stream",
          "name": "stdout",
          "text": [
            "NVIDIA-SMI has failed because it couldn't communicate with the NVIDIA driver. Make sure that the latest NVIDIA driver is installed and running.\n",
            "\n"
          ]
        }
      ]
    },
    {
      "cell_type": "code",
      "source": [
        "from google.colab import drive\n",
        "drive.mount('/content/drive/')\n"
      ],
      "metadata": {
        "colab": {
          "base_uri": "https://localhost:8080/"
        },
        "id": "XQP9Od5t2SOn",
        "outputId": "26bd3b8f-b0b6-4968-d4d0-93f9ec5fd02a"
      },
      "execution_count": 2,
      "outputs": [
        {
          "output_type": "stream",
          "name": "stdout",
          "text": [
            "Mounted at /content/drive/\n"
          ]
        }
      ]
    },
    {
      "cell_type": "code",
      "source": [
        "!git clone https://github.com/sekiguchi92/SoundSourceSeparation.git\n",
        "!pip install -r /content/SoundSourceSeparation/src_torch/requirements.txt"
      ],
      "metadata": {
        "id": "Q9Wj9vyLLEXI",
        "outputId": "3e036da7-0d4c-4897-d813-85a13b1571ee",
        "colab": {
          "base_uri": "https://localhost:8080/"
        }
      },
      "execution_count": null,
      "outputs": [
        {
          "output_type": "stream",
          "name": "stdout",
          "text": [
            "fatal: destination path 'SoundSourceSeparation' already exists and is not an empty directory.\n",
            "Looking in indexes: https://pypi.org/simple, https://us-python.pkg.dev/colab-wheels/public/simple/\n",
            "Requirement already satisfied: torch>=1.9 in /usr/local/lib/python3.7/dist-packages (from -r /content/SoundSourceSeparation/src_torch/requirements.txt (line 1)) (1.12.1+cu113)\n",
            "Requirement already satisfied: torchaudio>=0.9 in /usr/local/lib/python3.7/dist-packages (from -r /content/SoundSourceSeparation/src_torch/requirements.txt (line 2)) (0.12.1+cu113)\n",
            "Requirement already satisfied: tqdm in /usr/local/lib/python3.7/dist-packages (from -r /content/SoundSourceSeparation/src_torch/requirements.txt (line 3)) (4.64.1)\n",
            "Requirement already satisfied: typing-extensions in /usr/local/lib/python3.7/dist-packages (from torch>=1.9->-r /content/SoundSourceSeparation/src_torch/requirements.txt (line 1)) (4.1.1)\n"
          ]
        }
      ]
    },
    {
      "cell_type": "code",
      "source": [
        "%cd /content/SoundSourceSeparation/src_torch/separation\n",
        "!python FastMNMF2.py /content/drive/MyDrive/music/raw/Summer_ED2_HP2-4BAND-3090_4band_arch-500m_1_Vocals.wav  --gpu 0 "
      ],
      "metadata": {
        "id": "M2ZnOfrDLEh_",
        "outputId": "d22dea4b-3d08-4dc1-a1c2-5f7a2b9e6457",
        "colab": {
          "base_uri": "https://localhost:8080/"
        }
      },
      "execution_count": null,
      "outputs": [
        {
          "output_type": "stream",
          "name": "stdout",
          "text": [
            "/content/SoundSourceSeparation/src_torch/separation\n",
            "Update FastMNMF2_IP-M=2-S=3-F=513-K=2-init=circular-g=0.05-bit=64-intv_norm=10  30 times ...\n",
            "100% 30/30 [01:49<00:00,  3.64s/it]\n",
            "Update FastMNMF2_IP-M=2-S=3-F=513-K=16-init=twostep_30it-g=0.05-bit=64-intv_norm=10-ID=Summer_ED2_HP2-4BAND-3090_4band_arch-500m_1_Vocals  70 times ...\n",
            "100% 70/70 [04:14<00:00,  3.64s/it]\n",
            "tcmalloc: large alloc 1268113408 bytes == 0x9b294000 @  0x7fc222002b6b 0x7fc222022379 0x7fc1b25bfd57 0x7fc1b25adbc3 0x7fc1dc4b787f 0x7fc1dc4b7aca 0x7fc1dc4b7b2f 0x7fc1dc9cae49 0x7fc1dd23ccb0 0x7fc1dcf883ee 0x7fc1dd215e4e 0x7fc1dcfc82c2 0x7fc1dc9c52f1 0x7fc1dd38f64b 0x7fc1dcd12fff 0x7fc1dd217fcc 0x7fc1dcd12fff 0x7fc1de29012b 0x7fc1de2905ae 0x7fc1dcd8afa4 0x7fc1dc9ba80b 0x7fc1dd48dae1 0x7fc1dcebb069 0x7fc20418a71d 0x7fc20418b9d6 0x4d1b90 0x51b31c 0x5b41c5 0x58f49e 0x51837f 0x5b41c5\n",
            "tcmalloc: large alloc 1265639424 bytes == 0xe6bf2000 @  0x7fc222002b6b 0x7fc222022379 0x7fc1b25bfd57 0x7fc1b25adbc3 0x7fc1dc4b86af 0x7fc1dc4b9020 0x7fc1dc4b9074 0x7fc1dc9cadef 0x7fc1dd23cb8b 0x7fc1dcf881d3 0x7fc1dd217b8f 0x7fc1dcfc5bf7 0x7fc1dcc80334 0x7fc1dd23cf6d 0x7fc1dd192a36 0x7fc1de53f6ac 0x7fc1de53fc33 0x7fc1dd1b80c7 0x7fc1dc96d21e 0x7fc1dd48c452 0x7fc1dcfdd138 0x7fc20426f9ef 0x58ed05 0x51babb 0x5b41c5 0x58f49e 0x51b221 0x5b41c5 0x4ba899 0x4d29f9 0x5913c6\n"
          ]
        }
      ]
    },
    {
      "cell_type": "code",
      "source": [
        "!cp /content/SoundSourceSeparation/src_torch/separation/FastMNMF2_IP-sep-M=2-S=3-F=513-K=16-init=twostep_30it-g=0.05-bit=64-intv_norm=10-ID=Summer_ED2_HP2-4BAND-3090_4band_arch-500m_1_Vocals-100.wav /content/drive/MyDrive/music/raw"
      ],
      "metadata": {
        "id": "hqSkp306LEp5"
      },
      "execution_count": null,
      "outputs": []
    },
    {
      "cell_type": "code",
      "source": [],
      "metadata": {
        "id": "Pr5d0UJ6OErd"
      },
      "execution_count": null,
      "outputs": []
    },
    {
      "cell_type": "code",
      "execution_count": 3,
      "metadata": {
        "colab": {
          "base_uri": "https://localhost:8080/",
          "height": 1000
        },
        "id": "Iq8uzQ6P1Rtu",
        "outputId": "de4ab545-4a75-4017-8d00-93c44ffcf228"
      },
      "outputs": [
        {
          "output_type": "stream",
          "name": "stdout",
          "text": [
            "Cloning into 'sgmse'...\n",
            "remote: Enumerating objects: 489, done.\u001b[K\n",
            "remote: Counting objects: 100% (206/206), done.\u001b[K\n",
            "remote: Compressing objects: 100% (119/119), done.\u001b[K\n",
            "remote: Total 489 (delta 100), reused 178 (delta 85), pack-reused 283\u001b[K\n",
            "Receiving objects: 100% (489/489), 446.51 KiB | 21.26 MiB/s, done.\n",
            "Resolving deltas: 100% (287/287), done.\n",
            "Looking in indexes: https://pypi.org/simple, https://us-python.pkg.dev/colab-wheels/public/simple/\n",
            "Collecting h5py==3.6.0\n",
            "  Downloading h5py-3.6.0-cp37-cp37m-manylinux_2_12_x86_64.manylinux2010_x86_64.whl (4.1 MB)\n",
            "\u001b[K     |████████████████████████████████| 4.1 MB 30.6 MB/s \n",
            "\u001b[?25hCollecting ipympl==0.8.8\n",
            "  Downloading ipympl-0.8.8-py2.py3-none-any.whl (507 kB)\n",
            "\u001b[K     |████████████████████████████████| 507 kB 57.2 MB/s \n",
            "\u001b[?25hCollecting ipywidgets==7.6.5\n",
            "  Downloading ipywidgets-7.6.5-py2.py3-none-any.whl (121 kB)\n",
            "\u001b[K     |████████████████████████████████| 121 kB 50.0 MB/s \n",
            "\u001b[?25hCollecting jupyter==1.0.0\n",
            "  Downloading jupyter-1.0.0-py2.py3-none-any.whl (2.7 kB)\n",
            "Requirement already satisfied: jupyter-client==6.1.12 in /usr/local/lib/python3.7/dist-packages (from -r /content/drive/MyDrive/sgmse/requirements.txt (line 5)) (6.1.12)\n",
            "Collecting jupyter-console==6.4.0\n",
            "  Downloading jupyter_console-6.4.0-py3-none-any.whl (22 kB)\n",
            "Collecting jupyter-core==4.7.1\n",
            "  Downloading jupyter_core-4.7.1-py3-none-any.whl (82 kB)\n",
            "\u001b[K     |████████████████████████████████| 82 kB 1.1 MB/s \n",
            "\u001b[?25hCollecting jupyterlab-pygments==0.1.2\n",
            "  Downloading jupyterlab_pygments-0.1.2-py2.py3-none-any.whl (4.6 kB)\n",
            "Collecting jupyterlab-widgets==1.0.2\n",
            "  Downloading jupyterlab_widgets-1.0.2-py3-none-any.whl (243 kB)\n",
            "\u001b[K     |████████████████████████████████| 243 kB 32.3 MB/s \n",
            "\u001b[?25hCollecting librosa==0.9.1\n",
            "  Downloading librosa-0.9.1-py3-none-any.whl (213 kB)\n",
            "\u001b[K     |████████████████████████████████| 213 kB 50.8 MB/s \n",
            "\u001b[?25hCollecting Ninja==1.10.2.3\n",
            "  Downloading ninja-1.10.2.3-py2.py3-none-manylinux_2_5_x86_64.manylinux1_x86_64.whl (108 kB)\n",
            "\u001b[K     |████████████████████████████████| 108 kB 53.1 MB/s \n",
            "\u001b[?25hRequirement already satisfied: numpy in /usr/local/lib/python3.7/dist-packages (from -r /content/drive/MyDrive/sgmse/requirements.txt (line 13)) (1.21.6)\n",
            "Requirement already satisfied: pandas in /usr/local/lib/python3.7/dist-packages (from -r /content/drive/MyDrive/sgmse/requirements.txt (line 15)) (1.3.5)\n",
            "Collecting pesq==0.0.4\n",
            "  Downloading pesq-0.0.4.tar.gz (38 kB)\n",
            "Collecting Pillow==9.0.1\n",
            "  Downloading Pillow-9.0.1-cp37-cp37m-manylinux_2_17_x86_64.manylinux2014_x86_64.whl (4.3 MB)\n",
            "\u001b[K     |████████████████████████████████| 4.3 MB 41.9 MB/s \n",
            "\u001b[?25hCollecting protobuf==3.19.4\n",
            "  Downloading protobuf-3.19.4-cp37-cp37m-manylinux_2_17_x86_64.manylinux2014_x86_64.whl (1.1 MB)\n",
            "\u001b[K     |████████████████████████████████| 1.1 MB 57.3 MB/s \n",
            "\u001b[?25hCollecting pyroomacoustics==0.6.0\n",
            "  Downloading pyroomacoustics-0.6.0.tar.gz (1.1 MB)\n",
            "\u001b[K     |████████████████████████████████| 1.1 MB 51.3 MB/s \n",
            "\u001b[?25h  Installing build dependencies ... \u001b[?25l\u001b[?25hdone\n",
            "  Getting requirements to build wheel ... \u001b[?25l\u001b[?25hdone\n",
            "    Preparing wheel metadata ... \u001b[?25l\u001b[?25hdone\n",
            "Collecting pystoi==0.3.3\n",
            "  Downloading pystoi-0.3.3.tar.gz (7.0 kB)\n",
            "Collecting pytorch-lightning==1.6.5\n",
            "  Downloading pytorch_lightning-1.6.5-py3-none-any.whl (585 kB)\n",
            "\u001b[K     |████████████████████████████████| 585 kB 46.7 MB/s \n",
            "\u001b[?25hRequirement already satisfied: scipy in /usr/local/lib/python3.7/dist-packages (from -r /content/drive/MyDrive/sgmse/requirements.txt (line 23)) (1.7.3)\n",
            "Collecting sdeint==0.2.4\n",
            "  Downloading sdeint-0.2.4.tar.gz (41 kB)\n",
            "\u001b[K     |████████████████████████████████| 41 kB 379 kB/s \n",
            "\u001b[?25hCollecting setuptools==59.5.0\n",
            "  Downloading setuptools-59.5.0-py3-none-any.whl (952 kB)\n",
            "\u001b[K     |████████████████████████████████| 952 kB 46.9 MB/s \n",
            "\u001b[?25hRequirement already satisfied: seaborn==0.11.2 in /usr/local/lib/python3.7/dist-packages (from -r /content/drive/MyDrive/sgmse/requirements.txt (line 26)) (0.11.2)\n",
            "Collecting torch==1.12.0\n",
            "  Downloading torch-1.12.0-cp37-cp37m-manylinux1_x86_64.whl (776.3 MB)\n",
            "\u001b[K     |████████████████████████████████| 776.3 MB 17 kB/s \n",
            "\u001b[?25hCollecting torch-ema==0.3\n",
            "  Downloading torch_ema-0.3-py3-none-any.whl (5.5 kB)\n",
            "Collecting torchaudio==0.12.0\n",
            "  Downloading torchaudio-0.12.0-cp37-cp37m-manylinux1_x86_64.whl (3.7 MB)\n",
            "\u001b[K     |████████████████████████████████| 3.7 MB 46.7 MB/s \n",
            "\u001b[?25hCollecting torchvision==0.13.0\n",
            "  Downloading torchvision-0.13.0-cp37-cp37m-manylinux1_x86_64.whl (19.1 MB)\n",
            "\u001b[K     |████████████████████████████████| 19.1 MB 718 kB/s \n",
            "\u001b[?25hCollecting torchinfo==1.6.3\n",
            "  Downloading torchinfo-1.6.3-py3-none-any.whl (20 kB)\n",
            "Collecting torchsde==0.2.5\n",
            "  Downloading torchsde-0.2.5-py3-none-any.whl (59 kB)\n",
            "\u001b[K     |████████████████████████████████| 59 kB 6.3 MB/s \n",
            "\u001b[?25hCollecting tqdm==4.63.0\n",
            "  Downloading tqdm-4.63.0-py2.py3-none-any.whl (76 kB)\n",
            "\u001b[K     |████████████████████████████████| 76 kB 4.9 MB/s \n",
            "\u001b[?25hCollecting wandb==0.12.11\n",
            "  Downloading wandb-0.12.11-py2.py3-none-any.whl (1.7 MB)\n",
            "\u001b[K     |████████████████████████████████| 1.7 MB 59.2 MB/s \n",
            "\u001b[?25hRequirement already satisfied: cached-property in /usr/local/lib/python3.7/dist-packages (from h5py==3.6.0->-r /content/drive/MyDrive/sgmse/requirements.txt (line 1)) (1.5.2)\n",
            "Requirement already satisfied: traitlets<6 in /usr/local/lib/python3.7/dist-packages (from ipympl==0.8.8->-r /content/drive/MyDrive/sgmse/requirements.txt (line 2)) (5.1.1)\n",
            "Requirement already satisfied: matplotlib<4,>=2.0.0 in /usr/local/lib/python3.7/dist-packages (from ipympl==0.8.8->-r /content/drive/MyDrive/sgmse/requirements.txt (line 2)) (3.2.2)\n",
            "Requirement already satisfied: ipython<9 in /usr/local/lib/python3.7/dist-packages (from ipympl==0.8.8->-r /content/drive/MyDrive/sgmse/requirements.txt (line 2)) (7.9.0)\n",
            "Requirement already satisfied: ipython-genutils in /usr/local/lib/python3.7/dist-packages (from ipympl==0.8.8->-r /content/drive/MyDrive/sgmse/requirements.txt (line 2)) (0.2.0)\n",
            "Collecting widgetsnbextension~=3.5.0\n",
            "  Downloading widgetsnbextension-3.5.2-py2.py3-none-any.whl (1.6 MB)\n",
            "\u001b[K     |████████████████████████████████| 1.6 MB 47.9 MB/s \n",
            "\u001b[?25hRequirement already satisfied: nbformat>=4.2.0 in /usr/local/lib/python3.7/dist-packages (from ipywidgets==7.6.5->-r /content/drive/MyDrive/sgmse/requirements.txt (line 3)) (5.7.0)\n",
            "Requirement already satisfied: ipykernel>=4.5.1 in /usr/local/lib/python3.7/dist-packages (from ipywidgets==7.6.5->-r /content/drive/MyDrive/sgmse/requirements.txt (line 3)) (5.3.4)\n",
            "Requirement already satisfied: nbconvert in /usr/local/lib/python3.7/dist-packages (from jupyter==1.0.0->-r /content/drive/MyDrive/sgmse/requirements.txt (line 4)) (5.6.1)\n",
            "Collecting qtconsole\n",
            "  Downloading qtconsole-5.3.2-py3-none-any.whl (120 kB)\n",
            "\u001b[K     |████████████████████████████████| 120 kB 53.9 MB/s \n",
            "\u001b[?25hRequirement already satisfied: notebook in /usr/local/lib/python3.7/dist-packages (from jupyter==1.0.0->-r /content/drive/MyDrive/sgmse/requirements.txt (line 4)) (5.5.0)\n",
            "Requirement already satisfied: pyzmq>=13 in /usr/local/lib/python3.7/dist-packages (from jupyter-client==6.1.12->-r /content/drive/MyDrive/sgmse/requirements.txt (line 5)) (23.2.1)\n",
            "Requirement already satisfied: tornado>=4.1 in /usr/local/lib/python3.7/dist-packages (from jupyter-client==6.1.12->-r /content/drive/MyDrive/sgmse/requirements.txt (line 5)) (5.1.1)\n",
            "Requirement already satisfied: python-dateutil>=2.1 in /usr/local/lib/python3.7/dist-packages (from jupyter-client==6.1.12->-r /content/drive/MyDrive/sgmse/requirements.txt (line 5)) (2.8.2)\n",
            "Requirement already satisfied: pygments in /usr/local/lib/python3.7/dist-packages (from jupyter-console==6.4.0->-r /content/drive/MyDrive/sgmse/requirements.txt (line 6)) (2.6.1)\n",
            "Requirement already satisfied: prompt-toolkit!=3.0.0,!=3.0.1,<3.1.0,>=2.0.0 in /usr/local/lib/python3.7/dist-packages (from jupyter-console==6.4.0->-r /content/drive/MyDrive/sgmse/requirements.txt (line 6)) (2.0.10)\n",
            "Requirement already satisfied: scikit-learn>=0.19.1 in /usr/local/lib/python3.7/dist-packages (from librosa==0.9.1->-r /content/drive/MyDrive/sgmse/requirements.txt (line 10)) (1.0.2)\n",
            "Requirement already satisfied: decorator>=4.0.10 in /usr/local/lib/python3.7/dist-packages (from librosa==0.9.1->-r /content/drive/MyDrive/sgmse/requirements.txt (line 10)) (4.4.2)\n",
            "Requirement already satisfied: numba>=0.45.1 in /usr/local/lib/python3.7/dist-packages (from librosa==0.9.1->-r /content/drive/MyDrive/sgmse/requirements.txt (line 10)) (0.56.3)\n",
            "Requirement already satisfied: resampy>=0.2.2 in /usr/local/lib/python3.7/dist-packages (from librosa==0.9.1->-r /content/drive/MyDrive/sgmse/requirements.txt (line 10)) (0.4.2)\n",
            "Requirement already satisfied: soundfile>=0.10.2 in /usr/local/lib/python3.7/dist-packages (from librosa==0.9.1->-r /content/drive/MyDrive/sgmse/requirements.txt (line 10)) (0.11.0)\n",
            "Requirement already satisfied: pooch>=1.0 in /usr/local/lib/python3.7/dist-packages (from librosa==0.9.1->-r /content/drive/MyDrive/sgmse/requirements.txt (line 10)) (1.6.0)\n",
            "Requirement already satisfied: joblib>=0.14 in /usr/local/lib/python3.7/dist-packages (from librosa==0.9.1->-r /content/drive/MyDrive/sgmse/requirements.txt (line 10)) (1.2.0)\n",
            "Requirement already satisfied: packaging>=20.0 in /usr/local/lib/python3.7/dist-packages (from librosa==0.9.1->-r /content/drive/MyDrive/sgmse/requirements.txt (line 10)) (21.3)\n",
            "Requirement already satisfied: audioread>=2.1.5 in /usr/local/lib/python3.7/dist-packages (from librosa==0.9.1->-r /content/drive/MyDrive/sgmse/requirements.txt (line 10)) (3.0.0)\n",
            "Collecting pybind11>=2.2\n",
            "  Using cached pybind11-2.10.0-py3-none-any.whl (213 kB)\n",
            "Requirement already satisfied: Cython in /usr/local/lib/python3.7/dist-packages (from pyroomacoustics==0.6.0->-r /content/drive/MyDrive/sgmse/requirements.txt (line 19)) (0.29.32)\n",
            "Collecting pyDeprecate>=0.3.1\n",
            "  Downloading pyDeprecate-0.3.2-py3-none-any.whl (10 kB)\n",
            "Requirement already satisfied: typing-extensions>=4.0.0 in /usr/local/lib/python3.7/dist-packages (from pytorch-lightning==1.6.5->-r /content/drive/MyDrive/sgmse/requirements.txt (line 21)) (4.1.1)\n",
            "Requirement already satisfied: fsspec[http]!=2021.06.0,>=2021.05.0 in /usr/local/lib/python3.7/dist-packages (from pytorch-lightning==1.6.5->-r /content/drive/MyDrive/sgmse/requirements.txt (line 21)) (2022.8.2)\n",
            "Requirement already satisfied: tensorboard>=2.2.0 in /usr/local/lib/python3.7/dist-packages (from pytorch-lightning==1.6.5->-r /content/drive/MyDrive/sgmse/requirements.txt (line 21)) (2.9.1)\n",
            "Collecting torchmetrics>=0.4.1\n",
            "  Downloading torchmetrics-0.10.0-py3-none-any.whl (529 kB)\n",
            "\u001b[K     |████████████████████████████████| 529 kB 49.9 MB/s \n",
            "\u001b[?25hRequirement already satisfied: PyYAML>=5.4 in /usr/local/lib/python3.7/dist-packages (from pytorch-lightning==1.6.5->-r /content/drive/MyDrive/sgmse/requirements.txt (line 21)) (6.0)\n",
            "Requirement already satisfied: requests in /usr/local/lib/python3.7/dist-packages (from torchvision==0.13.0->-r /content/drive/MyDrive/sgmse/requirements.txt (line 30)) (2.23.0)\n",
            "Collecting trampoline>=0.1.2\n",
            "  Downloading trampoline-0.1.2-py3-none-any.whl (5.2 kB)\n",
            "Collecting boltons>=20.2.1\n",
            "  Downloading boltons-21.0.0-py2.py3-none-any.whl (193 kB)\n",
            "\u001b[K     |████████████████████████████████| 193 kB 51.6 MB/s \n",
            "\u001b[?25hCollecting yaspin>=1.0.0\n",
            "  Downloading yaspin-2.2.0-py3-none-any.whl (18 kB)\n",
            "Requirement already satisfied: psutil>=5.0.0 in /usr/local/lib/python3.7/dist-packages (from wandb==0.12.11->-r /content/drive/MyDrive/sgmse/requirements.txt (line 34)) (5.4.8)\n",
            "Collecting GitPython>=1.0.0\n",
            "  Downloading GitPython-3.1.29-py3-none-any.whl (182 kB)\n",
            "\u001b[K     |████████████████████████████████| 182 kB 67.7 MB/s \n",
            "\u001b[?25hRequirement already satisfied: six>=1.13.0 in /usr/local/lib/python3.7/dist-packages (from wandb==0.12.11->-r /content/drive/MyDrive/sgmse/requirements.txt (line 34)) (1.15.0)\n",
            "Collecting shortuuid>=0.5.0\n",
            "  Downloading shortuuid-1.0.9-py3-none-any.whl (9.4 kB)\n",
            "Collecting docker-pycreds>=0.4.0\n",
            "  Downloading docker_pycreds-0.4.0-py2.py3-none-any.whl (9.0 kB)\n",
            "Collecting setproctitle\n",
            "  Downloading setproctitle-1.3.2-cp37-cp37m-manylinux_2_5_x86_64.manylinux1_x86_64.manylinux_2_17_x86_64.manylinux2014_x86_64.whl (30 kB)\n",
            "Requirement already satisfied: Click!=8.0.0,>=7.0 in /usr/local/lib/python3.7/dist-packages (from wandb==0.12.11->-r /content/drive/MyDrive/sgmse/requirements.txt (line 34)) (7.1.2)\n",
            "Collecting sentry-sdk>=1.0.0\n",
            "  Downloading sentry_sdk-1.10.0-py2.py3-none-any.whl (166 kB)\n",
            "\u001b[K     |████████████████████████████████| 166 kB 50.2 MB/s \n",
            "\u001b[?25hRequirement already satisfied: promise<3,>=2.0 in /usr/local/lib/python3.7/dist-packages (from wandb==0.12.11->-r /content/drive/MyDrive/sgmse/requirements.txt (line 34)) (2.3)\n",
            "Collecting pathtools\n",
            "  Downloading pathtools-0.1.2.tar.gz (11 kB)\n",
            "Requirement already satisfied: pytz>=2017.3 in /usr/local/lib/python3.7/dist-packages (from pandas->-r /content/drive/MyDrive/sgmse/requirements.txt (line 15)) (2022.4)\n",
            "Requirement already satisfied: aiohttp!=4.0.0a0,!=4.0.0a1 in /usr/local/lib/python3.7/dist-packages (from fsspec[http]!=2021.06.0,>=2021.05.0->pytorch-lightning==1.6.5->-r /content/drive/MyDrive/sgmse/requirements.txt (line 21)) (3.8.3)\n",
            "Requirement already satisfied: async-timeout<5.0,>=4.0.0a3 in /usr/local/lib/python3.7/dist-packages (from aiohttp!=4.0.0a0,!=4.0.0a1->fsspec[http]!=2021.06.0,>=2021.05.0->pytorch-lightning==1.6.5->-r /content/drive/MyDrive/sgmse/requirements.txt (line 21)) (4.0.2)\n",
            "Requirement already satisfied: asynctest==0.13.0 in /usr/local/lib/python3.7/dist-packages (from aiohttp!=4.0.0a0,!=4.0.0a1->fsspec[http]!=2021.06.0,>=2021.05.0->pytorch-lightning==1.6.5->-r /content/drive/MyDrive/sgmse/requirements.txt (line 21)) (0.13.0)\n",
            "Requirement already satisfied: multidict<7.0,>=4.5 in /usr/local/lib/python3.7/dist-packages (from aiohttp!=4.0.0a0,!=4.0.0a1->fsspec[http]!=2021.06.0,>=2021.05.0->pytorch-lightning==1.6.5->-r /content/drive/MyDrive/sgmse/requirements.txt (line 21)) (6.0.2)\n",
            "Requirement already satisfied: yarl<2.0,>=1.0 in /usr/local/lib/python3.7/dist-packages (from aiohttp!=4.0.0a0,!=4.0.0a1->fsspec[http]!=2021.06.0,>=2021.05.0->pytorch-lightning==1.6.5->-r /content/drive/MyDrive/sgmse/requirements.txt (line 21)) (1.8.1)\n",
            "Requirement already satisfied: charset-normalizer<3.0,>=2.0 in /usr/local/lib/python3.7/dist-packages (from aiohttp!=4.0.0a0,!=4.0.0a1->fsspec[http]!=2021.06.0,>=2021.05.0->pytorch-lightning==1.6.5->-r /content/drive/MyDrive/sgmse/requirements.txt (line 21)) (2.1.1)\n",
            "Requirement already satisfied: attrs>=17.3.0 in /usr/local/lib/python3.7/dist-packages (from aiohttp!=4.0.0a0,!=4.0.0a1->fsspec[http]!=2021.06.0,>=2021.05.0->pytorch-lightning==1.6.5->-r /content/drive/MyDrive/sgmse/requirements.txt (line 21)) (22.1.0)\n",
            "Requirement already satisfied: aiosignal>=1.1.2 in /usr/local/lib/python3.7/dist-packages (from aiohttp!=4.0.0a0,!=4.0.0a1->fsspec[http]!=2021.06.0,>=2021.05.0->pytorch-lightning==1.6.5->-r /content/drive/MyDrive/sgmse/requirements.txt (line 21)) (1.2.0)\n",
            "Requirement already satisfied: frozenlist>=1.1.1 in /usr/local/lib/python3.7/dist-packages (from aiohttp!=4.0.0a0,!=4.0.0a1->fsspec[http]!=2021.06.0,>=2021.05.0->pytorch-lightning==1.6.5->-r /content/drive/MyDrive/sgmse/requirements.txt (line 21)) (1.3.1)\n",
            "Collecting gitdb<5,>=4.0.1\n",
            "  Downloading gitdb-4.0.9-py3-none-any.whl (63 kB)\n",
            "\u001b[K     |████████████████████████████████| 63 kB 1.8 MB/s \n",
            "\u001b[?25hCollecting smmap<6,>=3.0.1\n",
            "  Downloading smmap-5.0.0-py3-none-any.whl (24 kB)\n",
            "Collecting jedi>=0.10\n",
            "  Downloading jedi-0.18.1-py2.py3-none-any.whl (1.6 MB)\n",
            "\u001b[K     |████████████████████████████████| 1.6 MB 56.5 MB/s \n",
            "\u001b[?25hRequirement already satisfied: pexpect in /usr/local/lib/python3.7/dist-packages (from ipython<9->ipympl==0.8.8->-r /content/drive/MyDrive/sgmse/requirements.txt (line 2)) (4.8.0)\n",
            "Requirement already satisfied: pickleshare in /usr/local/lib/python3.7/dist-packages (from ipython<9->ipympl==0.8.8->-r /content/drive/MyDrive/sgmse/requirements.txt (line 2)) (0.7.5)\n",
            "Requirement already satisfied: backcall in /usr/local/lib/python3.7/dist-packages (from ipython<9->ipympl==0.8.8->-r /content/drive/MyDrive/sgmse/requirements.txt (line 2)) (0.2.0)\n",
            "Requirement already satisfied: parso<0.9.0,>=0.8.0 in /usr/local/lib/python3.7/dist-packages (from jedi>=0.10->ipython<9->ipympl==0.8.8->-r /content/drive/MyDrive/sgmse/requirements.txt (line 2)) (0.8.3)\n",
            "Requirement already satisfied: kiwisolver>=1.0.1 in /usr/local/lib/python3.7/dist-packages (from matplotlib<4,>=2.0.0->ipympl==0.8.8->-r /content/drive/MyDrive/sgmse/requirements.txt (line 2)) (1.4.4)\n",
            "Requirement already satisfied: pyparsing!=2.0.4,!=2.1.2,!=2.1.6,>=2.0.1 in /usr/local/lib/python3.7/dist-packages (from matplotlib<4,>=2.0.0->ipympl==0.8.8->-r /content/drive/MyDrive/sgmse/requirements.txt (line 2)) (3.0.9)\n",
            "Requirement already satisfied: cycler>=0.10 in /usr/local/lib/python3.7/dist-packages (from matplotlib<4,>=2.0.0->ipympl==0.8.8->-r /content/drive/MyDrive/sgmse/requirements.txt (line 2)) (0.11.0)\n",
            "Requirement already satisfied: importlib-metadata>=3.6 in /usr/local/lib/python3.7/dist-packages (from nbformat>=4.2.0->ipywidgets==7.6.5->-r /content/drive/MyDrive/sgmse/requirements.txt (line 3)) (4.13.0)\n",
            "Requirement already satisfied: fastjsonschema in /usr/local/lib/python3.7/dist-packages (from nbformat>=4.2.0->ipywidgets==7.6.5->-r /content/drive/MyDrive/sgmse/requirements.txt (line 3)) (2.16.2)\n",
            "Requirement already satisfied: jsonschema>=2.6 in /usr/local/lib/python3.7/dist-packages (from nbformat>=4.2.0->ipywidgets==7.6.5->-r /content/drive/MyDrive/sgmse/requirements.txt (line 3)) (4.3.3)\n",
            "Requirement already satisfied: zipp>=0.5 in /usr/local/lib/python3.7/dist-packages (from importlib-metadata>=3.6->nbformat>=4.2.0->ipywidgets==7.6.5->-r /content/drive/MyDrive/sgmse/requirements.txt (line 3)) (3.9.0)\n",
            "Requirement already satisfied: pyrsistent!=0.17.0,!=0.17.1,!=0.17.2,>=0.14.0 in /usr/local/lib/python3.7/dist-packages (from jsonschema>=2.6->nbformat>=4.2.0->ipywidgets==7.6.5->-r /content/drive/MyDrive/sgmse/requirements.txt (line 3)) (0.18.1)\n",
            "Requirement already satisfied: importlib-resources>=1.4.0 in /usr/local/lib/python3.7/dist-packages (from jsonschema>=2.6->nbformat>=4.2.0->ipywidgets==7.6.5->-r /content/drive/MyDrive/sgmse/requirements.txt (line 3)) (5.10.0)\n",
            "Requirement already satisfied: llvmlite<0.40,>=0.39.0dev0 in /usr/local/lib/python3.7/dist-packages (from numba>=0.45.1->librosa==0.9.1->-r /content/drive/MyDrive/sgmse/requirements.txt (line 10)) (0.39.1)\n",
            "Requirement already satisfied: appdirs>=1.3.0 in /usr/local/lib/python3.7/dist-packages (from pooch>=1.0->librosa==0.9.1->-r /content/drive/MyDrive/sgmse/requirements.txt (line 10)) (1.4.4)\n",
            "Requirement already satisfied: wcwidth in /usr/local/lib/python3.7/dist-packages (from prompt-toolkit!=3.0.0,!=3.0.1,<3.1.0,>=2.0.0->jupyter-console==6.4.0->-r /content/drive/MyDrive/sgmse/requirements.txt (line 6)) (0.2.5)\n",
            "Requirement already satisfied: certifi>=2017.4.17 in /usr/local/lib/python3.7/dist-packages (from requests->torchvision==0.13.0->-r /content/drive/MyDrive/sgmse/requirements.txt (line 30)) (2022.9.24)\n",
            "Requirement already satisfied: urllib3!=1.25.0,!=1.25.1,<1.26,>=1.21.1 in /usr/local/lib/python3.7/dist-packages (from requests->torchvision==0.13.0->-r /content/drive/MyDrive/sgmse/requirements.txt (line 30)) (1.24.3)\n",
            "Requirement already satisfied: chardet<4,>=3.0.2 in /usr/local/lib/python3.7/dist-packages (from requests->torchvision==0.13.0->-r /content/drive/MyDrive/sgmse/requirements.txt (line 30)) (3.0.4)\n",
            "Requirement already satisfied: idna<3,>=2.5 in /usr/local/lib/python3.7/dist-packages (from requests->torchvision==0.13.0->-r /content/drive/MyDrive/sgmse/requirements.txt (line 30)) (2.10)\n",
            "Requirement already satisfied: threadpoolctl>=2.0.0 in /usr/local/lib/python3.7/dist-packages (from scikit-learn>=0.19.1->librosa==0.9.1->-r /content/drive/MyDrive/sgmse/requirements.txt (line 10)) (3.1.0)\n",
            "Collecting sentry-sdk>=1.0.0\n",
            "  Downloading sentry_sdk-1.9.10-py2.py3-none-any.whl (162 kB)\n",
            "\u001b[K     |████████████████████████████████| 162 kB 63.8 MB/s \n",
            "\u001b[?25h  Downloading sentry_sdk-1.9.9-py2.py3-none-any.whl (162 kB)\n",
            "\u001b[K     |████████████████████████████████| 162 kB 52.4 MB/s \n",
            "\u001b[?25h  Downloading sentry_sdk-1.9.8-py2.py3-none-any.whl (158 kB)\n",
            "\u001b[K     |████████████████████████████████| 158 kB 53.6 MB/s \n",
            "\u001b[?25h  Downloading sentry_sdk-1.9.7-py2.py3-none-any.whl (157 kB)\n",
            "\u001b[K     |████████████████████████████████| 157 kB 67.1 MB/s \n",
            "\u001b[?25h  Downloading sentry_sdk-1.9.6-py2.py3-none-any.whl (157 kB)\n",
            "\u001b[K     |████████████████████████████████| 157 kB 38.1 MB/s \n",
            "\u001b[?25h  Downloading sentry_sdk-1.9.5-py2.py3-none-any.whl (157 kB)\n",
            "\u001b[K     |████████████████████████████████| 157 kB 53.1 MB/s \n",
            "\u001b[?25h  Downloading sentry_sdk-1.9.4-py2.py3-none-any.whl (157 kB)\n",
            "\u001b[K     |████████████████████████████████| 157 kB 51.4 MB/s \n",
            "\u001b[?25h  Downloading sentry_sdk-1.9.3-py2.py3-none-any.whl (157 kB)\n",
            "\u001b[K     |████████████████████████████████| 157 kB 63.6 MB/s \n",
            "\u001b[?25h  Downloading sentry_sdk-1.9.2-py2.py3-none-any.whl (157 kB)\n",
            "\u001b[K     |████████████████████████████████| 157 kB 50.7 MB/s \n",
            "\u001b[?25h  Downloading sentry_sdk-1.9.1-py2.py3-none-any.whl (157 kB)\n",
            "\u001b[K     |████████████████████████████████| 157 kB 65.5 MB/s \n",
            "\u001b[?25h  Downloading sentry_sdk-1.9.0-py2.py3-none-any.whl (156 kB)\n",
            "\u001b[K     |████████████████████████████████| 156 kB 51.0 MB/s \n",
            "\u001b[?25hRequirement already satisfied: cffi>=1.0 in /usr/local/lib/python3.7/dist-packages (from soundfile>=0.10.2->librosa==0.9.1->-r /content/drive/MyDrive/sgmse/requirements.txt (line 10)) (1.15.1)\n",
            "Requirement already satisfied: pycparser in /usr/local/lib/python3.7/dist-packages (from cffi>=1.0->soundfile>=0.10.2->librosa==0.9.1->-r /content/drive/MyDrive/sgmse/requirements.txt (line 10)) (2.21)\n",
            "Requirement already satisfied: tensorboard-data-server<0.7.0,>=0.6.0 in /usr/local/lib/python3.7/dist-packages (from tensorboard>=2.2.0->pytorch-lightning==1.6.5->-r /content/drive/MyDrive/sgmse/requirements.txt (line 21)) (0.6.1)\n",
            "Requirement already satisfied: absl-py>=0.4 in /usr/local/lib/python3.7/dist-packages (from tensorboard>=2.2.0->pytorch-lightning==1.6.5->-r /content/drive/MyDrive/sgmse/requirements.txt (line 21)) (1.3.0)\n",
            "Requirement already satisfied: grpcio>=1.24.3 in /usr/local/lib/python3.7/dist-packages (from tensorboard>=2.2.0->pytorch-lightning==1.6.5->-r /content/drive/MyDrive/sgmse/requirements.txt (line 21)) (1.49.1)\n",
            "Requirement already satisfied: tensorboard-plugin-wit>=1.6.0 in /usr/local/lib/python3.7/dist-packages (from tensorboard>=2.2.0->pytorch-lightning==1.6.5->-r /content/drive/MyDrive/sgmse/requirements.txt (line 21)) (1.8.1)\n",
            "Requirement already satisfied: wheel>=0.26 in /usr/local/lib/python3.7/dist-packages (from tensorboard>=2.2.0->pytorch-lightning==1.6.5->-r /content/drive/MyDrive/sgmse/requirements.txt (line 21)) (0.37.1)\n",
            "Requirement already satisfied: werkzeug>=1.0.1 in /usr/local/lib/python3.7/dist-packages (from tensorboard>=2.2.0->pytorch-lightning==1.6.5->-r /content/drive/MyDrive/sgmse/requirements.txt (line 21)) (1.0.1)\n",
            "Requirement already satisfied: google-auth-oauthlib<0.5,>=0.4.1 in /usr/local/lib/python3.7/dist-packages (from tensorboard>=2.2.0->pytorch-lightning==1.6.5->-r /content/drive/MyDrive/sgmse/requirements.txt (line 21)) (0.4.6)\n",
            "Requirement already satisfied: markdown>=2.6.8 in /usr/local/lib/python3.7/dist-packages (from tensorboard>=2.2.0->pytorch-lightning==1.6.5->-r /content/drive/MyDrive/sgmse/requirements.txt (line 21)) (3.4.1)\n",
            "Requirement already satisfied: google-auth<3,>=1.6.3 in /usr/local/lib/python3.7/dist-packages (from tensorboard>=2.2.0->pytorch-lightning==1.6.5->-r /content/drive/MyDrive/sgmse/requirements.txt (line 21)) (1.35.0)\n",
            "Requirement already satisfied: rsa<5,>=3.1.4 in /usr/local/lib/python3.7/dist-packages (from google-auth<3,>=1.6.3->tensorboard>=2.2.0->pytorch-lightning==1.6.5->-r /content/drive/MyDrive/sgmse/requirements.txt (line 21)) (4.9)\n",
            "Requirement already satisfied: pyasn1-modules>=0.2.1 in /usr/local/lib/python3.7/dist-packages (from google-auth<3,>=1.6.3->tensorboard>=2.2.0->pytorch-lightning==1.6.5->-r /content/drive/MyDrive/sgmse/requirements.txt (line 21)) (0.2.8)\n",
            "Requirement already satisfied: cachetools<5.0,>=2.0.0 in /usr/local/lib/python3.7/dist-packages (from google-auth<3,>=1.6.3->tensorboard>=2.2.0->pytorch-lightning==1.6.5->-r /content/drive/MyDrive/sgmse/requirements.txt (line 21)) (4.2.4)\n",
            "Requirement already satisfied: requests-oauthlib>=0.7.0 in /usr/local/lib/python3.7/dist-packages (from google-auth-oauthlib<0.5,>=0.4.1->tensorboard>=2.2.0->pytorch-lightning==1.6.5->-r /content/drive/MyDrive/sgmse/requirements.txt (line 21)) (1.3.1)\n",
            "Requirement already satisfied: pyasn1<0.5.0,>=0.4.6 in /usr/local/lib/python3.7/dist-packages (from pyasn1-modules>=0.2.1->google-auth<3,>=1.6.3->tensorboard>=2.2.0->pytorch-lightning==1.6.5->-r /content/drive/MyDrive/sgmse/requirements.txt (line 21)) (0.4.8)\n",
            "Requirement already satisfied: oauthlib>=3.0.0 in /usr/local/lib/python3.7/dist-packages (from requests-oauthlib>=0.7.0->google-auth-oauthlib<0.5,>=0.4.1->tensorboard>=2.2.0->pytorch-lightning==1.6.5->-r /content/drive/MyDrive/sgmse/requirements.txt (line 21)) (3.2.1)\n",
            "Requirement already satisfied: Send2Trash in /usr/local/lib/python3.7/dist-packages (from notebook->jupyter==1.0.0->-r /content/drive/MyDrive/sgmse/requirements.txt (line 4)) (1.8.0)\n",
            "Requirement already satisfied: jinja2 in /usr/local/lib/python3.7/dist-packages (from notebook->jupyter==1.0.0->-r /content/drive/MyDrive/sgmse/requirements.txt (line 4)) (2.11.3)\n",
            "Requirement already satisfied: terminado>=0.8.1 in /usr/local/lib/python3.7/dist-packages (from notebook->jupyter==1.0.0->-r /content/drive/MyDrive/sgmse/requirements.txt (line 4)) (0.13.3)\n",
            "Requirement already satisfied: ptyprocess in /usr/local/lib/python3.7/dist-packages (from terminado>=0.8.1->notebook->jupyter==1.0.0->-r /content/drive/MyDrive/sgmse/requirements.txt (line 4)) (0.7.0)\n",
            "Collecting termcolor-whl==1.1.2\n",
            "  Downloading termcolor_whl-1.1.2-py2.py3-none-any.whl (4.8 kB)\n",
            "Requirement already satisfied: MarkupSafe>=0.23 in /usr/local/lib/python3.7/dist-packages (from jinja2->notebook->jupyter==1.0.0->-r /content/drive/MyDrive/sgmse/requirements.txt (line 4)) (2.0.1)\n",
            "Requirement already satisfied: testpath in /usr/local/lib/python3.7/dist-packages (from nbconvert->jupyter==1.0.0->-r /content/drive/MyDrive/sgmse/requirements.txt (line 4)) (0.6.0)\n",
            "Requirement already satisfied: mistune<2,>=0.8.1 in /usr/local/lib/python3.7/dist-packages (from nbconvert->jupyter==1.0.0->-r /content/drive/MyDrive/sgmse/requirements.txt (line 4)) (0.8.4)\n",
            "Requirement already satisfied: defusedxml in /usr/local/lib/python3.7/dist-packages (from nbconvert->jupyter==1.0.0->-r /content/drive/MyDrive/sgmse/requirements.txt (line 4)) (0.7.1)\n",
            "Requirement already satisfied: bleach in /usr/local/lib/python3.7/dist-packages (from nbconvert->jupyter==1.0.0->-r /content/drive/MyDrive/sgmse/requirements.txt (line 4)) (5.0.1)\n",
            "Requirement already satisfied: entrypoints>=0.2.2 in /usr/local/lib/python3.7/dist-packages (from nbconvert->jupyter==1.0.0->-r /content/drive/MyDrive/sgmse/requirements.txt (line 4)) (0.4)\n",
            "Requirement already satisfied: pandocfilters>=1.4.1 in /usr/local/lib/python3.7/dist-packages (from nbconvert->jupyter==1.0.0->-r /content/drive/MyDrive/sgmse/requirements.txt (line 4)) (1.5.0)\n",
            "Requirement already satisfied: webencodings in /usr/local/lib/python3.7/dist-packages (from bleach->nbconvert->jupyter==1.0.0->-r /content/drive/MyDrive/sgmse/requirements.txt (line 4)) (0.5.1)\n",
            "Collecting qtpy>=2.0.1\n",
            "  Downloading QtPy-2.2.1-py3-none-any.whl (82 kB)\n",
            "\u001b[K     |████████████████████████████████| 82 kB 875 kB/s \n",
            "\u001b[?25hBuilding wheels for collected packages: pesq, pyroomacoustics, pystoi, sdeint, pathtools\n",
            "  Building wheel for pesq (setup.py) ... \u001b[?25l\u001b[?25hdone\n",
            "  Created wheel for pesq: filename=pesq-0.0.4-cp37-cp37m-linux_x86_64.whl size=214593 sha256=2368d1699df8462fb21708fc8f46e2a8c8ae77f724cfc608e9573434daa833f7\n",
            "  Stored in directory: /root/.cache/pip/wheels/c5/3d/9c/542731f8357f7c82eb6ac2047cc5375f92c9a05b09a715aff6\n",
            "  Building wheel for pyroomacoustics (PEP 517) ... \u001b[?25l\u001b[?25hdone\n",
            "  Created wheel for pyroomacoustics: filename=pyroomacoustics-0.6.0-cp37-cp37m-linux_x86_64.whl size=9851087 sha256=279605b81aab470374318243ce06f698d344795e6f377c10f1ab049d7a696016\n",
            "  Stored in directory: /root/.cache/pip/wheels/4f/4b/d9/089980483d6e617e61fceb2a0a94760d7beabc445bf0de761e\n",
            "  Building wheel for pystoi (setup.py) ... \u001b[?25l\u001b[?25hdone\n",
            "  Created wheel for pystoi: filename=pystoi-0.3.3-py2.py3-none-any.whl size=7793 sha256=824837e415f944a954f6eb61582496d1588f09012f85062518404f1eeb170728\n",
            "  Stored in directory: /root/.cache/pip/wheels/46/4a/ad/3ab460193ed0535430b4b1575f255aa6bae69df17453628e86\n",
            "  Building wheel for sdeint (setup.py) ... \u001b[?25l\u001b[?25hdone\n",
            "  Created wheel for sdeint: filename=sdeint-0.2.4-py3-none-any.whl size=27923 sha256=5780999677e3bb53f622c1900989415e464c02ed41cc9e0a5e8a7c6be45ed63b\n",
            "  Stored in directory: /root/.cache/pip/wheels/78/fb/cb/a616fc8263994e76284fd384d89a7194c7b8964f9de0963718\n",
            "  Building wheel for pathtools (setup.py) ... \u001b[?25l\u001b[?25hdone\n",
            "  Created wheel for pathtools: filename=pathtools-0.1.2-py3-none-any.whl size=8806 sha256=4fc66ed136aa8b097bd3ddb5de5fd5bb5ebc408b82d4cf59bc27fefe4593c8c5\n",
            "  Stored in directory: /root/.cache/pip/wheels/3e/31/09/fa59cef12cdcfecc627b3d24273699f390e71828921b2cbba2\n",
            "Successfully built pesq pyroomacoustics pystoi sdeint pathtools\n",
            "Installing collected packages: setuptools, jupyter-core, jedi, smmap, widgetsnbextension, torch, termcolor-whl, qtpy, protobuf, jupyterlab-widgets, gitdb, yaspin, trampoline, tqdm, torchmetrics, shortuuid, setproctitle, sentry-sdk, qtconsole, pyDeprecate, pybind11, Pillow, pathtools, jupyter-console, ipywidgets, GitPython, docker-pycreds, boltons, wandb, torchvision, torchsde, torchinfo, torchaudio, torch-ema, sdeint, pytorch-lightning, pystoi, pyroomacoustics, pesq, Ninja, librosa, jupyterlab-pygments, jupyter, ipympl, h5py\n",
            "  Attempting uninstall: setuptools\n",
            "    Found existing installation: setuptools 57.4.0\n",
            "    Uninstalling setuptools-57.4.0:\n",
            "      Successfully uninstalled setuptools-57.4.0\n",
            "  Attempting uninstall: jupyter-core\n",
            "    Found existing installation: jupyter-core 4.11.1\n",
            "    Uninstalling jupyter-core-4.11.1:\n",
            "      Successfully uninstalled jupyter-core-4.11.1\n",
            "  Attempting uninstall: widgetsnbextension\n",
            "    Found existing installation: widgetsnbextension 3.6.1\n",
            "    Uninstalling widgetsnbextension-3.6.1:\n",
            "      Successfully uninstalled widgetsnbextension-3.6.1\n",
            "  Attempting uninstall: torch\n",
            "    Found existing installation: torch 1.12.1+cu113\n",
            "    Uninstalling torch-1.12.1+cu113:\n",
            "      Successfully uninstalled torch-1.12.1+cu113\n",
            "  Attempting uninstall: protobuf\n",
            "    Found existing installation: protobuf 3.17.3\n",
            "    Uninstalling protobuf-3.17.3:\n",
            "      Successfully uninstalled protobuf-3.17.3\n",
            "  Attempting uninstall: jupyterlab-widgets\n",
            "    Found existing installation: jupyterlab-widgets 3.0.3\n",
            "    Uninstalling jupyterlab-widgets-3.0.3:\n",
            "      Successfully uninstalled jupyterlab-widgets-3.0.3\n",
            "  Attempting uninstall: tqdm\n",
            "    Found existing installation: tqdm 4.64.1\n",
            "    Uninstalling tqdm-4.64.1:\n",
            "      Successfully uninstalled tqdm-4.64.1\n",
            "  Attempting uninstall: Pillow\n",
            "    Found existing installation: Pillow 7.1.2\n",
            "    Uninstalling Pillow-7.1.2:\n",
            "      Successfully uninstalled Pillow-7.1.2\n",
            "  Attempting uninstall: jupyter-console\n",
            "    Found existing installation: jupyter-console 6.1.0\n",
            "    Uninstalling jupyter-console-6.1.0:\n",
            "      Successfully uninstalled jupyter-console-6.1.0\n",
            "  Attempting uninstall: ipywidgets\n",
            "    Found existing installation: ipywidgets 7.7.1\n",
            "    Uninstalling ipywidgets-7.7.1:\n",
            "      Successfully uninstalled ipywidgets-7.7.1\n",
            "  Attempting uninstall: torchvision\n",
            "    Found existing installation: torchvision 0.13.1+cu113\n",
            "    Uninstalling torchvision-0.13.1+cu113:\n",
            "      Successfully uninstalled torchvision-0.13.1+cu113\n",
            "  Attempting uninstall: torchaudio\n",
            "    Found existing installation: torchaudio 0.12.1+cu113\n",
            "    Uninstalling torchaudio-0.12.1+cu113:\n",
            "      Successfully uninstalled torchaudio-0.12.1+cu113\n",
            "  Attempting uninstall: librosa\n",
            "    Found existing installation: librosa 0.8.1\n",
            "    Uninstalling librosa-0.8.1:\n",
            "      Successfully uninstalled librosa-0.8.1\n",
            "  Attempting uninstall: h5py\n",
            "    Found existing installation: h5py 3.1.0\n",
            "    Uninstalling h5py-3.1.0:\n",
            "      Successfully uninstalled h5py-3.1.0\n",
            "\u001b[31mERROR: pip's dependency resolver does not currently take into account all the packages that are installed. This behaviour is the source of the following dependency conflicts.\n",
            "torchtext 0.13.1 requires torch==1.12.1, but you have torch 1.12.0 which is incompatible.\u001b[0m\n",
            "Successfully installed GitPython-3.1.29 Ninja-1.10.2.3 Pillow-9.0.1 boltons-21.0.0 docker-pycreds-0.4.0 gitdb-4.0.9 h5py-3.6.0 ipympl-0.8.8 ipywidgets-7.6.5 jedi-0.18.1 jupyter-1.0.0 jupyter-console-6.4.0 jupyter-core-4.7.1 jupyterlab-pygments-0.1.2 jupyterlab-widgets-1.0.2 librosa-0.9.1 pathtools-0.1.2 pesq-0.0.4 protobuf-3.19.4 pyDeprecate-0.3.2 pybind11-2.10.0 pyroomacoustics-0.6.0 pystoi-0.3.3 pytorch-lightning-1.6.5 qtconsole-5.3.2 qtpy-2.2.1 sdeint-0.2.4 sentry-sdk-1.9.0 setproctitle-1.3.2 setuptools-59.5.0 shortuuid-1.0.9 smmap-5.0.0 termcolor-whl-1.1.2 torch-1.12.0 torch-ema-0.3 torchaudio-0.12.0 torchinfo-1.6.3 torchmetrics-0.10.0 torchsde-0.2.5 torchvision-0.13.0 tqdm-4.63.0 trampoline-0.1.2 wandb-0.12.11 widgetsnbextension-3.5.2 yaspin-2.2.0\n"
          ]
        },
        {
          "output_type": "display_data",
          "data": {
            "application/vnd.colab-display-data+json": {
              "pip_warning": {
                "packages": [
                  "PIL",
                  "google",
                  "jupyter_core",
                  "pkg_resources"
                ]
              }
            }
          },
          "metadata": {}
        }
      ],
      "source": [
        "!git clone https://github.com/sp-uhh/sgmse.git\n",
        "!pip install -r /content/drive/MyDrive/sgmse/requirements.txt"
      ]
    },
    {
      "cell_type": "code",
      "source": [
        "%cd sgmse"
      ],
      "metadata": {
        "id": "arKDsnO4Upj-",
        "outputId": "5d1fa6f4-5450-44e6-9e7f-380bf7e0ba9a",
        "colab": {
          "base_uri": "https://localhost:8080/"
        }
      },
      "execution_count": 4,
      "outputs": [
        {
          "output_type": "stream",
          "name": "stdout",
          "text": [
            "/content/sgmse\n"
          ]
        }
      ]
    },
    {
      "cell_type": "code",
      "source": [
        "!python enhancement.py --test_dir /content/drive/MyDrive/sgmse/test --enhanced_dir /content/drive/MyDrive/sgmse/enhanced --ckpt /content/drive/MyDrive/sgmse/pretrained/epoch=326-step=408750.ckpt --N 50 --snr 0.33"
      ],
      "metadata": {
        "colab": {
          "base_uri": "https://localhost:8080/"
        },
        "id": "pyUsAJ4n2fjc",
        "outputId": "2603429e-1a7d-4887-911c-9439651969b9"
      },
      "execution_count": 5,
      "outputs": [
        {
          "output_type": "stream",
          "name": "stdout",
          "text": [
            "No CUDA runtime is found, using CUDA_HOME='/usr/local/cuda'\n",
            "Traceback (most recent call last):\n",
            "  File \"enhancement.py\", line 10, in <module>\n",
            "    from sgmse.model import ScoreModel\n",
            "  File \"/content/sgmse/sgmse/model.py\", line 11, in <module>\n",
            "    from sgmse.backbones import BackboneRegistry\n",
            "  File \"/content/sgmse/sgmse/backbones/__init__.py\", line 2, in <module>\n",
            "    from .ncsnpp import NCSNpp\n",
            "  File \"/content/sgmse/sgmse/backbones/ncsnpp.py\", line 18, in <module>\n",
            "    from .ncsnpp_utils import layers, layerspp, normalization\n",
            "  File \"/content/sgmse/sgmse/backbones/ncsnpp_utils/layerspp.py\", line 20, in <module>\n",
            "    from . import up_or_down_sampling\n",
            "  File \"/content/sgmse/sgmse/backbones/ncsnpp_utils/up_or_down_sampling.py\", line 10, in <module>\n",
            "    from .op import upfirdn2d\n",
            "  File \"/content/sgmse/sgmse/backbones/ncsnpp_utils/op/__init__.py\", line 1, in <module>\n",
            "    from .fused_act import FusedLeakyReLU, fused_leaky_relu\n",
            "  File \"/content/sgmse/sgmse/backbones/ncsnpp_utils/op/fused_act.py\", line 15, in <module>\n",
            "    os.path.join(module_path, \"fused_bias_act_kernel.cu\"),\n",
            "  File \"/usr/local/lib/python3.7/dist-packages/torch/utils/cpp_extension.py\", line 1214, in load\n",
            "    keep_intermediates=keep_intermediates)\n",
            "  File \"/usr/local/lib/python3.7/dist-packages/torch/utils/cpp_extension.py\", line 1435, in _jit_compile\n",
            "    is_standalone=is_standalone)\n",
            "  File \"/usr/local/lib/python3.7/dist-packages/torch/utils/cpp_extension.py\", line 1533, in _write_ninja_file_and_build_library\n",
            "    is_standalone=is_standalone)\n",
            "  File \"/usr/local/lib/python3.7/dist-packages/torch/utils/cpp_extension.py\", line 1922, in _write_ninja_file_to_build_library\n",
            "    cuda_flags = common_cflags + COMMON_NVCC_FLAGS + _get_cuda_arch_flags()\n",
            "  File \"/usr/local/lib/python3.7/dist-packages/torch/utils/cpp_extension.py\", line 1694, in _get_cuda_arch_flags\n",
            "    arch_list[-1] += '+PTX'\n",
            "IndexError: list index out of range\n"
          ]
        }
      ]
    },
    {
      "cell_type": "code",
      "source": [
        "!python calc_metrics.py --test_dir /content/drive/MyDrive/sgmse/test --enhanced_dir /content/drive/MyDrive/sgmse/enhanced"
      ],
      "metadata": {
        "colab": {
          "base_uri": "https://localhost:8080/"
        },
        "id": "2ON-psQx2ndM",
        "outputId": "3dea6992-cfb8-41a1-b680-61c024ab7566"
      },
      "execution_count": 4,
      "outputs": [
        {
          "output_type": "stream",
          "name": "stdout",
          "text": [
            "\r0it [00:00, ?it/s]\r0it [00:00, ?it/s]\n",
            "/content/drive/MyDrive/sgmse/enhanced\n",
            "/usr/local/lib/python3.7/dist-packages/numpy/core/fromnumeric.py:3441: RuntimeWarning: Mean of empty slice.\n",
            "  out=out, **kwargs)\n",
            "/usr/local/lib/python3.7/dist-packages/numpy/core/_methods.py:189: RuntimeWarning: invalid value encountered in double_scalars\n",
            "  ret = ret.dtype.type(ret / rcount)\n",
            "/usr/local/lib/python3.7/dist-packages/numpy/core/_methods.py:263: RuntimeWarning: Degrees of freedom <= 0 for slice\n",
            "  keepdims=keepdims, where=where)\n",
            "/usr/local/lib/python3.7/dist-packages/numpy/core/_methods.py:223: RuntimeWarning: invalid value encountered in true_divide\n",
            "  subok=False)\n",
            "/usr/local/lib/python3.7/dist-packages/numpy/core/_methods.py:254: RuntimeWarning: invalid value encountered in double_scalars\n",
            "  ret = ret.dtype.type(ret / rcount)\n",
            "PESQ: nan ± nan\n",
            "ESTOI: nan ± nan\n",
            "SI-SDR: nan ± nan\n",
            "SI-SIR: nan ± nan\n",
            "SI-SAR: nan ± nan\n"
          ]
        }
      ]
    }
  ]
}