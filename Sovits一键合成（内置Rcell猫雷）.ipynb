{
  "cells": [
    {
      "cell_type": "markdown",
      "metadata": {
        "id": "view-in-github",
        "colab_type": "text"
      },
      "source": [
        "<a href=\"https://colab.research.google.com/github/DLSeed/DeepLearning/blob/main/Sovits%E4%B8%80%E9%94%AE%E5%90%88%E6%88%90%EF%BC%88%E5%86%85%E7%BD%AERcell%E7%8C%AB%E9%9B%B7%EF%BC%89.ipynb\" target=\"_parent\"><img src=\"https://colab.research.google.com/assets/colab-badge.svg\" alt=\"Open In Colab\"/></a>"
      ]
    },
    {
      "cell_type": "markdown",
      "metadata": {
        "id": "F-IpF6c5X0q_"
      },
      "source": [
        "# 简介\n",
        "\n",
        "sovits包括**训练、合成**两部分，替换至本篇进行合成的模型必须是**Rcell版引入f0参数的sovits方式训练出的模型（三件套的colab，模型仅在内部互通）**\n",
        "\n",
        "**格式参考vits专栏三件套（评论区）**[vits注解](https://www.bilibili.com/read/cv18478187)\n",
        "\n",
        "95%的问题都可以参考专栏解决，剩下的我也不会了\n",
        "\n",
        "[一键制作数据集](https://colab.research.google.com/drive/1qzTZQp7ew7HMal4oApm4DI1cK2JR1N0t)\n",
        "\n",
        "[一键训练](https://colab.research.google.com/drive/1xTCtNOK0Rglzq06H3iAwBwVnBuz0fgxJ)\n",
        "\n",
        "**支持一键合成长时间的音频（5min以上），建议使用GPU（CPU比较慢）**\n",
        "\n",
        "按照[Rcell](https://space.bilibili.com/343303724)大佬的思路拼合soft-vc与vits，\n",
        "使用[Francis-Komizu](https://space.bilibili.com/636704927)大佬的原colab结构，并延续Sovits的称呼。\n",
        "\n",
        "hubert.pt为[soft-vc](https://github.com/bshall/hubert)发布的内容合成器模型，generator_idxr.pth为R佬在huggingface发布的模型；采用存在谷歌云盘的方式，节约下载时间。\n",
        "[Sovits](https://github.com/IceKyrin/Sovits) fork自F佬的[github](https://github.com/Francis-Komizu/Sovits)，其中内置了R佬pth的config.json及官方hubert模块（改为加载本地模型方式），以方便使用。"
      ]
    },
    {
      "cell_type": "markdown",
      "metadata": {
        "id": "CMIJduVhX2Ge"
      },
      "source": [
        "# 配置环境"
      ]
    },
    {
      "cell_type": "code",
      "execution_count": 1,
      "metadata": {
        "id": "BfuRLaqys47I",
        "outputId": "9b567323-4a0f-4653-ed42-e934b8587551",
        "colab": {
          "base_uri": "https://localhost:8080/",
          "height": 1000
        }
      },
      "outputs": [
        {
          "output_type": "stream",
          "name": "stdout",
          "text": [
            "Cloning into 'sovits_infer_rcell'...\n",
            "remote: Enumerating objects: 118, done.\u001b[K\n",
            "remote: Counting objects: 100% (14/14), done.\u001b[K\n",
            "remote: Compressing objects: 100% (12/12), done.\u001b[K\n",
            "remote: Total 118 (delta 4), reused 4 (delta 2), pack-reused 104\u001b[K\n",
            "Receiving objects: 100% (118/118), 57.96 KiB | 4.14 MiB/s, done.\n",
            "Resolving deltas: 100% (42/42), done.\n",
            "/content/sovits_infer_rcell\n",
            "Looking in indexes: https://pypi.org/simple, https://us-python.pkg.dev/colab-wheels/public/simple/\n",
            "Collecting Cython==0.29.21\n",
            "  Downloading Cython-0.29.21-cp37-cp37m-manylinux1_x86_64.whl (2.0 MB)\n",
            "\u001b[K     |████████████████████████████████| 2.0 MB 4.0 MB/s \n",
            "\u001b[?25hCollecting matplotlib==3.3.1\n",
            "  Downloading matplotlib-3.3.1-cp37-cp37m-manylinux1_x86_64.whl (11.6 MB)\n",
            "\u001b[K     |████████████████████████████████| 11.6 MB 51.7 MB/s \n",
            "\u001b[?25hRequirement already satisfied: numpy==1.21.6 in /usr/local/lib/python3.7/dist-packages (from -r requirements.txt (line 3)) (1.21.6)\n",
            "Collecting scipy==1.5.2\n",
            "  Downloading scipy-1.5.2-cp37-cp37m-manylinux1_x86_64.whl (25.9 MB)\n",
            "\u001b[K     |████████████████████████████████| 25.9 MB 1.3 MB/s \n",
            "\u001b[?25hCollecting tensorboard==2.3.0\n",
            "  Downloading tensorboard-2.3.0-py3-none-any.whl (6.8 MB)\n",
            "\u001b[K     |████████████████████████████████| 6.8 MB 28.7 MB/s \n",
            "\u001b[?25hCollecting unidecode\n",
            "  Downloading Unidecode-1.3.4-py3-none-any.whl (235 kB)\n",
            "\u001b[K     |████████████████████████████████| 235 kB 60.2 MB/s \n",
            "\u001b[?25hCollecting phonemizer\n",
            "  Downloading phonemizer-3.2.1-py3-none-any.whl (90 kB)\n",
            "\u001b[K     |████████████████████████████████| 90 kB 10.8 MB/s \n",
            "\u001b[?25hCollecting torchcrepe\n",
            "  Downloading torchcrepe-0.0.17-py3-none-any.whl (72.3 MB)\n",
            "\u001b[K     |████████████████████████████████| 72.3 MB 6.0 kB/s \n",
            "\u001b[?25hCollecting pydub\n",
            "  Downloading pydub-0.25.1-py2.py3-none-any.whl (32 kB)\n",
            "Requirement already satisfied: cycler>=0.10 in /usr/local/lib/python3.7/dist-packages (from matplotlib==3.3.1->-r requirements.txt (line 2)) (0.11.0)\n",
            "Requirement already satisfied: pyparsing!=2.0.4,!=2.1.2,!=2.1.6,>=2.0.3 in /usr/local/lib/python3.7/dist-packages (from matplotlib==3.3.1->-r requirements.txt (line 2)) (3.0.9)\n",
            "Requirement already satisfied: certifi>=2020.06.20 in /usr/local/lib/python3.7/dist-packages (from matplotlib==3.3.1->-r requirements.txt (line 2)) (2022.6.15)\n",
            "Requirement already satisfied: python-dateutil>=2.1 in /usr/local/lib/python3.7/dist-packages (from matplotlib==3.3.1->-r requirements.txt (line 2)) (2.8.2)\n",
            "Requirement already satisfied: kiwisolver>=1.0.1 in /usr/local/lib/python3.7/dist-packages (from matplotlib==3.3.1->-r requirements.txt (line 2)) (1.4.4)\n",
            "Requirement already satisfied: pillow>=6.2.0 in /usr/local/lib/python3.7/dist-packages (from matplotlib==3.3.1->-r requirements.txt (line 2)) (7.1.2)\n",
            "Requirement already satisfied: grpcio>=1.24.3 in /usr/local/lib/python3.7/dist-packages (from tensorboard==2.3.0->-r requirements.txt (line 5)) (1.48.1)\n",
            "Requirement already satisfied: google-auth-oauthlib<0.5,>=0.4.1 in /usr/local/lib/python3.7/dist-packages (from tensorboard==2.3.0->-r requirements.txt (line 5)) (0.4.6)\n",
            "Requirement already satisfied: wheel>=0.26 in /usr/local/lib/python3.7/dist-packages (from tensorboard==2.3.0->-r requirements.txt (line 5)) (0.37.1)\n",
            "Requirement already satisfied: google-auth<2,>=1.6.3 in /usr/local/lib/python3.7/dist-packages (from tensorboard==2.3.0->-r requirements.txt (line 5)) (1.35.0)\n",
            "Requirement already satisfied: protobuf>=3.6.0 in /usr/local/lib/python3.7/dist-packages (from tensorboard==2.3.0->-r requirements.txt (line 5)) (3.17.3)\n",
            "Requirement already satisfied: absl-py>=0.4 in /usr/local/lib/python3.7/dist-packages (from tensorboard==2.3.0->-r requirements.txt (line 5)) (1.2.0)\n",
            "Requirement already satisfied: requests<3,>=2.21.0 in /usr/local/lib/python3.7/dist-packages (from tensorboard==2.3.0->-r requirements.txt (line 5)) (2.23.0)\n",
            "Requirement already satisfied: tensorboard-plugin-wit>=1.6.0 in /usr/local/lib/python3.7/dist-packages (from tensorboard==2.3.0->-r requirements.txt (line 5)) (1.8.1)\n",
            "Requirement already satisfied: setuptools>=41.0.0 in /usr/local/lib/python3.7/dist-packages (from tensorboard==2.3.0->-r requirements.txt (line 5)) (57.4.0)\n",
            "Requirement already satisfied: markdown>=2.6.8 in /usr/local/lib/python3.7/dist-packages (from tensorboard==2.3.0->-r requirements.txt (line 5)) (3.4.1)\n",
            "Requirement already satisfied: werkzeug>=0.11.15 in /usr/local/lib/python3.7/dist-packages (from tensorboard==2.3.0->-r requirements.txt (line 5)) (1.0.1)\n",
            "Requirement already satisfied: six>=1.10.0 in /usr/local/lib/python3.7/dist-packages (from tensorboard==2.3.0->-r requirements.txt (line 5)) (1.15.0)\n",
            "Requirement already satisfied: rsa<5,>=3.1.4 in /usr/local/lib/python3.7/dist-packages (from google-auth<2,>=1.6.3->tensorboard==2.3.0->-r requirements.txt (line 5)) (4.9)\n",
            "Requirement already satisfied: pyasn1-modules>=0.2.1 in /usr/local/lib/python3.7/dist-packages (from google-auth<2,>=1.6.3->tensorboard==2.3.0->-r requirements.txt (line 5)) (0.2.8)\n",
            "Requirement already satisfied: cachetools<5.0,>=2.0.0 in /usr/local/lib/python3.7/dist-packages (from google-auth<2,>=1.6.3->tensorboard==2.3.0->-r requirements.txt (line 5)) (4.2.4)\n",
            "Requirement already satisfied: requests-oauthlib>=0.7.0 in /usr/local/lib/python3.7/dist-packages (from google-auth-oauthlib<0.5,>=0.4.1->tensorboard==2.3.0->-r requirements.txt (line 5)) (1.3.1)\n",
            "Requirement already satisfied: typing-extensions in /usr/local/lib/python3.7/dist-packages (from kiwisolver>=1.0.1->matplotlib==3.3.1->-r requirements.txt (line 2)) (4.1.1)\n",
            "Requirement already satisfied: importlib-metadata>=4.4 in /usr/local/lib/python3.7/dist-packages (from markdown>=2.6.8->tensorboard==2.3.0->-r requirements.txt (line 5)) (4.12.0)\n",
            "Requirement already satisfied: zipp>=0.5 in /usr/local/lib/python3.7/dist-packages (from importlib-metadata>=4.4->markdown>=2.6.8->tensorboard==2.3.0->-r requirements.txt (line 5)) (3.8.1)\n",
            "Requirement already satisfied: pyasn1<0.5.0,>=0.4.6 in /usr/local/lib/python3.7/dist-packages (from pyasn1-modules>=0.2.1->google-auth<2,>=1.6.3->tensorboard==2.3.0->-r requirements.txt (line 5)) (0.4.8)\n",
            "Requirement already satisfied: idna<3,>=2.5 in /usr/local/lib/python3.7/dist-packages (from requests<3,>=2.21.0->tensorboard==2.3.0->-r requirements.txt (line 5)) (2.10)\n",
            "Requirement already satisfied: chardet<4,>=3.0.2 in /usr/local/lib/python3.7/dist-packages (from requests<3,>=2.21.0->tensorboard==2.3.0->-r requirements.txt (line 5)) (3.0.4)\n",
            "Requirement already satisfied: urllib3!=1.25.0,!=1.25.1,<1.26,>=1.21.1 in /usr/local/lib/python3.7/dist-packages (from requests<3,>=2.21.0->tensorboard==2.3.0->-r requirements.txt (line 5)) (1.24.3)\n",
            "Requirement already satisfied: oauthlib>=3.0.0 in /usr/local/lib/python3.7/dist-packages (from requests-oauthlib>=0.7.0->google-auth-oauthlib<0.5,>=0.4.1->tensorboard==2.3.0->-r requirements.txt (line 5)) (3.2.0)\n",
            "Requirement already satisfied: attrs>=18.1 in /usr/local/lib/python3.7/dist-packages (from phonemizer->-r requirements.txt (line 7)) (22.1.0)\n",
            "Collecting segments\n",
            "  Downloading segments-2.2.1-py2.py3-none-any.whl (15 kB)\n",
            "Requirement already satisfied: joblib in /usr/local/lib/python3.7/dist-packages (from phonemizer->-r requirements.txt (line 7)) (1.1.0)\n",
            "Collecting dlinfo\n",
            "  Downloading dlinfo-1.2.1-py3-none-any.whl (3.6 kB)\n",
            "Requirement already satisfied: resampy in /usr/local/lib/python3.7/dist-packages (from torchcrepe->-r requirements.txt (line 8)) (0.4.0)\n",
            "Requirement already satisfied: tqdm in /usr/local/lib/python3.7/dist-packages (from torchcrepe->-r requirements.txt (line 8)) (4.64.1)\n",
            "Collecting librosa==0.9.1\n",
            "  Downloading librosa-0.9.1-py3-none-any.whl (213 kB)\n",
            "\u001b[K     |████████████████████████████████| 213 kB 46.0 MB/s \n",
            "\u001b[?25hRequirement already satisfied: torch in /usr/local/lib/python3.7/dist-packages (from torchcrepe->-r requirements.txt (line 8)) (1.12.1+cu113)\n",
            "Requirement already satisfied: soundfile>=0.10.2 in /usr/local/lib/python3.7/dist-packages (from librosa==0.9.1->torchcrepe->-r requirements.txt (line 8)) (0.10.3.post1)\n",
            "Requirement already satisfied: scikit-learn>=0.19.1 in /usr/local/lib/python3.7/dist-packages (from librosa==0.9.1->torchcrepe->-r requirements.txt (line 8)) (1.0.2)\n",
            "Requirement already satisfied: pooch>=1.0 in /usr/local/lib/python3.7/dist-packages (from librosa==0.9.1->torchcrepe->-r requirements.txt (line 8)) (1.6.0)\n",
            "Requirement already satisfied: decorator>=4.0.10 in /usr/local/lib/python3.7/dist-packages (from librosa==0.9.1->torchcrepe->-r requirements.txt (line 8)) (4.4.2)\n",
            "Requirement already satisfied: numba>=0.45.1 in /usr/local/lib/python3.7/dist-packages (from librosa==0.9.1->torchcrepe->-r requirements.txt (line 8)) (0.56.2)\n",
            "Requirement already satisfied: audioread>=2.1.5 in /usr/local/lib/python3.7/dist-packages (from librosa==0.9.1->torchcrepe->-r requirements.txt (line 8)) (3.0.0)\n",
            "Requirement already satisfied: packaging>=20.0 in /usr/local/lib/python3.7/dist-packages (from librosa==0.9.1->torchcrepe->-r requirements.txt (line 8)) (21.3)\n",
            "Requirement already satisfied: llvmlite<0.40,>=0.39.0dev0 in /usr/local/lib/python3.7/dist-packages (from numba>=0.45.1->librosa==0.9.1->torchcrepe->-r requirements.txt (line 8)) (0.39.1)\n",
            "Requirement already satisfied: appdirs>=1.3.0 in /usr/local/lib/python3.7/dist-packages (from pooch>=1.0->librosa==0.9.1->torchcrepe->-r requirements.txt (line 8)) (1.4.4)\n",
            "Requirement already satisfied: threadpoolctl>=2.0.0 in /usr/local/lib/python3.7/dist-packages (from scikit-learn>=0.19.1->librosa==0.9.1->torchcrepe->-r requirements.txt (line 8)) (3.1.0)\n",
            "Requirement already satisfied: cffi>=1.0 in /usr/local/lib/python3.7/dist-packages (from soundfile>=0.10.2->librosa==0.9.1->torchcrepe->-r requirements.txt (line 8)) (1.15.1)\n",
            "Requirement already satisfied: pycparser in /usr/local/lib/python3.7/dist-packages (from cffi>=1.0->soundfile>=0.10.2->librosa==0.9.1->torchcrepe->-r requirements.txt (line 8)) (2.21)\n",
            "Requirement already satisfied: regex in /usr/local/lib/python3.7/dist-packages (from segments->phonemizer->-r requirements.txt (line 7)) (2022.6.2)\n",
            "Collecting csvw>=1.5.6\n",
            "  Downloading csvw-3.1.1-py2.py3-none-any.whl (56 kB)\n",
            "\u001b[K     |████████████████████████████████| 56 kB 4.3 MB/s \n",
            "\u001b[?25hCollecting clldutils>=1.7.3\n",
            "  Downloading clldutils-3.12.0-py2.py3-none-any.whl (197 kB)\n",
            "\u001b[K     |████████████████████████████████| 197 kB 63.2 MB/s \n",
            "\u001b[?25hCollecting colorlog\n",
            "  Downloading colorlog-6.7.0-py2.py3-none-any.whl (11 kB)\n",
            "Requirement already satisfied: tabulate>=0.7.7 in /usr/local/lib/python3.7/dist-packages (from clldutils>=1.7.3->segments->phonemizer->-r requirements.txt (line 7)) (0.8.10)\n",
            "Collecting colorama\n",
            "  Downloading colorama-0.4.5-py2.py3-none-any.whl (16 kB)\n",
            "Collecting language-tags\n",
            "  Downloading language_tags-1.1.0-py2.py3-none-any.whl (210 kB)\n",
            "\u001b[K     |████████████████████████████████| 210 kB 63.4 MB/s \n",
            "\u001b[?25hCollecting rdflib\n",
            "  Downloading rdflib-6.2.0-py3-none-any.whl (500 kB)\n",
            "\u001b[K     |████████████████████████████████| 500 kB 62.0 MB/s \n",
            "\u001b[?25hRequirement already satisfied: jsonschema in /usr/local/lib/python3.7/dist-packages (from csvw>=1.5.6->segments->phonemizer->-r requirements.txt (line 7)) (4.3.3)\n",
            "Requirement already satisfied: babel in /usr/local/lib/python3.7/dist-packages (from csvw>=1.5.6->segments->phonemizer->-r requirements.txt (line 7)) (2.10.3)\n",
            "Requirement already satisfied: uritemplate>=3.0.0 in /usr/local/lib/python3.7/dist-packages (from csvw>=1.5.6->segments->phonemizer->-r requirements.txt (line 7)) (3.0.1)\n",
            "Collecting rfc3986<2\n",
            "  Downloading rfc3986-1.5.0-py2.py3-none-any.whl (31 kB)\n",
            "Collecting isodate\n",
            "  Downloading isodate-0.6.1-py2.py3-none-any.whl (41 kB)\n",
            "\u001b[K     |████████████████████████████████| 41 kB 604 kB/s \n",
            "\u001b[?25hRequirement already satisfied: pytz>=2015.7 in /usr/local/lib/python3.7/dist-packages (from babel->csvw>=1.5.6->segments->phonemizer->-r requirements.txt (line 7)) (2022.2.1)\n",
            "Requirement already satisfied: pyrsistent!=0.17.0,!=0.17.1,!=0.17.2,>=0.14.0 in /usr/local/lib/python3.7/dist-packages (from jsonschema->csvw>=1.5.6->segments->phonemizer->-r requirements.txt (line 7)) (0.18.1)\n",
            "Requirement already satisfied: importlib-resources>=1.4.0 in /usr/local/lib/python3.7/dist-packages (from jsonschema->csvw>=1.5.6->segments->phonemizer->-r requirements.txt (line 7)) (5.9.0)\n",
            "Installing collected packages: isodate, rfc3986, rdflib, language-tags, colorama, scipy, csvw, colorlog, clldutils, segments, librosa, dlinfo, unidecode, torchcrepe, tensorboard, pydub, phonemizer, matplotlib, Cython\n",
            "  Attempting uninstall: scipy\n",
            "    Found existing installation: scipy 1.7.3\n",
            "    Uninstalling scipy-1.7.3:\n",
            "      Successfully uninstalled scipy-1.7.3\n",
            "  Attempting uninstall: librosa\n",
            "    Found existing installation: librosa 0.8.1\n",
            "    Uninstalling librosa-0.8.1:\n",
            "      Successfully uninstalled librosa-0.8.1\n",
            "  Attempting uninstall: tensorboard\n",
            "    Found existing installation: tensorboard 2.8.0\n",
            "    Uninstalling tensorboard-2.8.0:\n",
            "      Successfully uninstalled tensorboard-2.8.0\n",
            "  Attempting uninstall: matplotlib\n",
            "    Found existing installation: matplotlib 3.2.2\n",
            "    Uninstalling matplotlib-3.2.2:\n",
            "      Successfully uninstalled matplotlib-3.2.2\n",
            "  Attempting uninstall: Cython\n",
            "    Found existing installation: Cython 0.29.32\n",
            "    Uninstalling Cython-0.29.32:\n",
            "      Successfully uninstalled Cython-0.29.32\n",
            "\u001b[31mERROR: pip's dependency resolver does not currently take into account all the packages that are installed. This behaviour is the source of the following dependency conflicts.\n",
            "tensorflow 2.8.2+zzzcolab20220719082949 requires tensorboard<2.9,>=2.8, but you have tensorboard 2.3.0 which is incompatible.\u001b[0m\n",
            "Successfully installed Cython-0.29.21 clldutils-3.12.0 colorama-0.4.5 colorlog-6.7.0 csvw-3.1.1 dlinfo-1.2.1 isodate-0.6.1 language-tags-1.1.0 librosa-0.9.1 matplotlib-3.3.1 phonemizer-3.2.1 pydub-0.25.1 rdflib-6.2.0 rfc3986-1.5.0 scipy-1.5.2 segments-2.2.1 tensorboard-2.3.0 torchcrepe-0.0.17 unidecode-1.3.4\n"
          ]
        },
        {
          "output_type": "display_data",
          "data": {
            "application/vnd.colab-display-data+json": {
              "pip_warning": {
                "packages": [
                  "matplotlib",
                  "mpl_toolkits"
                ]
              }
            }
          },
          "metadata": {}
        },
        {
          "output_type": "stream",
          "name": "stdout",
          "text": [
            "/content/sovits_infer_rcell/wav_temp\n",
            "/content/sovits_infer_rcell\n",
            "Looking in indexes: https://pypi.org/simple, https://us-python.pkg.dev/colab-wheels/public/simple/\n",
            "Collecting hifi-gan-bwe\n",
            "  Downloading hifi-gan-bwe-0.1.14.tar.gz (23 kB)\n",
            "Requirement already satisfied: audioread in /usr/local/lib/python3.7/dist-packages (from hifi-gan-bwe) (3.0.0)\n",
            "Requirement already satisfied: matplotlib in /usr/local/lib/python3.7/dist-packages (from hifi-gan-bwe) (3.3.1)\n",
            "Requirement already satisfied: numpy in /usr/local/lib/python3.7/dist-packages (from hifi-gan-bwe) (1.21.6)\n",
            "Requirement already satisfied: requests in /usr/local/lib/python3.7/dist-packages (from hifi-gan-bwe) (2.23.0)\n",
            "Requirement already satisfied: soundfile in /usr/local/lib/python3.7/dist-packages (from hifi-gan-bwe) (0.10.3.post1)\n",
            "Requirement already satisfied: torch in /usr/local/lib/python3.7/dist-packages (from hifi-gan-bwe) (1.12.1+cu113)\n",
            "Requirement already satisfied: torchaudio in /usr/local/lib/python3.7/dist-packages (from hifi-gan-bwe) (0.12.1+cu113)\n",
            "Requirement already satisfied: tqdm in /usr/local/lib/python3.7/dist-packages (from hifi-gan-bwe) (4.64.1)\n",
            "Collecting wandb\n",
            "  Downloading wandb-0.13.3-py2.py3-none-any.whl (1.8 MB)\n",
            "\u001b[K     |████████████████████████████████| 1.8 MB 5.6 MB/s \n",
            "\u001b[?25hRequirement already satisfied: python-dateutil>=2.1 in /usr/local/lib/python3.7/dist-packages (from matplotlib->hifi-gan-bwe) (2.8.2)\n",
            "Requirement already satisfied: cycler>=0.10 in /usr/local/lib/python3.7/dist-packages (from matplotlib->hifi-gan-bwe) (0.11.0)\n",
            "Requirement already satisfied: pyparsing!=2.0.4,!=2.1.2,!=2.1.6,>=2.0.3 in /usr/local/lib/python3.7/dist-packages (from matplotlib->hifi-gan-bwe) (3.0.9)\n",
            "Requirement already satisfied: kiwisolver>=1.0.1 in /usr/local/lib/python3.7/dist-packages (from matplotlib->hifi-gan-bwe) (1.4.4)\n",
            "Requirement already satisfied: certifi>=2020.06.20 in /usr/local/lib/python3.7/dist-packages (from matplotlib->hifi-gan-bwe) (2022.6.15)\n",
            "Requirement already satisfied: pillow>=6.2.0 in /usr/local/lib/python3.7/dist-packages (from matplotlib->hifi-gan-bwe) (7.1.2)\n",
            "Requirement already satisfied: typing-extensions in /usr/local/lib/python3.7/dist-packages (from kiwisolver>=1.0.1->matplotlib->hifi-gan-bwe) (4.1.1)\n",
            "Requirement already satisfied: six>=1.5 in /usr/local/lib/python3.7/dist-packages (from python-dateutil>=2.1->matplotlib->hifi-gan-bwe) (1.15.0)\n",
            "Requirement already satisfied: idna<3,>=2.5 in /usr/local/lib/python3.7/dist-packages (from requests->hifi-gan-bwe) (2.10)\n",
            "Requirement already satisfied: chardet<4,>=3.0.2 in /usr/local/lib/python3.7/dist-packages (from requests->hifi-gan-bwe) (3.0.4)\n",
            "Requirement already satisfied: urllib3!=1.25.0,!=1.25.1,<1.26,>=1.21.1 in /usr/local/lib/python3.7/dist-packages (from requests->hifi-gan-bwe) (1.24.3)\n",
            "Requirement already satisfied: cffi>=1.0 in /usr/local/lib/python3.7/dist-packages (from soundfile->hifi-gan-bwe) (1.15.1)\n",
            "Requirement already satisfied: pycparser in /usr/local/lib/python3.7/dist-packages (from cffi>=1.0->soundfile->hifi-gan-bwe) (2.21)\n",
            "Collecting setproctitle\n",
            "  Downloading setproctitle-1.3.2-cp37-cp37m-manylinux_2_5_x86_64.manylinux1_x86_64.manylinux_2_17_x86_64.manylinux2014_x86_64.whl (30 kB)\n",
            "Requirement already satisfied: protobuf<4.0dev,>=3.12.0 in /usr/local/lib/python3.7/dist-packages (from wandb->hifi-gan-bwe) (3.17.3)\n",
            "Collecting shortuuid>=0.5.0\n",
            "  Downloading shortuuid-1.0.9-py3-none-any.whl (9.4 kB)\n",
            "Collecting GitPython>=1.0.0\n",
            "  Downloading GitPython-3.1.27-py3-none-any.whl (181 kB)\n",
            "\u001b[K     |████████████████████████████████| 181 kB 65.3 MB/s \n",
            "\u001b[?25hRequirement already satisfied: promise<3,>=2.0 in /usr/local/lib/python3.7/dist-packages (from wandb->hifi-gan-bwe) (2.3)\n",
            "Collecting sentry-sdk>=1.0.0\n",
            "  Downloading sentry_sdk-1.9.8-py2.py3-none-any.whl (158 kB)\n",
            "\u001b[K     |████████████████████████████████| 158 kB 63.9 MB/s \n",
            "\u001b[?25hCollecting pathtools\n",
            "  Downloading pathtools-0.1.2.tar.gz (11 kB)\n",
            "Requirement already satisfied: setuptools in /usr/local/lib/python3.7/dist-packages (from wandb->hifi-gan-bwe) (57.4.0)\n",
            "Requirement already satisfied: Click!=8.0.0,>=7.0 in /usr/local/lib/python3.7/dist-packages (from wandb->hifi-gan-bwe) (7.1.2)\n",
            "Collecting docker-pycreds>=0.4.0\n",
            "  Downloading docker_pycreds-0.4.0-py2.py3-none-any.whl (9.0 kB)\n",
            "Requirement already satisfied: PyYAML in /usr/local/lib/python3.7/dist-packages (from wandb->hifi-gan-bwe) (6.0)\n",
            "Requirement already satisfied: psutil>=5.0.0 in /usr/local/lib/python3.7/dist-packages (from wandb->hifi-gan-bwe) (5.4.8)\n",
            "Collecting gitdb<5,>=4.0.1\n",
            "  Downloading gitdb-4.0.9-py3-none-any.whl (63 kB)\n",
            "\u001b[K     |████████████████████████████████| 63 kB 1.8 MB/s \n",
            "\u001b[?25hCollecting smmap<6,>=3.0.1\n",
            "  Downloading smmap-5.0.0-py3-none-any.whl (24 kB)\n",
            "Collecting sentry-sdk>=1.0.0\n",
            "  Downloading sentry_sdk-1.9.7-py2.py3-none-any.whl (157 kB)\n",
            "\u001b[K     |████████████████████████████████| 157 kB 63.4 MB/s \n",
            "\u001b[?25h  Downloading sentry_sdk-1.9.6-py2.py3-none-any.whl (157 kB)\n",
            "\u001b[K     |████████████████████████████████| 157 kB 53.1 MB/s \n",
            "\u001b[?25h  Downloading sentry_sdk-1.9.5-py2.py3-none-any.whl (157 kB)\n",
            "\u001b[K     |████████████████████████████████| 157 kB 64.6 MB/s \n",
            "\u001b[?25h  Downloading sentry_sdk-1.9.4-py2.py3-none-any.whl (157 kB)\n",
            "\u001b[K     |████████████████████████████████| 157 kB 64.1 MB/s \n",
            "\u001b[?25h  Downloading sentry_sdk-1.9.3-py2.py3-none-any.whl (157 kB)\n",
            "\u001b[K     |████████████████████████████████| 157 kB 56.7 MB/s \n",
            "\u001b[?25h  Downloading sentry_sdk-1.9.2-py2.py3-none-any.whl (157 kB)\n",
            "\u001b[K     |████████████████████████████████| 157 kB 62.5 MB/s \n",
            "\u001b[?25h  Downloading sentry_sdk-1.9.1-py2.py3-none-any.whl (157 kB)\n",
            "\u001b[K     |████████████████████████████████| 157 kB 61.7 MB/s \n",
            "\u001b[?25h  Downloading sentry_sdk-1.9.0-py2.py3-none-any.whl (156 kB)\n",
            "\u001b[K     |████████████████████████████████| 156 kB 67.4 MB/s \n",
            "\u001b[?25hBuilding wheels for collected packages: hifi-gan-bwe, pathtools\n",
            "  Building wheel for hifi-gan-bwe (setup.py) ... \u001b[?25l\u001b[?25hdone\n",
            "  Created wheel for hifi-gan-bwe: filename=hifi_gan_bwe-0.1.14-py3-none-any.whl size=23916 sha256=518036b26bd0e0c4ce27b84281c320325ee5d7ebe2fef9eefb002a50730da7d2\n",
            "  Stored in directory: /root/.cache/pip/wheels/a5/d3/c6/3f752de731d4fe959f90ed4b72e048db2d25606e9412f4d234\n",
            "  Building wheel for pathtools (setup.py) ... \u001b[?25l\u001b[?25hdone\n",
            "  Created wheel for pathtools: filename=pathtools-0.1.2-py3-none-any.whl size=8806 sha256=c7a3359fb918483f0a171a0bfbfd121ffdc97fdafccdd001d72fca609320c48b\n",
            "  Stored in directory: /root/.cache/pip/wheels/3e/31/09/fa59cef12cdcfecc627b3d24273699f390e71828921b2cbba2\n",
            "Successfully built hifi-gan-bwe pathtools\n",
            "Installing collected packages: smmap, gitdb, shortuuid, setproctitle, sentry-sdk, pathtools, GitPython, docker-pycreds, wandb, hifi-gan-bwe\n",
            "Successfully installed GitPython-3.1.27 docker-pycreds-0.4.0 gitdb-4.0.9 hifi-gan-bwe-0.1.14 pathtools-0.1.2 sentry-sdk-1.9.0 setproctitle-1.3.2 shortuuid-1.0.9 smmap-5.0.0 wandb-0.13.3\n"
          ]
        }
      ],
      "source": [
        "!git clone https://github.com/IceKyrin/sovits_infer_rcell\n",
        "%cd sovits_infer_rcell\n",
        "!pip install -r requirements.txt\n",
        "!mkdir pth\n",
        "!mkdir raw\n",
        "!mkdir results\n",
        "%cd wav_temp\n",
        "!mkdir input\n",
        "!mkdir output\n",
        "%cd ..\n",
        "\n",
        "!pip install --upgrade hifi-gan-bwe"
      ]
    },
    {
      "cell_type": "code",
      "execution_count": 2,
      "metadata": {
        "id": "RMUmOmIiX873"
      },
      "outputs": [],
      "source": [
        "import os\n",
        "import shutil\n",
        "import utils\n",
        "import torch\n",
        "import hubert\n",
        "import librosa\n",
        "import logging\n",
        "import soundfile\n",
        "import torchcrepe\n",
        "import torchaudio\n",
        "import numpy as np\n",
        "from wav_temp import merge\n",
        "from models import SynthesizerTrn\n",
        "from text.symbols import symbols\n",
        "from text import text_to_sequence\n",
        "from pydub import AudioSegment\n",
        "\n",
        "import audioread\n",
        "import google.colab.files\n",
        "from IPython.display import Audio\n",
        "from hifi_gan_bwe import BandwidthExtender\n",
        "\n",
        "logging.getLogger('numba').setLevel(logging.WARNING)\n",
        "\n",
        "# python删除文件的方法 os.remove(path)path指的是文件的绝对路径,如：\n",
        "def del_file(path_data):\n",
        "    for i in os.listdir(path_data):  # os.listdir(path_data)#返回一个列表，里面是当前目录下面的所有东西的相对路径\n",
        "        os.remove(path_data + i)\n",
        "\n",
        "\n",
        "def cut(cut_time, file_path, vocal_name, out_dir):\n",
        "    audio_segment = AudioSegment.from_file(file_path, format='wav')\n",
        "\n",
        "    total = int(audio_segment.duration_seconds / cut_time)  # 计算音频切片后的个数\n",
        "    for i in range(total):\n",
        "        # 将音频10s切片，并以顺序进行命名\n",
        "        audio_segment[i * cut_time * 1000:(i + 1) * cut_time * 1000].export(f\"{out_dir}/{vocal_name}-{i}.wav\",\n",
        "                                                                            format=\"wav\")\n",
        "    audio_segment[total * cut_time * 1000:].export(f\"{out_dir}/{vocal_name}-{total}.wav\", format=\"wav\")  # 缺少结尾的音频片段\n",
        "\n",
        "\n",
        "def resample_to_22050(audio_path):\n",
        "    raw_audio, raw_sample_rate = torchaudio.load(audio_path)\n",
        "    audio_22050 = torchaudio.transforms.Resample(orig_freq=raw_sample_rate, new_freq=22050)(raw_audio)[0]\n",
        "    soundfile.write(audio_path, audio_22050, 22050)\n",
        "\n",
        "\n",
        "def get_text(text, hps):\n",
        "    text_norm = text_to_sequence(text, hps.data.text_cleaners)\n",
        "    if hps.data.add_blank:\n",
        "        text_norm = commons.intersperse(text_norm, 0)\n",
        "    text_norm = torch.LongTensor(text_norm)\n",
        "    return text_norm\n",
        "\n",
        "\n",
        "def resize2d(source, target_len):\n",
        "    source[source < 0.001] = np.nan\n",
        "    target = np.interp(np.arange(0, len(source) * target_len, len(source)) / target_len, np.arange(0, len(source)),\n",
        "                       source)\n",
        "    return np.nan_to_num(target)\n",
        "\n",
        "\n",
        "def convert_wav_22050_to_f0():\n",
        "    if torch.cuda.is_available():\n",
        "        audio, sr = torchcrepe.load.audio(source_path)\n",
        "        tmp = torchcrepe.predict(audio=audio, fmin=50, fmax=1050, #fmin=50, fmax=550,\n",
        "                                 sample_rate=22050, model='full',\n",
        "                                 batch_size=2048, device='cuda:0').numpy()[0]\n",
        "    else:\n",
        "        tmp = librosa.pyin(librosa.load(source_path)[0],\n",
        "                           fmin=librosa.note_to_hz('C2'),\n",
        "                           fmax=librosa.note_to_hz('C7'),\n",
        "                           frame_length=1780)[0]\n",
        "    f0 = np.zeros_like(tmp)\n",
        "    f0[tmp > 0] = tmp[tmp > 0]\n",
        "    return f0"
      ]
    },
    {
      "cell_type": "markdown",
      "metadata": {
        "id": "monWsXd-YUUb"
      },
      "source": [
        "# 加载模型"
      ]
    },
    {
      "cell_type": "markdown",
      "metadata": {
        "id": "EiHW39jFYhou"
      },
      "source": [
        "## 加载内容编码器"
      ]
    },
    {
      "cell_type": "code",
      "execution_count": 3,
      "metadata": {
        "id": "sZ2mXdCa10di",
        "outputId": "d4619c6f-989e-4b47-9132-1486b3b46a74",
        "colab": {
          "base_uri": "https://localhost:8080/"
        }
      },
      "outputs": [
        {
          "output_type": "stream",
          "name": "stdout",
          "text": [
            "/usr/local/lib/python3.7/dist-packages/gdown/cli.py:131: FutureWarning: Option `--id` was deprecated in version 4.3.1 and will be removed in 5.0. You don't need to pass it anymore to use a file ID.\n",
            "  category=FutureWarning,\n",
            "Downloading...\n",
            "From: https://drive.google.com/uc?id=1cA37nsiSnsouF2TJkaXb3_VoA-rbifTu\n",
            "To: /content/sovits_infer_rcell/pth/hubert.pt\n",
            "100% 378M/378M [00:01<00:00, 306MB/s]\n"
          ]
        },
        {
          "output_type": "stream",
          "name": "stderr",
          "text": [
            "downloading hifi-gan-bwe-10-42890e3-vctk-48kHz.pt: 4200KB [00:00, 27858.51KB/s]\n"
          ]
        }
      ],
      "source": [
        "# 这个东西是https://github.com/bshall/hubert/releases/tag/v0.1 的hubert-soft-0d54a1f4.pt，可以自己替换来源、但是不能换其他模型（路径自己改）。\n",
        "!gdown --id '1cA37nsiSnsouF2TJkaXb3_VoA-rbifTu' --output /content/sovits_infer_rcell/pth/hubert.pt\n",
        "hubert_soft = hubert.hubert_soft('/content/sovits_infer_rcell/pth/hubert.pt')\n",
        "\n",
        "model = BandwidthExtender.from_pretrained(\"hifi-gan-bwe-10-42890e3-vctk-48kHz\").cuda()"
      ]
    },
    {
      "cell_type": "markdown",
      "metadata": {
        "id": "5C5qnjljYoPX"
      },
      "source": [
        "## 加载生成器"
      ]
    },
    {
      "cell_type": "markdown",
      "source": [
        "如果要**替换自己的模型**，将 !gdown这行注释掉（行首加个“#”即可，注释成功则变绿）\n",
        "\n",
        "将**自己的配置json（上一篇生成了的）**上传至/content/sovits_infer_rcell/configs/文件夹\n",
        "将**自己的模型（上一篇生成了的）**上传至/content/sovits_infer_rcell/pth文件夹"
      ],
      "metadata": {
        "id": "rEXBSUEwtu6U"
      }
    },
    {
      "cell_type": "code",
      "execution_count": 4,
      "metadata": {
        "id": "YNtmkYruYVqL",
        "cellView": "form",
        "outputId": "dc122bfd-39c5-4e6d-d245-132dfc1f2642",
        "colab": {
          "base_uri": "https://localhost:8080/"
        }
      },
      "outputs": [
        {
          "output_type": "stream",
          "name": "stdout",
          "text": [
            "/usr/local/lib/python3.7/dist-packages/gdown/cli.py:131: FutureWarning: Option `--id` was deprecated in version 4.3.1 and will be removed in 5.0. You don't need to pass it anymore to use a file ID.\n",
            "  category=FutureWarning,\n",
            "Downloading...\n",
            "From: https://drive.google.com/uc?id=1gg1Igsa7nOtsLohtv-hNq2mmXCsbFqZJ\n",
            "To: /content/sovits_infer_rcell/pth/G.pth\n",
            "100% 663M/663M [00:04<00:00, 143MB/s]\n"
          ]
        }
      ],
      "source": [
        "from google.colab import drive\n",
        "\n",
        "#@markdown 是否使用谷歌盘内模型（不勾选则自动下载猫雷）\n",
        "g_drive = False #@param {type:\"boolean\"}\n",
        "if g_drive:\n",
        "  drive.mount('/content/drive/')\n",
        "  config_path = \"./configs/maolei.json\" #@param {type:\"string\"}\n",
        "  model_path = '/content/drive/MyDrive/paimeng/G.pth' #@param {type:\"string\"}\n",
        "else:\n",
        "  # 这个东西是https://huggingface.co/spaces/innnky/soft-vits-singingvc 的G.pth（猫雷），可以换成自己的模型（必须是按照sovits方式训练出的其他角色模型）\n",
        "  !gdown --id '1gg1Igsa7nOtsLohtv-hNq2mmXCsbFqZJ' --output /content/sovits_infer_rcell/pth/G.pth\n",
        "  #@markdown 不勾选谷歌盘，则使用猫雷，不需要改路径\n",
        "  config_path = \"./configs/vctk_base.json\" #@param {type:\"string\"}\n",
        "  model_path = \"/content/sovits_infer_rcell/pth/G.pth\" #@param {type:\"string\"}\n",
        "\n",
        "hps_ms = utils.get_hparams_from_file(config_path)\n",
        "dev = torch.device(\"cuda\" if torch.cuda.is_available() else \"cpu\")\n",
        "net_g_ms = SynthesizerTrn(\n",
        "    len(symbols),\n",
        "    hps_ms.data.filter_length // 2 + 1,\n",
        "    hps_ms.train.segment_size // hps_ms.data.hop_length,\n",
        "    n_speakers=hps_ms.data.n_speakers,\n",
        "    **hps_ms.model)\n",
        "_ = utils.load_checkpoint(model_path, net_g_ms, None)\n",
        "_ = net_g_ms.eval().to(dev)"
      ]
    },
    {
      "cell_type": "markdown",
      "metadata": {
        "id": "oy-GDKKsZl-j"
      },
      "source": [
        "# 声音转换\n",
        "\n",
        "支持{1、2}**任选一个方式**的声音转换！\n",
        "支持**10s以上5分钟以内**的音频（再久合成时间会过长）。\n",
        "上传到/content/sovits_infer_rcell/raw文件夹，支持自动合成歌曲\n",
        "\n",
        "使用[spleeter](https://github.com/deezer/spleeter)的2stems模式分离歌曲，自动生成这两个文件。（请自行阅读官方使用文档）\n",
        "\n",
        "spleeter separate -p spleeter:2stems -o output audio_example.mp3\n",
        "\n",
        "**结果自动输出至results文件夹。**自行下载，无预览\n",
        "mp3为自动合成的带伴奏歌曲，out_vits为纯人声。"
      ]
    },
    {
      "cell_type": "markdown",
      "source": [
        "跑调破音基本是因为直播采样到的音域不够，这个没办法。（狗头）猫雷高音上不去、低音下不去。\n",
        "例子是牵丝戏，可以不下。明显感觉开头的低音、戏腔都炸了，其他部分还好。"
      ],
      "metadata": {
        "id": "YIYXbcATPaXw"
      }
    },
    {
      "cell_type": "code",
      "source": [
        "# 进results下载试听\n",
        "!gdown --id '1ymJDK1VSESzv2xv_2Ce8h4QoSnzoplt7' --output /content/sovits_infer_rcell/results/demo.mp3"
      ],
      "metadata": {
        "id": "XbBW_XMOQKYj"
      },
      "execution_count": null,
      "outputs": []
    },
    {
      "cell_type": "markdown",
      "metadata": {
        "id": "CqCACnGFbOZE"
      },
      "source": [
        "1、使用参考音频"
      ]
    },
    {
      "cell_type": "code",
      "execution_count": null,
      "metadata": {
        "id": "VX_Rgrc6iQtt"
      },
      "outputs": [],
      "source": [
        "!gdown --id '10JQMPdzp0gjg9cVVersxVZWhIr4UwrFF' --output /content/sovits_infer_rcell/raw/vocals.wav"
      ]
    },
    {
      "cell_type": "markdown",
      "metadata": {
        "id": "JmYTeL_BiXty"
      },
      "source": [
        "2、使用上传音频\n",
        "\n",
        "自行上传至raw文件夹（单声道，22050hz，wav格式），可有bgm.wav（必须为wav格式），无伴奏则为纯人声合成"
      ]
    },
    {
      "cell_type": "markdown",
      "metadata": {
        "id": "7wHXCofJ_64b"
      },
      "source": [
        "3、合成音频"
      ]
    },
    {
      "cell_type": "code",
      "execution_count": 5,
      "metadata": {
        "id": "MXoalx7B2NEv",
        "outputId": "47802e04-876a-4192-9734-d1e69492837d",
        "colab": {
          "base_uri": "https://localhost:8080/"
        }
      },
      "outputs": [
        {
          "output_type": "stream",
          "name": "stdout",
          "text": [
            "torch.Size([1, 256, 750]) tensor([750], device='cuda:0')\n",
            "torch.Size([1, 1, 750])\n",
            "tensor([1290], device='cuda:0')\n",
            "summer_ED2_vocal-4.wav success: 5.00%\n",
            "torch.Size([1, 256, 750]) tensor([750], device='cuda:0')\n",
            "torch.Size([1, 1, 750])\n",
            "tensor([1290], device='cuda:0')\n",
            "summer_ED2_vocal-1.wav success: 10.00%\n",
            "torch.Size([1, 256, 750]) tensor([750], device='cuda:0')\n",
            "torch.Size([1, 1, 750])\n",
            "tensor([1290], device='cuda:0')\n",
            "summer_ED2_vocal-17.wav success: 15.00%\n",
            "torch.Size([1, 256, 750]) tensor([750], device='cuda:0')\n",
            "torch.Size([1, 1, 750])\n",
            "tensor([1290], device='cuda:0')\n",
            "summer_ED2_vocal-2.wav success: 20.00%\n",
            "torch.Size([1, 256, 750]) tensor([750], device='cuda:0')\n",
            "torch.Size([1, 1, 750])\n",
            "tensor([1290], device='cuda:0')\n",
            "summer_ED2_vocal-8.wav success: 25.00%\n",
            "torch.Size([1, 256, 750]) tensor([750], device='cuda:0')\n",
            "torch.Size([1, 1, 750])\n",
            "tensor([1290], device='cuda:0')\n",
            "summer_ED2_vocal-9.wav success: 30.00%\n",
            "torch.Size([1, 256, 750]) tensor([750], device='cuda:0')\n",
            "torch.Size([1, 1, 750])\n",
            "tensor([1290], device='cuda:0')\n",
            "summer_ED2_vocal-3.wav success: 35.00%\n",
            "torch.Size([1, 256, 750]) tensor([750], device='cuda:0')\n",
            "torch.Size([1, 1, 750])\n",
            "tensor([1290], device='cuda:0')\n",
            "summer_ED2_vocal-18.wav success: 40.00%\n",
            "torch.Size([1, 256, 750]) tensor([750], device='cuda:0')\n",
            "torch.Size([1, 1, 750])\n",
            "tensor([1290], device='cuda:0')\n",
            "summer_ED2_vocal-0.wav success: 45.00%\n",
            "torch.Size([1, 256, 750]) tensor([750], device='cuda:0')\n",
            "torch.Size([1, 1, 750])\n",
            "tensor([1290], device='cuda:0')\n",
            "summer_ED2_vocal-14.wav success: 50.00%\n",
            "torch.Size([1, 256, 750]) tensor([750], device='cuda:0')\n",
            "torch.Size([1, 1, 750])\n",
            "tensor([1290], device='cuda:0')\n",
            "summer_ED2_vocal-13.wav success: 55.00%\n",
            "torch.Size([1, 256, 750]) tensor([750], device='cuda:0')\n",
            "torch.Size([1, 1, 750])\n",
            "tensor([1290], device='cuda:0')\n",
            "summer_ED2_vocal-10.wav success: 60.00%\n",
            "torch.Size([1, 256, 750]) tensor([750], device='cuda:0')\n",
            "torch.Size([1, 1, 750])\n",
            "tensor([1290], device='cuda:0')\n",
            "summer_ED2_vocal-6.wav success: 65.00%\n",
            "torch.Size([1, 256, 750]) tensor([750], device='cuda:0')\n",
            "torch.Size([1, 1, 750])\n",
            "tensor([1290], device='cuda:0')\n",
            "summer_ED2_vocal-11.wav success: 70.00%\n",
            "torch.Size([1, 256, 750]) tensor([750], device='cuda:0')\n",
            "torch.Size([1, 1, 750])\n",
            "tensor([1290], device='cuda:0')\n",
            "summer_ED2_vocal-12.wav success: 75.00%\n",
            "torch.Size([1, 256, 750]) tensor([750], device='cuda:0')\n",
            "torch.Size([1, 1, 750])\n",
            "tensor([1290], device='cuda:0')\n",
            "summer_ED2_vocal-7.wav success: 80.00%\n",
            "torch.Size([1, 256, 750]) tensor([750], device='cuda:0')\n",
            "torch.Size([1, 1, 750])\n",
            "tensor([1290], device='cuda:0')\n",
            "summer_ED2_vocal-16.wav success: 85.00%\n",
            "torch.Size([1, 256, 750]) tensor([750], device='cuda:0')\n",
            "torch.Size([1, 1, 750])\n",
            "tensor([1290], device='cuda:0')\n",
            "summer_ED2_vocal-15.wav success: 90.00%\n",
            "torch.Size([1, 256, 750]) tensor([750], device='cuda:0')\n",
            "torch.Size([1, 1, 750])\n",
            "tensor([1290], device='cuda:0')\n",
            "summer_ED2_vocal-5.wav success: 95.00%\n",
            "torch.Size([1, 256, 709]) tensor([709], device='cuda:0')\n",
            "torch.Size([1, 1, 709])\n",
            "tensor([1219], device='cuda:0')\n",
            "summer_ED2_vocal-19.wav success: 100.00%\n",
            "out vits success\n"
          ]
        }
      ],
      "source": [
        "#@markdown **单声道，22050hz，wav格式**\n",
        "\n",
        "#@markdown 人声文件名（不带.wav）\n",
        "clean_name = \"summer_ED2_vocal\" #@param {type:\"string\"}\n",
        "#@markdown 伴奏文件名（可以不放伴奏）（不带.wav）\n",
        "bgm_name = \"\" #@param {type:\"string\"}\n",
        "#@markdown 每次处理的长度，建议30s以内，大了炸显存\n",
        "cut_time = \"15\" #@param {type:\"string\"}\n",
        "#@markdown 变音高，一般不动\n",
        "vc_transform = 1 #@param {type:\"string\"}\n",
        "#@markdown 角色id（0号为猫雷）\n",
        "speaker_id = \"0\" #@param {type:\"string\"}\n",
        "\n",
        "out_audio_name = clean_name\n",
        "\n",
        "resample_to_22050(f'./raw/{clean_name}.wav')\n",
        "del_file(\"./wav_temp/input/\")\n",
        "del_file(\"./wav_temp/output/\")\n",
        "\n",
        "raw_audio_path = f\"./raw/{clean_name}.wav\"\n",
        "\n",
        "audio, sample_rate = torchaudio.load(raw_audio_path)\n",
        "\n",
        "audio_time = audio.shape[-1] / 22050\n",
        "if audio_time > 1.3 * int(cut_time):\n",
        "    cut(int(cut_time), raw_audio_path, clean_name, \"./wav_temp/input\")\n",
        "else:\n",
        "    shutil.copy(f\"./raw/{clean_name}.wav\", f\"./wav_temp/input/{clean_name}-0.wav\")\n",
        "file_list = os.listdir(\"./wav_temp/input\")\n",
        "\n",
        "count = 0\n",
        "for file_name in file_list:\n",
        "    source_path = \"./wav_temp/input/\" + file_name\n",
        "    vc_transform = 1\n",
        "    audio, sample_rate = torchaudio.load(source_path)\n",
        "    input_size = audio.shape[-1]\n",
        "    if sample_rate != 16000:\n",
        "        audio = torchaudio.transforms.Resample(orig_freq=sample_rate, new_freq=16000)(audio)[0]\n",
        "    audio22050 = torchaudio.transforms.Resample(orig_freq=16000, new_freq=22050)(audio)[0]\n",
        "\n",
        "    # 此版本使用torchcrepe加速获取f0\n",
        "    f0 = convert_wav_22050_to_f0()\n",
        "\n",
        "    source = torch.FloatTensor(audio).to(dev).unsqueeze(0).unsqueeze(0)\n",
        "    with torch.inference_mode():\n",
        "        units = hubert_soft.units(source)\n",
        "        soft = units.squeeze(0).cpu().numpy()\n",
        "        f0 = resize2d(f0, len(soft[:, 0])) * int(vc_transform)\n",
        "        soft[:, 0] = f0 / 10\n",
        "\n",
        "    sid = torch.LongTensor([int(speaker_id)]).to(dev)\n",
        "    stn_tst = torch.FloatTensor(soft)\n",
        "    x_tst = stn_tst.to(dev).unsqueeze(0)\n",
        "    x_tst_lengths = torch.LongTensor([stn_tst.size(0)]).to(dev)\n",
        "\n",
        "    with torch.no_grad():\n",
        "        audio = net_g_ms.infer(x_tst, x_tst_lengths, sid=sid, noise_scale=0, noise_scale_w=0, length_scale=1)[0][\n",
        "            0, 0].data.cpu().float().numpy()\n",
        "    soundfile.write(\"./wav_temp/output/\" + file_name, audio, int(audio.shape[0] / input_size * 22050))\n",
        "    with audioread.audio_open(\"./wav_temp/output/\" + file_name) as input_:\n",
        "      sample_rate = input_.samplerate\n",
        "      x = (\n",
        "        np.hstack([np.frombuffer(b, dtype=np.int16) for b in input_])\n",
        "        .reshape([-1, input_.channels])\n",
        "        .astype(np.float32)\n",
        "        / 32767.0\n",
        "      )\n",
        "    with torch.no_grad():\n",
        "      y = np.stack([model(torch.from_numpy(x).cuda(), sample_rate).cpu() for x in x.T]).T\n",
        "    audio = y\n",
        "    soundfile.write(\"./wav_temp/output/\" + file_name, audio, int(audio.shape[0] / input_size * 22050))\n",
        "    count += 1\n",
        "    print(\"%s success: %.2f%%\" % (file_name, 100 * count / len(file_list)))\n",
        "merge.run(clean_name, bgm_name, out_audio_name)"
      ]
    },
    {
      "cell_type": "markdown",
      "metadata": {
        "id": "Qi1ajEiZftyN"
      },
      "source": [
        "# 参考\n",
        "\n",
        "https://github.com/bshall/soft-vc\n",
        "\n",
        "[基于VITS和SoftVC实现任意对一VoiceConversion](https://www.bilibili.com/video/BV1S14y1x78X?share_source=copy_web&vd_source=630b87174c967a898cae3765fba3bfa8)\n",
        "\n"
      ]
    }
  ],
  "metadata": {
    "colab": {
      "collapsed_sections": [],
      "provenance": [],
      "include_colab_link": true
    },
    "gpuClass": "standard",
    "interpreter": {
      "hash": "742fb0cf312e06021cb7ef6febc33961079fd3903e709e6dbd223a75c181bd01"
    },
    "kernelspec": {
      "display_name": "Python 3.8.13 ('torch')",
      "language": "python",
      "name": "python3"
    },
    "language_info": {
      "codemirror_mode": {
        "name": "ipython",
        "version": 3
      },
      "file_extension": ".py",
      "mimetype": "text/x-python",
      "name": "python",
      "nbconvert_exporter": "python",
      "pygments_lexer": "ipython3",
      "version": "3.8.13"
    },
    "accelerator": "GPU"
  },
  "nbformat": 4,
  "nbformat_minor": 0
}