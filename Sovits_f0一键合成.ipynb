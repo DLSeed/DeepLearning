{
  "cells": [
    {
      "cell_type": "markdown",
      "metadata": {
        "id": "view-in-github",
        "colab_type": "text"
      },
      "source": [
        "<a href=\"https://colab.research.google.com/github/DLSeed/DeepLearning/blob/main/Sovits_f0%E4%B8%80%E9%94%AE%E5%90%88%E6%88%90.ipynb\" target=\"_parent\"><img src=\"https://colab.research.google.com/assets/colab-badge.svg\" alt=\"Open In Colab\"/></a>"
      ]
    },
    {
      "cell_type": "markdown",
      "metadata": {
        "id": "F-IpF6c5X0q_"
      },
      "source": [
        "# 简介\n",
        "\n",
        "**适用于此脚本关联的sovits2.0模型**\n",
        "\n",
        "**[旧模型合成](https://colab.research.google.com/drive/14GT8uWM9IATjVylYNGGVXiKWHaDHZSTf)**\n",
        "\n",
        "sovits包括**训练、合成**两部分，替换至本篇进行合成的模型必须是**Rcell版引入f0参数的sovits方式训练出的模型（三件套的colab，模型仅在内部互通）**\n",
        "\n",
        "**格式参考vits专栏三件套（评论区）**[vits注解](https://www.bilibili.com/read/cv18478187)\n",
        "\n",
        "95%的问题都可以参考专栏解决，剩下的我也不会了\n",
        "\n",
        "[一键制作数据集](https://colab.research.google.com/drive/1avWZ_N5BsQcq45XkwQkDpmp912CLZS0n?usp=drive_open#scrollTo=xx2oAf90btEy)\n",
        "\n",
        "[一键训练](https://colab.research.google.com/drive/1DexYpwWIdD_RRqQ165l-YoWMzFAHIbPy?usp=drive_open)\n",
        "\n",
        "**支持一键合成长时间的音频（5min以上），建议使用GPU（CPU比较慢）**\n",
        "\n",
        "hubert.pt为[soft-vc](https://github.com/bshall/hubert)发布的内容合成器模型，G.pth为R佬在huggingface发布的模型；采用存在谷歌云盘的方式，节约下载时间。\n",
        "[Sovits_f0版本](https://github.com/IceKyrin/sovits_f0_infer) fork自rcell佬的[github](https://github.com/innnky/so-vits-svc)，其中内置了R佬pth的config.json及官方hubert模块（改为加载本地模型方式），以方便使用。"
      ]
    },
    {
      "cell_type": "markdown",
      "metadata": {
        "id": "CMIJduVhX2Ge"
      },
      "source": [
        "# 配置环境"
      ]
    },
    {
      "cell_type": "code",
      "execution_count": 1,
      "metadata": {
        "id": "BfuRLaqys47I",
        "outputId": "ca8fb1f7-6b0d-466d-ad05-a22210363b41",
        "colab": {
          "base_uri": "https://localhost:8080/"
        }
      },
      "outputs": [
        {
          "output_type": "stream",
          "name": "stdout",
          "text": [
            "Cloning into 'sovits_f0_infer'...\n",
            "remote: Enumerating objects: 726, done.\u001b[K\n",
            "remote: Counting objects: 100% (116/116), done.\u001b[K\n",
            "remote: Compressing objects: 100% (48/48), done.\u001b[K\n",
            "remote: Total 726 (delta 90), reused 81 (delta 68), pack-reused 610\u001b[K\n",
            "Receiving objects: 100% (726/726), 2.32 MiB | 31.21 MiB/s, done.\n",
            "Resolving deltas: 100% (448/448), done.\n",
            "/content/sovits_f0_infer\n",
            "Looking in indexes: https://pypi.org/simple, https://us-python.pkg.dev/colab-wheels/public/simple/\n",
            "Collecting config==0.5.1\n",
            "  Downloading config-0.5.1-py2.py3-none-any.whl (20 kB)\n",
            "Collecting demjson==1.6\n",
            "  Downloading demjson-1.6.tar.gz (64 kB)\n",
            "\u001b[K     |████████████████████████████████| 64 kB 2.7 MB/s \n",
            "\u001b[?25hCollecting gradio==3.4\n",
            "  Downloading gradio-3.4.0-py3-none-any.whl (5.3 MB)\n",
            "\u001b[K     |████████████████████████████████| 5.3 MB 16.0 MB/s \n",
            "\u001b[?25hCollecting librosa==0.8.0\n",
            "  Downloading librosa-0.8.0.tar.gz (183 kB)\n",
            "\u001b[K     |████████████████████████████████| 183 kB 56.8 MB/s \n",
            "\u001b[31mERROR: Could not find a version that satisfies the requirement matplotlib==3.6.0 (from versions: 0.86, 0.86.1, 0.86.2, 0.91.0, 0.91.1, 1.0.1, 1.1.0, 1.1.1, 1.2.0, 1.2.1, 1.3.0, 1.3.1, 1.4.0, 1.4.1rc1, 1.4.1, 1.4.2, 1.4.3, 1.5.0, 1.5.1, 1.5.2, 1.5.3, 2.0.0b1, 2.0.0b2, 2.0.0b3, 2.0.0b4, 2.0.0rc1, 2.0.0rc2, 2.0.0, 2.0.1, 2.0.2, 2.1.0rc1, 2.1.0, 2.1.1, 2.1.2, 2.2.0rc1, 2.2.0, 2.2.2, 2.2.3, 2.2.4, 2.2.5, 3.0.0rc2, 3.0.0, 3.0.1, 3.0.2, 3.0.3, 3.1.0rc1, 3.1.0rc2, 3.1.0, 3.1.1, 3.1.2, 3.1.3, 3.2.0rc1, 3.2.0rc3, 3.2.0, 3.2.1, 3.2.2, 3.3.0rc1, 3.3.0, 3.3.1, 3.3.2, 3.3.3, 3.3.4, 3.4.0rc1, 3.4.0rc2, 3.4.0rc3, 3.4.0, 3.4.1, 3.4.2, 3.4.3, 3.5.0b1, 3.5.0rc1, 3.5.0, 3.5.1, 3.5.2, 3.5.3)\u001b[0m\n",
            "\u001b[31mERROR: No matching distribution found for matplotlib==3.6.0\u001b[0m\n",
            "\u001b[?25h/content/sovits_f0_infer/wav_temp\n",
            "/content/sovits_f0_infer\n",
            "Looking in indexes: https://pypi.org/simple, https://us-python.pkg.dev/colab-wheels/public/simple/\n",
            "Collecting hifi-gan-bwe\n",
            "  Downloading hifi-gan-bwe-0.1.14.tar.gz (23 kB)\n",
            "Requirement already satisfied: audioread in /usr/local/lib/python3.7/dist-packages (from hifi-gan-bwe) (3.0.0)\n",
            "Requirement already satisfied: matplotlib in /usr/local/lib/python3.7/dist-packages (from hifi-gan-bwe) (3.2.2)\n",
            "Requirement already satisfied: numpy in /usr/local/lib/python3.7/dist-packages (from hifi-gan-bwe) (1.21.6)\n",
            "Requirement already satisfied: requests in /usr/local/lib/python3.7/dist-packages (from hifi-gan-bwe) (2.23.0)\n",
            "Requirement already satisfied: soundfile in /usr/local/lib/python3.7/dist-packages (from hifi-gan-bwe) (0.11.0)\n",
            "Requirement already satisfied: torch in /usr/local/lib/python3.7/dist-packages (from hifi-gan-bwe) (1.12.1+cu113)\n",
            "Requirement already satisfied: torchaudio in /usr/local/lib/python3.7/dist-packages (from hifi-gan-bwe) (0.12.1+cu113)\n",
            "Requirement already satisfied: tqdm in /usr/local/lib/python3.7/dist-packages (from hifi-gan-bwe) (4.64.1)\n",
            "Collecting wandb\n",
            "  Downloading wandb-0.13.4-py2.py3-none-any.whl (1.9 MB)\n",
            "\u001b[K     |████████████████████████████████| 1.9 MB 9.2 MB/s \n",
            "\u001b[?25hRequirement already satisfied: pyparsing!=2.0.4,!=2.1.2,!=2.1.6,>=2.0.1 in /usr/local/lib/python3.7/dist-packages (from matplotlib->hifi-gan-bwe) (3.0.9)\n",
            "Requirement already satisfied: python-dateutil>=2.1 in /usr/local/lib/python3.7/dist-packages (from matplotlib->hifi-gan-bwe) (2.8.2)\n",
            "Requirement already satisfied: cycler>=0.10 in /usr/local/lib/python3.7/dist-packages (from matplotlib->hifi-gan-bwe) (0.11.0)\n",
            "Requirement already satisfied: kiwisolver>=1.0.1 in /usr/local/lib/python3.7/dist-packages (from matplotlib->hifi-gan-bwe) (1.4.4)\n",
            "Requirement already satisfied: typing-extensions in /usr/local/lib/python3.7/dist-packages (from kiwisolver>=1.0.1->matplotlib->hifi-gan-bwe) (4.1.1)\n",
            "Requirement already satisfied: six>=1.5 in /usr/local/lib/python3.7/dist-packages (from python-dateutil>=2.1->matplotlib->hifi-gan-bwe) (1.15.0)\n",
            "Requirement already satisfied: idna<3,>=2.5 in /usr/local/lib/python3.7/dist-packages (from requests->hifi-gan-bwe) (2.10)\n",
            "Requirement already satisfied: certifi>=2017.4.17 in /usr/local/lib/python3.7/dist-packages (from requests->hifi-gan-bwe) (2022.9.24)\n",
            "Requirement already satisfied: chardet<4,>=3.0.2 in /usr/local/lib/python3.7/dist-packages (from requests->hifi-gan-bwe) (3.0.4)\n",
            "Requirement already satisfied: urllib3!=1.25.0,!=1.25.1,<1.26,>=1.21.1 in /usr/local/lib/python3.7/dist-packages (from requests->hifi-gan-bwe) (1.24.3)\n",
            "Requirement already satisfied: cffi>=1.0 in /usr/local/lib/python3.7/dist-packages (from soundfile->hifi-gan-bwe) (1.15.1)\n",
            "Requirement already satisfied: pycparser in /usr/local/lib/python3.7/dist-packages (from cffi>=1.0->soundfile->hifi-gan-bwe) (2.21)\n",
            "Collecting setproctitle\n",
            "  Downloading setproctitle-1.3.2-cp37-cp37m-manylinux_2_5_x86_64.manylinux1_x86_64.manylinux_2_17_x86_64.manylinux2014_x86_64.whl (30 kB)\n",
            "Requirement already satisfied: setuptools in /usr/local/lib/python3.7/dist-packages (from wandb->hifi-gan-bwe) (57.4.0)\n",
            "Requirement already satisfied: promise<3,>=2.0 in /usr/local/lib/python3.7/dist-packages (from wandb->hifi-gan-bwe) (2.3)\n",
            "Collecting sentry-sdk>=1.0.0\n",
            "  Downloading sentry_sdk-1.10.0-py2.py3-none-any.whl (166 kB)\n",
            "\u001b[K     |████████████████████████████████| 166 kB 73.6 MB/s \n",
            "\u001b[?25hCollecting docker-pycreds>=0.4.0\n",
            "  Downloading docker_pycreds-0.4.0-py2.py3-none-any.whl (9.0 kB)\n",
            "Collecting pathtools\n",
            "  Downloading pathtools-0.1.2.tar.gz (11 kB)\n",
            "Collecting GitPython>=1.0.0\n",
            "  Downloading GitPython-3.1.29-py3-none-any.whl (182 kB)\n",
            "\u001b[K     |████████████████████████████████| 182 kB 67.5 MB/s \n",
            "\u001b[?25hRequirement already satisfied: protobuf!=4.0.*,!=4.21.0,<5,>=3.12.0 in /usr/local/lib/python3.7/dist-packages (from wandb->hifi-gan-bwe) (3.17.3)\n",
            "Requirement already satisfied: psutil>=5.0.0 in /usr/local/lib/python3.7/dist-packages (from wandb->hifi-gan-bwe) (5.4.8)\n",
            "Requirement already satisfied: PyYAML in /usr/local/lib/python3.7/dist-packages (from wandb->hifi-gan-bwe) (6.0)\n",
            "Collecting shortuuid>=0.5.0\n",
            "  Downloading shortuuid-1.0.9-py3-none-any.whl (9.4 kB)\n",
            "Requirement already satisfied: Click!=8.0.0,>=7.0 in /usr/local/lib/python3.7/dist-packages (from wandb->hifi-gan-bwe) (7.1.2)\n",
            "Collecting gitdb<5,>=4.0.1\n",
            "  Downloading gitdb-4.0.9-py3-none-any.whl (63 kB)\n",
            "\u001b[K     |████████████████████████████████| 63 kB 2.1 MB/s \n",
            "\u001b[?25hCollecting smmap<6,>=3.0.1\n",
            "  Downloading smmap-5.0.0-py3-none-any.whl (24 kB)\n",
            "Collecting sentry-sdk>=1.0.0\n",
            "  Downloading sentry_sdk-1.9.10-py2.py3-none-any.whl (162 kB)\n",
            "\u001b[K     |████████████████████████████████| 162 kB 64.8 MB/s \n",
            "\u001b[?25h  Downloading sentry_sdk-1.9.9-py2.py3-none-any.whl (162 kB)\n",
            "\u001b[K     |████████████████████████████████| 162 kB 66.9 MB/s \n",
            "\u001b[?25h  Downloading sentry_sdk-1.9.8-py2.py3-none-any.whl (158 kB)\n",
            "\u001b[K     |████████████████████████████████| 158 kB 75.8 MB/s \n",
            "\u001b[?25h  Downloading sentry_sdk-1.9.7-py2.py3-none-any.whl (157 kB)\n",
            "\u001b[K     |████████████████████████████████| 157 kB 72.8 MB/s \n",
            "\u001b[?25h  Downloading sentry_sdk-1.9.6-py2.py3-none-any.whl (157 kB)\n",
            "\u001b[K     |████████████████████████████████| 157 kB 62.3 MB/s \n",
            "\u001b[?25h  Downloading sentry_sdk-1.9.5-py2.py3-none-any.whl (157 kB)\n",
            "\u001b[K     |████████████████████████████████| 157 kB 73.6 MB/s \n",
            "\u001b[?25h  Downloading sentry_sdk-1.9.4-py2.py3-none-any.whl (157 kB)\n",
            "\u001b[K     |████████████████████████████████| 157 kB 72.9 MB/s \n",
            "\u001b[?25h  Downloading sentry_sdk-1.9.3-py2.py3-none-any.whl (157 kB)\n",
            "\u001b[K     |████████████████████████████████| 157 kB 74.1 MB/s \n",
            "\u001b[?25h  Downloading sentry_sdk-1.9.2-py2.py3-none-any.whl (157 kB)\n",
            "\u001b[K     |████████████████████████████████| 157 kB 74.6 MB/s \n",
            "\u001b[?25h  Downloading sentry_sdk-1.9.1-py2.py3-none-any.whl (157 kB)\n",
            "\u001b[K     |████████████████████████████████| 157 kB 74.5 MB/s \n",
            "\u001b[?25h  Downloading sentry_sdk-1.9.0-py2.py3-none-any.whl (156 kB)\n",
            "\u001b[K     |████████████████████████████████| 156 kB 72.5 MB/s \n",
            "\u001b[?25hBuilding wheels for collected packages: hifi-gan-bwe, pathtools\n",
            "  Building wheel for hifi-gan-bwe (setup.py) ... \u001b[?25l\u001b[?25hdone\n",
            "  Created wheel for hifi-gan-bwe: filename=hifi_gan_bwe-0.1.14-py3-none-any.whl size=23916 sha256=69b0eed0aee3f8bfbcb7428e8fb06d9c54403f191ce81559f5cf52d72bb9953b\n",
            "  Stored in directory: /root/.cache/pip/wheels/a5/d3/c6/3f752de731d4fe959f90ed4b72e048db2d25606e9412f4d234\n",
            "  Building wheel for pathtools (setup.py) ... \u001b[?25l\u001b[?25hdone\n",
            "  Created wheel for pathtools: filename=pathtools-0.1.2-py3-none-any.whl size=8806 sha256=a3dd60685346f8e5fab101a18db6ad3a8d802c237aa43b80f02599a4e605e16f\n",
            "  Stored in directory: /root/.cache/pip/wheels/3e/31/09/fa59cef12cdcfecc627b3d24273699f390e71828921b2cbba2\n",
            "Successfully built hifi-gan-bwe pathtools\n",
            "Installing collected packages: smmap, gitdb, shortuuid, setproctitle, sentry-sdk, pathtools, GitPython, docker-pycreds, wandb, hifi-gan-bwe\n",
            "Successfully installed GitPython-3.1.29 docker-pycreds-0.4.0 gitdb-4.0.9 hifi-gan-bwe-0.1.14 pathtools-0.1.2 sentry-sdk-1.9.0 setproctitle-1.3.2 shortuuid-1.0.9 smmap-5.0.0 wandb-0.13.4\n"
          ]
        }
      ],
      "source": [
        "!git clone https://github.com/DLSeed/sovits_f0_infer.git\n",
        "%cd sovits_f0_infer\n",
        "!pip install -r requirements.txt\n",
        "!mkdir pth\n",
        "!mkdir raw\n",
        "!mkdir results\n",
        "%cd wav_temp\n",
        "!mkdir input\n",
        "!mkdir output\n",
        "%cd ..\n",
        "\n",
        "!pip install --upgrade hifi-gan-bwe"
      ]
    },
    {
      "cell_type": "code",
      "execution_count": 2,
      "metadata": {
        "id": "RMUmOmIiX873",
        "outputId": "870b18d2-85c5-4892-fe7a-ca740271d272",
        "colab": {
          "base_uri": "https://localhost:8080/"
        }
      },
      "outputs": [
        {
          "output_type": "stream",
          "name": "stdout",
          "text": [
            "Looking in indexes: https://pypi.org/simple, https://us-python.pkg.dev/colab-wheels/public/simple/\n",
            "Collecting demjson\n",
            "  Downloading demjson-2.2.4.tar.gz (131 kB)\n",
            "\u001b[K     |████████████████████████████████| 131 kB 8.5 MB/s \n",
            "\u001b[?25hCollecting pydub\n",
            "  Downloading pydub-0.25.1-py2.py3-none-any.whl (32 kB)\n",
            "Collecting pyworld\n",
            "  Downloading pyworld-0.3.1.tar.gz (72 kB)\n",
            "\u001b[K     |████████████████████████████████| 72 kB 1.7 MB/s \n",
            "\u001b[?25hRequirement already satisfied: numpy in /usr/local/lib/python3.7/dist-packages (from pyworld) (1.21.6)\n",
            "Requirement already satisfied: cython in /usr/local/lib/python3.7/dist-packages (from pyworld) (0.29.32)\n",
            "Building wheels for collected packages: demjson, pyworld\n",
            "  Building wheel for demjson (setup.py) ... \u001b[?25l\u001b[?25hdone\n",
            "  Created wheel for demjson: filename=demjson-2.2.4-py3-none-any.whl size=73565 sha256=61d7a435d14c14587efd9a55b8576ba0b8f59da02d3b919f367770f944a2aecc\n",
            "  Stored in directory: /root/.cache/pip/wheels/41/94/3d/466801f4a8db8e6fce765d7a0115dfebcc55ddf6b00cd98f59\n",
            "  Building wheel for pyworld (setup.py) ... \u001b[?25l\u001b[?25hdone\n",
            "  Created wheel for pyworld: filename=pyworld-0.3.1-cp37-cp37m-linux_x86_64.whl size=611963 sha256=c0739688dc5111890e769e5bd895489bbe971170018bdf45e857d24c61450f9e\n",
            "  Stored in directory: /root/.cache/pip/wheels/3c/23/da/9c5f21eaa1dedc0434d00411ec949b3cb678f8ac3b07a1764b\n",
            "Successfully built demjson pyworld\n",
            "Installing collected packages: pyworld, pydub, demjson\n",
            "Successfully installed demjson-2.2.4 pydub-0.25.1 pyworld-0.3.1\n"
          ]
        }
      ],
      "source": [
        "import logging\n",
        "import os\n",
        "import shutil\n",
        "!pip install demjson pydub pyworld\n",
        "import demjson\n",
        "import soundfile\n",
        "import torch\n",
        "import torchaudio\n",
        "import hubert_model\n",
        "import infer_tool\n",
        "import utils\n",
        "from models import SynthesizerTrn\n",
        "from preprocess_wave import FeatureInput\n",
        "from wav_temp import merge\n",
        "from pydub import AudioSegment\n",
        "\n",
        "from hifi_gan_bwe import BandwidthExtender\n",
        "import numpy as np\n",
        "import audioread\n",
        "\n",
        "def get_units(path):\n",
        "    source, sr = torchaudio.load(path)\n",
        "    source = torchaudio.functional.resample(source, sr, 16000)\n",
        "    source = source.unsqueeze(0).to(dev)\n",
        "    with torch.inference_mode():\n",
        "        units = hubert_soft.units(source)\n",
        "        return units\n",
        "\n",
        "\n",
        "def transcribe(path, length, transform):\n",
        "    feature_pit = featureInput.compute_f0(path)\n",
        "    feature_pit = feature_pit * 2 ** (transform / 12)\n",
        "    feature_pit = infer_tool.resize2d_f0(feature_pit, length)\n",
        "    coarse_pit = featureInput.coarse_f0(feature_pit)\n",
        "    return coarse_pit\n",
        "\n",
        "def resample_to_22050(audio_path):\n",
        "    raw_audio, raw_sample_rate = torchaudio.load(audio_path)\n",
        "    audio_22050 = torchaudio.transforms.Resample(orig_freq=raw_sample_rate, new_freq=22050)(raw_audio)[0]\n",
        "    soundfile.write(audio_path, audio_22050, 22050)\n",
        "\n",
        "def del_file(path_data):\n",
        "    for i in os.listdir(path_data):  # os.listdir(path_data)#返回一个列表，里面是当前目录下面的所有东西的相对路径\n",
        "        os.remove(path_data + i)\n",
        "\n",
        "\n",
        "def cut(cut_time, file_path, vocal_name, out_dir):\n",
        "    audio_segment = AudioSegment.from_file(file_path, format='wav')\n",
        "\n",
        "    total = int(audio_segment.duration_seconds / cut_time)  # 计算音频切片后的个数\n",
        "    for i in range(total):\n",
        "        # 将音频10s切片，并以顺序进行命名\n",
        "        audio_segment[i * cut_time * 1000:(i + 1) * cut_time * 1000].export(f\"{out_dir}/{vocal_name}-{i}.wav\",\n",
        "                                                                            format=\"wav\")\n",
        "    audio_segment[total * cut_time * 1000:].export(f\"{out_dir}/{vocal_name}-{total}.wav\", format=\"wav\")  # 缺少结尾的音频片段"
      ]
    },
    {
      "cell_type": "markdown",
      "metadata": {
        "id": "monWsXd-YUUb"
      },
      "source": [
        "# 加载模型"
      ]
    },
    {
      "cell_type": "markdown",
      "metadata": {
        "id": "EiHW39jFYhou"
      },
      "source": [
        "## 加载内容编码器"
      ]
    },
    {
      "cell_type": "code",
      "execution_count": 3,
      "metadata": {
        "id": "sZ2mXdCa10di",
        "outputId": "d6e1ee2a-16fb-4131-a070-a51015bf3cb4",
        "colab": {
          "base_uri": "https://localhost:8080/"
        }
      },
      "outputs": [
        {
          "output_type": "stream",
          "name": "stdout",
          "text": [
            "--2022-10-21 01:23:55--  https://huggingface.co/spaces/xiaolang/sovits_midi_dev/resolve/main/hubert.pt\n",
            "Resolving huggingface.co (huggingface.co)... 34.227.129.17, 52.5.54.249, 52.204.9.116, ...\n",
            "Connecting to huggingface.co (huggingface.co)|34.227.129.17|:443... connected.\n",
            "HTTP request sent, awaiting response... 302 Found\n",
            "Location: https://cdn-lfs.huggingface.co/repos/28/d8/28d830556bcdd0cb46c4fede42ac3941296568acdd6086982580ca95e028d6ca/e82e7d079df05fe3aa535f6f7d42d309bdae1d2a53324e2b2386c56721f4f649?response-content-disposition=attachment%3B%20filename%3D%22hubert.pt%22&Expires=1666574636&Policy=eyJTdGF0ZW1lbnQiOlt7IlJlc291cmNlIjoiaHR0cHM6Ly9jZG4tbGZzLmh1Z2dpbmdmYWNlLmNvL3JlcG9zLzI4L2Q4LzI4ZDgzMDU1NmJjZGQwY2I0NmM0ZmVkZTQyYWMzOTQxMjk2NTY4YWNkZDYwODY5ODI1ODBjYTk1ZTAyOGQ2Y2EvZTgyZTdkMDc5ZGYwNWZlM2FhNTM1ZjZmN2Q0MmQzMDliZGFlMWQyYTUzMzI0ZTJiMjM4NmM1NjcyMWY0ZjY0OT9yZXNwb25zZS1jb250ZW50LWRpc3Bvc2l0aW9uPWF0dGFjaG1lbnQlM0IlMjBmaWxlbmFtZSUzRCUyMmh1YmVydC5wdCUyMiIsIkNvbmRpdGlvbiI6eyJEYXRlTGVzc1RoYW4iOnsiQVdTOkVwb2NoVGltZSI6MTY2NjU3NDYzNn19fV19&Signature=mY9yWYmpDrPD1mJakMIildAeuXR0gFIB1BqaPD0mZVzvI8epGO1Afb7xzAXhWNO9T4e14wSwVdz-6zVRbmS0E81btMUoGBAycpNvCV0A5SVk9VBFd0aa6FLrh29XLuDcyGteWSvJTk0oche0zbUv3ZwWN-aonDxnfGdxW4gBGbSx-Lhswl1QPpdreUiOlNXQTGKxtbwG-YOG6bXj4DcYdQcDNSRxeMtYboP-5vry-Jd9sAxQYU5ROu3LxLcSx4bMM9IMvn~1JQQR3uuT1SSUR07d92V0-KNmbLvCYdXQ~Hw8z12dkM0DlfCKAvKctfsiJ~KB5Ijo-f3UR8Vx3BIskA__&Key-Pair-Id=KVTP0A1DKRTAX [following]\n",
            "--2022-10-21 01:23:55--  https://cdn-lfs.huggingface.co/repos/28/d8/28d830556bcdd0cb46c4fede42ac3941296568acdd6086982580ca95e028d6ca/e82e7d079df05fe3aa535f6f7d42d309bdae1d2a53324e2b2386c56721f4f649?response-content-disposition=attachment%3B%20filename%3D%22hubert.pt%22&Expires=1666574636&Policy=eyJTdGF0ZW1lbnQiOlt7IlJlc291cmNlIjoiaHR0cHM6Ly9jZG4tbGZzLmh1Z2dpbmdmYWNlLmNvL3JlcG9zLzI4L2Q4LzI4ZDgzMDU1NmJjZGQwY2I0NmM0ZmVkZTQyYWMzOTQxMjk2NTY4YWNkZDYwODY5ODI1ODBjYTk1ZTAyOGQ2Y2EvZTgyZTdkMDc5ZGYwNWZlM2FhNTM1ZjZmN2Q0MmQzMDliZGFlMWQyYTUzMzI0ZTJiMjM4NmM1NjcyMWY0ZjY0OT9yZXNwb25zZS1jb250ZW50LWRpc3Bvc2l0aW9uPWF0dGFjaG1lbnQlM0IlMjBmaWxlbmFtZSUzRCUyMmh1YmVydC5wdCUyMiIsIkNvbmRpdGlvbiI6eyJEYXRlTGVzc1RoYW4iOnsiQVdTOkVwb2NoVGltZSI6MTY2NjU3NDYzNn19fV19&Signature=mY9yWYmpDrPD1mJakMIildAeuXR0gFIB1BqaPD0mZVzvI8epGO1Afb7xzAXhWNO9T4e14wSwVdz-6zVRbmS0E81btMUoGBAycpNvCV0A5SVk9VBFd0aa6FLrh29XLuDcyGteWSvJTk0oche0zbUv3ZwWN-aonDxnfGdxW4gBGbSx-Lhswl1QPpdreUiOlNXQTGKxtbwG-YOG6bXj4DcYdQcDNSRxeMtYboP-5vry-Jd9sAxQYU5ROu3LxLcSx4bMM9IMvn~1JQQR3uuT1SSUR07d92V0-KNmbLvCYdXQ~Hw8z12dkM0DlfCKAvKctfsiJ~KB5Ijo-f3UR8Vx3BIskA__&Key-Pair-Id=KVTP0A1DKRTAX\n",
            "Resolving cdn-lfs.huggingface.co (cdn-lfs.huggingface.co)... 18.65.229.83, 18.65.229.16, 18.65.229.73, ...\n",
            "Connecting to cdn-lfs.huggingface.co (cdn-lfs.huggingface.co)|18.65.229.83|:443... connected.\n",
            "HTTP request sent, awaiting response... 200 OK\n",
            "Length: 378435957 (361M) [binary/octet-stream]\n",
            "Saving to: ‘/content/sovits_f0_infer/pth/hubert.pt’\n",
            "\n",
            "/content/sovits_f0_ 100%[===================>] 360.90M  45.8MB/s    in 7.9s    \n",
            "\n",
            "2022-10-21 01:24:04 (45.6 MB/s) - ‘/content/sovits_f0_infer/pth/hubert.pt’ saved [378435957/378435957]\n",
            "\n"
          ]
        },
        {
          "output_type": "stream",
          "name": "stderr",
          "text": [
            "downloading hifi-gan-bwe-10-42890e3-vctk-48kHz.pt: 4200KB [00:00, 8846.79KB/s]\n"
          ]
        }
      ],
      "source": [
        "# 这个东西是https://github.com/bshall/hubert/releases/tag/v0.1 的hubert-soft-0d54a1f4.pt，可以自己替换来源、但是不能换其他模型（路径自己改）。\n",
        "#!gdown --id '1cA37nsiSnsouF2TJkaXb3_VoA-rbifTu' --output /content/sovits_f0_infer/pth/hubert.pt\n",
        "!wget https://huggingface.co/spaces/xiaolang/sovits_midi_dev/resolve/main/hubert.pt -O /content/sovits_f0_infer/pth/hubert.pt\n",
        "hubert_soft = hubert_model.hubert_soft('/content/sovits_f0_infer/pth/hubert.pt')\n",
        "\n",
        "model = BandwidthExtender.from_pretrained(\"hifi-gan-bwe-10-42890e3-vctk-48kHz\").cuda()"
      ]
    },
    {
      "cell_type": "markdown",
      "metadata": {
        "id": "5C5qnjljYoPX"
      },
      "source": [
        "## 加载生成器"
      ]
    },
    {
      "cell_type": "markdown",
      "source": [
        "如果要**替换自己的模型**，将 !gdown这行注释掉（行首加个“#”即可，注释成功则变绿）\n",
        "\n",
        "将**自己的配置json（上一篇生成了的）**上传至/content/sovits_infer_rcell/configs/文件夹\n",
        "将**自己的模型（上一篇生成了的）**上传至/content/sovits_infer_rcell/pth文件夹"
      ],
      "metadata": {
        "id": "rEXBSUEwtu6U"
      }
    },
    {
      "cell_type": "code",
      "execution_count": 4,
      "metadata": {
        "id": "YNtmkYruYVqL",
        "outputId": "e8c6cf0d-cee9-401f-c721-6acf601e4dea",
        "colab": {
          "base_uri": "https://localhost:8080/"
        },
        "cellView": "form"
      },
      "outputs": [
        {
          "output_type": "stream",
          "name": "stdout",
          "text": [
            "Mounted at /content/drive/\n"
          ]
        }
      ],
      "source": [
        "from google.colab import drive\n",
        "\n",
        "#@markdown 是否使用谷歌盘内模型（不勾选则自动下载猫雷模型）\n",
        "g_drive = True #@param {type:\"boolean\"}\n",
        "if g_drive:\n",
        "  drive.mount('/content/drive/')\n",
        "  config_path = \"/content/drive/MyDrive/nyarumul/config.json\" #@param {type:\"string\"}\n",
        "  model_path = '/content/drive/MyDrive/nyarumul/281_epochs.pth' #@param {type:\"string\"}\n",
        "else:\n",
        "  # 这个东西是https://huggingface.co/spaces/innnky/soft-vits-singingvc 的G.pth（猫雷），可以换成自己的模型（必须是按照sovits方式训练出的其他角色模型）\n",
        "  !wget https://huggingface.co/spaces/innnky/nyaru-svc2.0/resolve/main/nyarumodel.pth -O /content/sovits_f0_infer/pth/G.pth  \n",
        "  # !gdown --id '1c8ao-0leUPKg6pb8wnF43nSPIzjAHiGE' --output /content/sovits_f0_infer/pth/G.pth\n",
        "  config_path = \"./configs/nyarumul.json\"\n",
        "  model_path = \"/content/sovits_f0_infer/pth/G.pth\"\n",
        "\n",
        "hps_ms = utils.get_hparams_from_file(config_path)\n",
        "dev = torch.device(\"cuda\" if torch.cuda.is_available() else \"cpu\")\n",
        "net_g_ms = SynthesizerTrn(\n",
        "    178,\n",
        "    hps_ms.data.filter_length // 2 + 1,\n",
        "    hps_ms.train.segment_size // hps_ms.data.hop_length,\n",
        "    n_speakers=hps_ms.data.n_speakers,\n",
        "    **hps_ms.model)\n",
        "_ = utils.load_checkpoint(model_path, net_g_ms, None)\n",
        "_ = net_g_ms.eval().to(dev)\n",
        "targer_sample_rate = hps_ms.data.sampling_rate\n",
        "featureInput = FeatureInput(hps_ms.data.sampling_rate, hps_ms.data.hop_length)"
      ]
    },
    {
      "cell_type": "markdown",
      "metadata": {
        "id": "oy-GDKKsZl-j"
      },
      "source": [
        "# 声音转换\n",
        "\n",
        "支持{1、2}**任选一个方式**的声音转换！\n",
        "支持**10s以上5分钟以内**的音频（再久合成时间会过长）。\n",
        "上传到/content/sovits_infer_rcell/raw文件夹，支持自动合成歌曲\n",
        "\n",
        "使用[spleeter](https://github.com/deezer/spleeter)的2stems模式分离歌曲，自动生成这两个文件。（请自行阅读官方使用文档）\n",
        "\n",
        "spleeter separate -p spleeter:2stems -o output audio_example.mp3\n",
        "\n",
        "**结果自动输出至results文件夹。**自行下载，无预览\n",
        "mp3为自动合成的带伴奏歌曲，out_vits为纯人声。"
      ]
    },
    {
      "cell_type": "markdown",
      "source": [
        "跑调破音基本是因为直播采样到的音域不够，这个没办法。（狗头）猫雷高音上不去、低音下不去。\n",
        "例子是牵丝戏，可以不下。明显感觉开头的低音、戏腔都炸了，其他部分还好。"
      ],
      "metadata": {
        "id": "YIYXbcATPaXw"
      }
    },
    {
      "cell_type": "code",
      "source": [
        "# 进results下载试听\n",
        "!gdown --id '1ymJDK1VSESzv2xv_2Ce8h4QoSnzoplt7' --output /content/sovits_f0_infer/results/demo.mp3"
      ],
      "metadata": {
        "id": "XbBW_XMOQKYj"
      },
      "execution_count": null,
      "outputs": []
    },
    {
      "cell_type": "markdown",
      "metadata": {
        "id": "CqCACnGFbOZE"
      },
      "source": [
        "1、使用参考音频"
      ]
    },
    {
      "cell_type": "code",
      "execution_count": null,
      "metadata": {
        "id": "VX_Rgrc6iQtt"
      },
      "outputs": [],
      "source": [
        "!gdown --id '10JQMPdzp0gjg9cVVersxVZWhIr4UwrFF' --output /content/sovits_f0_infer/raw/vocals.wav\n",
        "!gdown --id '1lwmw9P-kgNYjjUveD8J_HuF_yfcdnoHJ' --output /content/sovits_f0_infer/raw/bgm.wav"
      ]
    },
    {
      "cell_type": "markdown",
      "metadata": {
        "id": "JmYTeL_BiXty"
      },
      "source": [
        "2、使用上传音频\n",
        "\n",
        "自行上传至raw文件夹（单声道，22050hz，wav格式），可有bgm.wav（必须为wav格式），无伴奏则为纯人声合成"
      ]
    },
    {
      "cell_type": "markdown",
      "metadata": {
        "id": "7wHXCofJ_64b"
      },
      "source": [
        "3、合成音频"
      ]
    },
    {
      "cell_type": "code",
      "execution_count": 6,
      "metadata": {
        "id": "MXoalx7B2NEv",
        "outputId": "c0513733-f996-4871-c1cc-bc2b974b09df",
        "colab": {
          "base_uri": "https://localhost:8080/"
        }
      },
      "outputs": [
        {
          "output_type": "stream",
          "name": "stdout",
          "text": [
            "夏日重现NCED2_Vocals_281_epochs_48K-5.wav success: 14.29%\n",
            "夏日重现NCED2_Vocals_281_epochs_48K-0.wav success: 28.57%\n",
            "夏日重现NCED2_Vocals_281_epochs_48K-6.wav success: 42.86%\n",
            "夏日重现NCED2_Vocals_281_epochs_48K-2.wav success: 57.14%\n",
            "夏日重现NCED2_Vocals_281_epochs_48K-1.wav success: 71.43%\n",
            "夏日重现NCED2_Vocals_281_epochs_48K-4.wav success: 85.71%\n",
            "夏日重现NCED2_Vocals_281_epochs_48K-3.wav success: 100.00%\n",
            "out vits success\n"
          ]
        }
      ],
      "source": [
        "#@markdown **仅支持wav格式**\n",
        "\n",
        "#@markdown 角色id——猫雷模型：0号为猫雷，1号为？？？\n",
        "\n",
        "#@markdown 角色id\n",
        "speaker_id = \"0\" #@param {type:\"string\"}\n",
        "\n",
        "#@markdown 人声文件名（不带.wav）\n",
        "clean_name = \"\\u590F\\u65E5\\u91CD\\u73B0NCED2_Vocals\" #@param {type:\"string\"}\n",
        "#@markdown 伴奏文件名（可以不放伴奏）（不带.wav）\n",
        "bgm_name = \"\" #@param {type:\"string\"}\n",
        "#@markdown 每次处理的长度，建议30s以内，大了炸显存\n",
        "cut_time = \"15\" #@param {type:\"string\"}\n",
        "#@markdown 可为正负（升降n个半音）\n",
        "vc_transform = \"0\" #@param {type:\"string\"}\n",
        "#@markdown 是否做48k增强（Y--是，N--否）\n",
        "is_48k = \"Y\"\n",
        "\n",
        "\n",
        "out_audio_name = clean_name\n",
        "# 可填写音源文件列表，音源文件格式为wav，放置于raw文件夹下\n",
        "clean_names = [clean_name]\n",
        "# bgm、trans分别对应歌曲列表，若能找到相应文件、则自动合并伴奏，若找不到bgm，则输出干声（不使用bgm合成多首歌时，可只随意填写一个不存在的bgm名）\n",
        "bgm_names = [bgm_name]\n",
        "# 合成多少歌曲时，若半音数量不足、自动补齐相同数量（按第一首歌的半音）\n",
        "trans = [int(vc_transform)]  # 加减半音数（可为正负）s\n",
        "# 每首歌同时输出的speaker_id\n",
        "id_list = [int(speaker_id)]\n",
        "\n",
        "# 每次合成长度，建议30s内，太高了爆掉显存(gtx1066一次15s以内）\n",
        "cut_time = int(cut_time)\n",
        "\n",
        "# 是否做48k增强（Y--是，N--否）\n",
        "is_48k = \"Y\" #@param {type:\"string\"}\n",
        "\n",
        "\n",
        "# 自动补齐\n",
        "infer_tool.fill_a_to_b(bgm_names, clean_names)\n",
        "infer_tool.fill_a_to_b(trans, clean_names)\n",
        "for clean_name, bgm_name, tran in zip(clean_names, bgm_names, trans):\n",
        "    #infer_tool.resample_to_22050(f'./raw/{clean_name}.wav')\n",
        "    resample_to_22050(f'/content/drive/MyDrive/music/raw/{clean_name}.wav')\n",
        "    for speaker_id in id_list:\n",
        "        speakers = [\"猫雷\",\"？？？\"]\n",
        "        out_audio_name = clean_name+'_'+model_path[model_path.rindex('/')+1:model_path.index('.pth')]\n",
        "        if is_48k == \"Y\":\n",
        "          out_audio_name=out_audio_name+'_48K'\n",
        "        # 清除缓存文件\n",
        "        del_file(\"./wav_temp/input/\")\n",
        "        del_file(\"./wav_temp/output/\")\n",
        "\n",
        "        raw_audio_path = f\"/content/drive/MyDrive/music/raw/{clean_name}.wav\"\n",
        "        audio, sample_rate = torchaudio.load(raw_audio_path)\n",
        "\n",
        "        audio_time = audio.shape[-1] / targer_sample_rate\n",
        "        if audio_time > 1.3 * int(cut_time):\n",
        "            cut(int(cut_time), raw_audio_path, out_audio_name, \"./wav_temp/input\")\n",
        "        else:\n",
        "            shutil.copy(f\"/content/drive/MyDrive/music/raw/{clean_name}.wav\", f\"./wav_temp/input/{out_audio_name}-0.wav\")\n",
        "        file_list = os.listdir(\"./wav_temp/input\")\n",
        "\n",
        "        count = 0\n",
        "        for file_name in file_list:\n",
        "            source_path = \"./wav_temp/input/\" + file_name\n",
        "            audio, sample_rate = torchaudio.load(source_path)\n",
        "            input_size = audio.shape[-1]\n",
        "\n",
        "            sid = torch.LongTensor([int(speaker_id)]).to(dev)\n",
        "            soft = get_units(source_path).squeeze(0).cpu().numpy()\n",
        "            pitch = transcribe(source_path, soft.shape[0], tran)\n",
        "            pitch = torch.LongTensor(pitch).unsqueeze(0).to(dev)\n",
        "            stn_tst = torch.FloatTensor(soft)\n",
        "\n",
        "            with torch.no_grad():\n",
        "                x_tst = stn_tst.unsqueeze(0).to(dev)\n",
        "                x_tst_lengths = torch.LongTensor([stn_tst.size(0)]).to(dev)\n",
        "                audio = \\\n",
        "                    net_g_ms.infer(x_tst, x_tst_lengths, pitch, sid=sid, noise_scale=1, noise_scale_w=1, #noise_scale=1, noise_scale_w=1, #noise_scale=.667, noise_scale_w=0.8,\n",
        "                                   length_scale=1)[0][\n",
        "                        0, 0].data.float().cpu().numpy()\n",
        "\n",
        "            soundfile.write(\"./wav_temp/output/\" + file_name, audio, int(audio.shape[0] / input_size * targer_sample_rate))\n",
        "\n",
        "            if is_48k=='Y':\n",
        "              with audioread.audio_open(\"./wav_temp/output/\" + file_name) as input_:\n",
        "                sample_rate = input_.samplerate\n",
        "                x = (\n",
        "                  np.hstack([np.frombuffer(b, dtype=np.int16) for b in input_])\n",
        "                  .reshape([-1, input_.channels])\n",
        "                  .astype(np.float32)\n",
        "                  / 32767.0\n",
        "                  )\n",
        "              with torch.no_grad():\n",
        "                y = np.stack([model(torch.from_numpy(x).cuda(), sample_rate).cpu() for x in x.T]).T\n",
        "              audio = y\n",
        "              soundfile.write(\"./wav_temp/output/\" + file_name, audio, int(audio.shape[0] / input_size * targer_sample_rate))\n",
        "\n",
        "            count += 1\n",
        "            print(\"%s success: %.2f%%\" % (file_name, 100 * count / len(file_list)))\n",
        "        merge.run(out_audio_name, bgm_name, out_audio_name)\n"
      ]
    },
    {
      "cell_type": "code",
      "source": [
        "!cp /content/sovits_f0_infer/results/*.* /content/drive/MyDrive/music/result"
      ],
      "metadata": {
        "id": "Jm3v9j6yZZsI"
      },
      "execution_count": 7,
      "outputs": []
    },
    {
      "cell_type": "code",
      "source": [
        "import IPython.display as ipd\n",
        "import torchaudio\n",
        "#@markdown 预览干声（自行进results查看文件名，带.wav，仅支持wav）\n",
        "source_path = \"/content/sovits_f0_infer/results/vocals.wav\"  #@param {type:\"string\"}\n",
        "audio,sr = torchaudio.load(source_path)\n",
        "ipd.display(ipd.Audio(audio, rate=sr))"
      ],
      "metadata": {
        "cellView": "form",
        "id": "vjkgBV7j2cVJ"
      },
      "execution_count": null,
      "outputs": []
    }
  ],
  "metadata": {
    "colab": {
      "collapsed_sections": [],
      "provenance": [],
      "include_colab_link": true
    },
    "gpuClass": "standard",
    "interpreter": {
      "hash": "742fb0cf312e06021cb7ef6febc33961079fd3903e709e6dbd223a75c181bd01"
    },
    "kernelspec": {
      "display_name": "Python 3.8.13 ('torch')",
      "language": "python",
      "name": "python3"
    },
    "language_info": {
      "codemirror_mode": {
        "name": "ipython",
        "version": 3
      },
      "file_extension": ".py",
      "mimetype": "text/x-python",
      "name": "python",
      "nbconvert_exporter": "python",
      "pygments_lexer": "ipython3",
      "version": "3.8.13"
    },
    "accelerator": "GPU"
  },
  "nbformat": 4,
  "nbformat_minor": 0
}