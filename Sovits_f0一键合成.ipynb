{
  "cells": [
    {
      "cell_type": "markdown",
      "metadata": {
        "id": "view-in-github",
        "colab_type": "text"
      },
      "source": [
        "<a href=\"https://colab.research.google.com/github/DLSeed/DeepLearning/blob/main/Sovits_f0%E4%B8%80%E9%94%AE%E5%90%88%E6%88%90.ipynb\" target=\"_parent\"><img src=\"https://colab.research.google.com/assets/colab-badge.svg\" alt=\"Open In Colab\"/></a>"
      ]
    },
    {
      "cell_type": "markdown",
      "metadata": {
        "id": "F-IpF6c5X0q_"
      },
      "source": [
        "# 简介\n",
        "\n",
        "**适用于此脚本关联的sovits2.0模型**\n",
        "\n",
        "**[旧模型合成](https://colab.research.google.com/drive/14GT8uWM9IATjVylYNGGVXiKWHaDHZSTf)**\n",
        "\n",
        "sovits包括**训练、合成**两部分，替换至本篇进行合成的模型必须是**Rcell版引入f0参数的sovits方式训练出的模型（三件套的colab，模型仅在内部互通）**\n",
        "\n",
        "**格式参考vits专栏三件套（评论区）**[vits注解](https://www.bilibili.com/read/cv18478187)\n",
        "\n",
        "95%的问题都可以参考专栏解决，剩下的我也不会了\n",
        "\n",
        "[一键制作数据集](https://colab.research.google.com/drive/1avWZ_N5BsQcq45XkwQkDpmp912CLZS0n?usp=drive_open#scrollTo=xx2oAf90btEy)\n",
        "\n",
        "[一键训练](https://colab.research.google.com/drive/1DexYpwWIdD_RRqQ165l-YoWMzFAHIbPy?usp=drive_open)\n",
        "\n",
        "**支持一键合成长时间的音频（5min以上），建议使用GPU（CPU比较慢）**\n",
        "\n",
        "hubert.pt为[soft-vc](https://github.com/bshall/hubert)发布的内容合成器模型，G.pth为R佬在huggingface发布的模型；采用存在谷歌云盘的方式，节约下载时间。\n",
        "[Sovits_f0版本](https://github.com/IceKyrin/sovits_f0_infer) fork自rcell佬的[github](https://github.com/innnky/so-vits-svc)，其中内置了R佬pth的config.json及官方hubert模块（改为加载本地模型方式），以方便使用。"
      ]
    },
    {
      "cell_type": "markdown",
      "metadata": {
        "id": "CMIJduVhX2Ge"
      },
      "source": [
        "# 配置环境"
      ]
    },
    {
      "cell_type": "code",
      "execution_count": null,
      "metadata": {
        "id": "BfuRLaqys47I"
      },
      "outputs": [],
      "source": [
        "!git clone https://github.com/IceKyrin/sovits_f0_infer\n",
        "%cd sovits_f0_infer\n",
        "!pip install -r requirements.txt\n",
        "!mkdir pth\n",
        "!mkdir raw\n",
        "!mkdir results\n",
        "%cd wav_temp\n",
        "!mkdir input\n",
        "!mkdir output\n",
        "%cd .."
      ]
    },
    {
      "cell_type": "code",
      "execution_count": null,
      "metadata": {
        "id": "RMUmOmIiX873"
      },
      "outputs": [],
      "source": [
        "import logging\n",
        "import os\n",
        "import shutil\n",
        "\n",
        "import demjson\n",
        "import soundfile\n",
        "import torch\n",
        "import torchaudio\n",
        "\n",
        "import hubert_model\n",
        "import infer_tool\n",
        "import utils\n",
        "from models import SynthesizerTrn\n",
        "from preprocess_wave import FeatureInput\n",
        "from wav_temp import merge\n",
        "\n",
        "logging.getLogger('numba').setLevel(logging.WARNING)\n",
        "\n",
        "\n",
        "def get_units(path):\n",
        "    source, sr = torchaudio.load(path)\n",
        "    source = torchaudio.functional.resample(source, sr, 16000)\n",
        "    source = source.unsqueeze(0).to(dev)\n",
        "    with torch.inference_mode():\n",
        "        units = hubert_soft.units(source)\n",
        "        return units\n",
        "\n",
        "\n",
        "def transcribe(path, length, transform):\n",
        "    feature_pit = featureInput.compute_f0(path)\n",
        "    feature_pit = feature_pit * 2 ** (transform / 12)\n",
        "    feature_pit = infer_tool.resize2d_f0(feature_pit, length)\n",
        "    coarse_pit = featureInput.coarse_f0(feature_pit)\n",
        "    return coarse_pit"
      ]
    },
    {
      "cell_type": "markdown",
      "metadata": {
        "id": "monWsXd-YUUb"
      },
      "source": [
        "# 加载模型"
      ]
    },
    {
      "cell_type": "markdown",
      "metadata": {
        "id": "EiHW39jFYhou"
      },
      "source": [
        "## 加载内容编码器"
      ]
    },
    {
      "cell_type": "code",
      "execution_count": null,
      "metadata": {
        "id": "sZ2mXdCa10di"
      },
      "outputs": [],
      "source": [
        "# 这个东西是https://github.com/bshall/hubert/releases/tag/v0.1 的hubert-soft-0d54a1f4.pt，可以自己替换来源、但是不能换其他模型（路径自己改）。\n",
        "#!gdown --id '1cA37nsiSnsouF2TJkaXb3_VoA-rbifTu' --output /content/sovits_f0_infer/pth/hubert.pt\n",
        "!wget https://huggingface.co/spaces/xiaolang/sovits_midi_dev/resolve/main/hubert.pt -O /content/sovits_f0_infer/pth/hubert.pt\n",
        "hubert_soft = hubert_model.hubert_soft('/content/sovits_f0_infer/pth/hubert.pt')"
      ]
    },
    {
      "cell_type": "markdown",
      "metadata": {
        "id": "5C5qnjljYoPX"
      },
      "source": [
        "## 加载生成器"
      ]
    },
    {
      "cell_type": "markdown",
      "source": [
        "如果要**替换自己的模型**，将 !gdown这行注释掉（行首加个“#”即可，注释成功则变绿）\n",
        "\n",
        "将**自己的配置json（上一篇生成了的）**上传至/content/sovits_infer_rcell/configs/文件夹\n",
        "将**自己的模型（上一篇生成了的）**上传至/content/sovits_infer_rcell/pth文件夹"
      ],
      "metadata": {
        "id": "rEXBSUEwtu6U"
      }
    },
    {
      "cell_type": "code",
      "execution_count": null,
      "metadata": {
        "id": "YNtmkYruYVqL"
      },
      "outputs": [],
      "source": [
        "from google.colab import drive\n",
        "\n",
        "#@markdown 是否使用谷歌盘内模型（不勾选则自动下载猫雷模型）\n",
        "g_drive = False #@param {type:\"boolean\"}\n",
        "if g_drive:\n",
        "  drive.mount('/content/drive/')\n",
        "  config_path = \"./configs/maolei.json\" #@param {type:\"string\"}\n",
        "  model_path = '/content/drive/MyDrive/paimeng/G.pth' #@param {type:\"string\"}\n",
        "else:\n",
        "  # 这个东西是https://huggingface.co/spaces/innnky/soft-vits-singingvc 的G.pth（猫雷），可以换成自己的模型（必须是按照sovits方式训练出的其他角色模型）\n",
        "  !wget https://huggingface.co/spaces/innnky/nyaru-svc2.0/resolve/main/nyarumodel.pth -O /content/sovits_f0_infer/pth/G.pth  \n",
        "  # !gdown --id '1c8ao-0leUPKg6pb8wnF43nSPIzjAHiGE' --output /content/sovits_f0_infer/pth/G.pth\n",
        "  config_path = \"./configs/nyarumul.json\"\n",
        "  model_path = \"/content/sovits_f0_infer/pth/G.pth\"\n",
        "\n",
        "hps_ms = utils.get_hparams_from_file(config_path)\n",
        "dev = torch.device(\"cuda\" if torch.cuda.is_available() else \"cpu\")\n",
        "net_g_ms = SynthesizerTrn(\n",
        "    178,\n",
        "    hps_ms.data.filter_length // 2 + 1,\n",
        "    hps_ms.train.segment_size // hps_ms.data.hop_length,\n",
        "    n_speakers=hps_ms.data.n_speakers,\n",
        "    **hps_ms.model)\n",
        "_ = utils.load_checkpoint(model_path, net_g_ms, None)\n",
        "_ = net_g_ms.eval().to(dev)\n",
        "featureInput = FeatureInput(hps_ms.data.sampling_rate, hps_ms.data.hop_length)"
      ]
    },
    {
      "cell_type": "markdown",
      "metadata": {
        "id": "oy-GDKKsZl-j"
      },
      "source": [
        "# 声音转换\n",
        "\n",
        "支持{1、2}**任选一个方式**的声音转换！\n",
        "支持**10s以上5分钟以内**的音频（再久合成时间会过长）。\n",
        "上传到/content/sovits_infer_rcell/raw文件夹，支持自动合成歌曲\n",
        "\n",
        "使用[spleeter](https://github.com/deezer/spleeter)的2stems模式分离歌曲，自动生成这两个文件。（请自行阅读官方使用文档）\n",
        "\n",
        "spleeter separate -p spleeter:2stems -o output audio_example.mp3\n",
        "\n",
        "**结果自动输出至results文件夹。**自行下载，无预览\n",
        "mp3为自动合成的带伴奏歌曲，out_vits为纯人声。"
      ]
    },
    {
      "cell_type": "markdown",
      "source": [
        "跑调破音基本是因为直播采样到的音域不够，这个没办法。（狗头）猫雷高音上不去、低音下不去。\n",
        "例子是牵丝戏，可以不下。明显感觉开头的低音、戏腔都炸了，其他部分还好。"
      ],
      "metadata": {
        "id": "YIYXbcATPaXw"
      }
    },
    {
      "cell_type": "code",
      "source": [
        "# 进results下载试听\n",
        "!gdown --id '1ymJDK1VSESzv2xv_2Ce8h4QoSnzoplt7' --output /content/sovits_f0_infer/results/demo.mp3"
      ],
      "metadata": {
        "id": "XbBW_XMOQKYj"
      },
      "execution_count": null,
      "outputs": []
    },
    {
      "cell_type": "markdown",
      "metadata": {
        "id": "CqCACnGFbOZE"
      },
      "source": [
        "1、使用参考音频"
      ]
    },
    {
      "cell_type": "code",
      "execution_count": null,
      "metadata": {
        "id": "VX_Rgrc6iQtt"
      },
      "outputs": [],
      "source": [
        "!gdown --id '10JQMPdzp0gjg9cVVersxVZWhIr4UwrFF' --output /content/sovits_f0_infer/raw/vocals.wav\n",
        "!gdown --id '1lwmw9P-kgNYjjUveD8J_HuF_yfcdnoHJ' --output /content/sovits_f0_infer/raw/bgm.wav"
      ]
    },
    {
      "cell_type": "markdown",
      "metadata": {
        "id": "JmYTeL_BiXty"
      },
      "source": [
        "2、使用上传音频\n",
        "\n",
        "自行上传至raw文件夹（单声道，22050hz，wav格式），可有bgm.wav（必须为wav格式），无伴奏则为纯人声合成"
      ]
    },
    {
      "cell_type": "markdown",
      "metadata": {
        "id": "7wHXCofJ_64b"
      },
      "source": [
        "3、合成音频"
      ]
    },
    {
      "cell_type": "code",
      "execution_count": null,
      "metadata": {
        "id": "MXoalx7B2NEv",
        "cellView": "form"
      },
      "outputs": [],
      "source": [
        "#@markdown **单声道，22050hz，wav格式**\n",
        "\n",
        "#@markdown 角色id——猫雷模型：0号为猫雷，1号为？？？\n",
        "\n",
        "#@markdown 角色id\n",
        "speaker_id = \"0\" #@param {type:\"string\"}\n",
        "\n",
        "#@markdown 人声文件名（不带.wav）\n",
        "clean_name = \"vocals\" #@param {type:\"string\"}\n",
        "#@markdown 伴奏文件名（可以不放伴奏）（不带.wav）\n",
        "bgm_name = \"bgm\" #@param {type:\"string\"}\n",
        "#@markdown 每次处理的长度，建议30s以内，大了炸显存\n",
        "cut_time = \"30\" #@param {type:\"string\"}\n",
        "#@markdown 可为正负（升降n个半音）\n",
        "vc_transform = \"0\" #@param {type:\"string\"}\n",
        "\n",
        "\n",
        "out_audio_name = clean_name\n",
        "# 可填写音源文件列表，音源文件格式为单声道22050采样率wav，放置于raw文件夹下\n",
        "clean_names = [clean_name]\n",
        "# bgm、trans分别对应歌曲列表，若能找到相应文件、则自动合并伴奏，若找不到bgm，则输出干声（不使用bgm合成多首歌时，可只随意填写一个不存在的bgm名）\n",
        "bgm_names = [bgm_name]\n",
        "# 合成多少歌曲时，若半音数量不足、自动补齐相同数量（按第一首歌的半音）\n",
        "trans = [int(vc_transform)]  # 加减半音数（可为正负）s\n",
        "# 每首歌同时输出的speaker_id\n",
        "id_list = [int(speaker_id)]\n",
        "\n",
        "# 每次合成长度，建议30s内，太高了爆掉显存(gtx1066一次15s以内）\n",
        "cut_time = int(cut_time)\n",
        "\n",
        "# 自动补齐\n",
        "infer_tool.fill_a_to_b(bgm_names, clean_names)\n",
        "infer_tool.fill_a_to_b(trans, clean_names)\n",
        "for clean_name, bgm_name, tran in zip(clean_names, bgm_names, trans):\n",
        "    infer_tool.resample_to_22050(f'./raw/{clean_name}.wav')\n",
        "    for speaker_id in id_list:\n",
        "        speakers = [\"猫雷\",\"？？？\"]\n",
        "        out_audio_name = clean_name\n",
        "        # 清除缓存文件\n",
        "        infer_tool.del_file(\"./wav_temp/input/\")\n",
        "        infer_tool.del_file(\"./wav_temp/output/\")\n",
        "\n",
        "        raw_audio_path = f\"./raw/{clean_name}.wav\"\n",
        "        audio, sample_rate = torchaudio.load(raw_audio_path)\n",
        "\n",
        "        audio_time = audio.shape[-1] / 22050\n",
        "        if audio_time > 1.3 * int(cut_time):\n",
        "            infer_tool.cut(int(cut_time), raw_audio_path, out_audio_name, \"./wav_temp/input\")\n",
        "        else:\n",
        "            shutil.copy(f\"./raw/{clean_name}.wav\", f\"./wav_temp/input/{out_audio_name}-0.wav\")\n",
        "        file_list = os.listdir(\"./wav_temp/input\")\n",
        "\n",
        "        count = 0\n",
        "        for file_name in file_list:\n",
        "            source_path = \"./wav_temp/input/\" + file_name\n",
        "            audio, sample_rate = torchaudio.load(source_path)\n",
        "            input_size = audio.shape[-1]\n",
        "\n",
        "            sid = torch.LongTensor([int(speaker_id)]).to(dev)\n",
        "            soft = get_units(source_path).squeeze(0).cpu().numpy()\n",
        "            pitch = transcribe(source_path, soft.shape[0], tran)\n",
        "            pitch = torch.LongTensor(pitch).unsqueeze(0).to(dev)\n",
        "            stn_tst = torch.FloatTensor(soft)\n",
        "\n",
        "            with torch.no_grad():\n",
        "                x_tst = stn_tst.unsqueeze(0).to(dev)\n",
        "                x_tst_lengths = torch.LongTensor([stn_tst.size(0)]).to(dev)\n",
        "                audio = \\\n",
        "                    net_g_ms.infer(x_tst, x_tst_lengths, pitch, sid=sid, noise_scale=.667, noise_scale_w=0.8,\n",
        "                                   length_scale=1)[0][\n",
        "                        0, 0].data.float().cpu().numpy()\n",
        "\n",
        "            soundfile.write(\"./wav_temp/output/\" + file_name, audio, int(audio.shape[0] / input_size * 22050))\n",
        "            count += 1\n",
        "            print(\"%s success: %.2f%%\" % (file_name, 100 * count / len(file_list)))\n",
        "        merge.run(out_audio_name, bgm_name, out_audio_name)\n"
      ]
    },
    {
      "cell_type": "code",
      "source": [
        "import IPython.display as ipd\n",
        "import torchaudio\n",
        "#@markdown 预览干声（自行进results查看文件名，带.wav，仅支持wav）\n",
        "source_path = \"/content/sovits_f0_infer/results/vocals.wav\"  #@param {type:\"string\"}\n",
        "audio,sr = torchaudio.load(source_path)\n",
        "ipd.display(ipd.Audio(audio, rate=sr))"
      ],
      "metadata": {
        "cellView": "form",
        "id": "vjkgBV7j2cVJ"
      },
      "execution_count": null,
      "outputs": []
    },
    {
      "cell_type": "markdown",
      "metadata": {
        "id": "Qi1ajEiZftyN"
      },
      "source": [
        "# 参考\n",
        "\n",
        "https://github.com/bshall/soft-vc\n",
        "\n",
        "[基于VITS和SoftVC实现任意对一VoiceConversion](https://www.bilibili.com/video/BV1S14y1x78X?share_source=copy_web&vd_source=630b87174c967a898cae3765fba3bfa8)\n",
        "\n"
      ]
    }
  ],
  "metadata": {
    "colab": {
      "collapsed_sections": [],
      "provenance": [],
      "include_colab_link": true
    },
    "gpuClass": "standard",
    "interpreter": {
      "hash": "742fb0cf312e06021cb7ef6febc33961079fd3903e709e6dbd223a75c181bd01"
    },
    "kernelspec": {
      "display_name": "Python 3.8.13 ('torch')",
      "language": "python",
      "name": "python3"
    },
    "language_info": {
      "codemirror_mode": {
        "name": "ipython",
        "version": 3
      },
      "file_extension": ".py",
      "mimetype": "text/x-python",
      "name": "python",
      "nbconvert_exporter": "python",
      "pygments_lexer": "ipython3",
      "version": "3.8.13"
    },
    "accelerator": "GPU"
  },
  "nbformat": 4,
  "nbformat_minor": 0
}