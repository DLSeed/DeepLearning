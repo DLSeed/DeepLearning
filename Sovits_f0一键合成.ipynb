{
  "cells": [
    {
      "cell_type": "markdown",
      "metadata": {
        "id": "view-in-github",
        "colab_type": "text"
      },
      "source": [
        "<a href=\"https://colab.research.google.com/github/DLSeed/DeepLearning/blob/main/Sovits_f0%E4%B8%80%E9%94%AE%E5%90%88%E6%88%90.ipynb\" target=\"_parent\"><img src=\"https://colab.research.google.com/assets/colab-badge.svg\" alt=\"Open In Colab\"/></a>"
      ]
    },
    {
      "cell_type": "markdown",
      "metadata": {
        "id": "F-IpF6c5X0q_"
      },
      "source": [
        "# 简介\n",
        "\n",
        "**适用于此脚本关联的sovits2.0模型**\n",
        "\n",
        "**[旧模型合成](https://colab.research.google.com/drive/14GT8uWM9IATjVylYNGGVXiKWHaDHZSTf)**\n",
        "\n",
        "sovits包括**训练、合成**两部分，替换至本篇进行合成的模型必须是**Rcell版引入f0参数的sovits方式训练出的模型（三件套的colab，模型仅在内部互通）**\n",
        "\n",
        "**格式参考vits专栏三件套（评论区）**[vits注解](https://www.bilibili.com/read/cv18478187)\n",
        "\n",
        "95%的问题都可以参考专栏解决，剩下的我也不会了\n",
        "\n",
        "[一键制作数据集](https://colab.research.google.com/drive/1avWZ_N5BsQcq45XkwQkDpmp912CLZS0n?usp=drive_open#scrollTo=xx2oAf90btEy)\n",
        "\n",
        "[一键训练](https://colab.research.google.com/drive/1DexYpwWIdD_RRqQ165l-YoWMzFAHIbPy?usp=drive_open)\n",
        "\n",
        "**支持一键合成长时间的音频（5min以上），建议使用GPU（CPU比较慢）**\n",
        "\n",
        "hubert.pt为[soft-vc](https://github.com/bshall/hubert)发布的内容合成器模型，G.pth为R佬在huggingface发布的模型；采用存在谷歌云盘的方式，节约下载时间。\n",
        "[Sovits_f0版本](https://github.com/IceKyrin/sovits_f0_infer) fork自rcell佬的[github](https://github.com/innnky/so-vits-svc)，其中内置了R佬pth的config.json及官方hubert模块（改为加载本地模型方式），以方便使用。"
      ]
    },
    {
      "cell_type": "markdown",
      "metadata": {
        "id": "CMIJduVhX2Ge"
      },
      "source": [
        "# 配置环境"
      ]
    },
    {
      "cell_type": "code",
      "execution_count": 1,
      "metadata": {
        "id": "BfuRLaqys47I",
        "outputId": "51007c23-f69f-440d-b17f-9e363b9612c0",
        "colab": {
          "base_uri": "https://localhost:8080/"
        }
      },
      "outputs": [
        {
          "output_type": "stream",
          "name": "stdout",
          "text": [
            "Cloning into 'sovits_f0_infer'...\n",
            "remote: Enumerating objects: 274, done.\u001b[K\n",
            "remote: Counting objects: 100% (274/274), done.\u001b[K\n",
            "remote: Compressing objects: 100% (178/178), done.\u001b[K\n",
            "remote: Total 274 (delta 138), reused 194 (delta 87), pack-reused 0\u001b[K\n",
            "Receiving objects: 100% (274/274), 100.36 KiB | 14.34 MiB/s, done.\n",
            "Resolving deltas: 100% (138/138), done.\n",
            "/content/sovits_f0_infer\n",
            "Looking in indexes: https://pypi.org/simple, https://us-python.pkg.dev/colab-wheels/public/simple/\n",
            "Collecting librosa==0.8.0\n",
            "  Downloading librosa-0.8.0.tar.gz (183 kB)\n",
            "\u001b[K     |████████████████████████████████| 183 kB 34.5 MB/s \n",
            "\u001b[?25hCollecting matplotlib==3.3.1\n",
            "  Downloading matplotlib-3.3.1-cp37-cp37m-manylinux1_x86_64.whl (11.6 MB)\n",
            "\u001b[K     |████████████████████████████████| 11.6 MB 55.9 MB/s \n",
            "\u001b[?25hRequirement already satisfied: numpy==1.21.6 in /usr/local/lib/python3.7/dist-packages (from -r requirements.txt (line 3)) (1.21.6)\n",
            "Collecting phonemizer==2.2.1\n",
            "  Downloading phonemizer-2.2.1-py3-none-any.whl (49 kB)\n",
            "\u001b[K     |████████████████████████████████| 49 kB 6.7 MB/s \n",
            "\u001b[?25hCollecting scipy==1.5.2\n",
            "  Downloading scipy-1.5.2-cp37-cp37m-manylinux1_x86_64.whl (25.9 MB)\n",
            "\u001b[K     |████████████████████████████████| 25.9 MB 1.9 MB/s \n",
            "\u001b[?25hRequirement already satisfied: torch in /usr/local/lib/python3.7/dist-packages (from -r requirements.txt (line 6)) (1.12.1+cu113)\n",
            "Requirement already satisfied: torchvision in /usr/local/lib/python3.7/dist-packages (from -r requirements.txt (line 7)) (0.13.1+cu113)\n",
            "Collecting Unidecode==1.1.1\n",
            "  Downloading Unidecode-1.1.1-py2.py3-none-any.whl (238 kB)\n",
            "\u001b[K     |████████████████████████████████| 238 kB 56.9 MB/s \n",
            "\u001b[?25hRequirement already satisfied: torchaudio in /usr/local/lib/python3.7/dist-packages (from -r requirements.txt (line 9)) (0.12.1+cu113)\n",
            "Collecting pyworld\n",
            "  Downloading pyworld-0.3.0.tar.gz (212 kB)\n",
            "\u001b[K     |████████████████████████████████| 212 kB 51.2 MB/s \n",
            "\u001b[?25h  Installing build dependencies ... \u001b[?25l\u001b[?25hdone\n",
            "  Getting requirements to build wheel ... \u001b[?25l\u001b[?25hdone\n",
            "    Preparing wheel metadata ... \u001b[?25l\u001b[?25hdone\n",
            "Requirement already satisfied: Cython==0.29.32 in /usr/local/lib/python3.7/dist-packages (from -r requirements.txt (line 11)) (0.29.32)\n",
            "Collecting demjson\n",
            "  Downloading demjson-2.2.4.tar.gz (131 kB)\n",
            "\u001b[K     |████████████████████████████████| 131 kB 56.2 MB/s \n",
            "\u001b[?25hCollecting pydub\n",
            "  Downloading pydub-0.25.1-py2.py3-none-any.whl (32 kB)\n",
            "Collecting pyaudio\n",
            "  Downloading PyAudio-0.2.12.tar.gz (42 kB)\n",
            "\u001b[K     |████████████████████████████████| 42 kB 1.5 MB/s \n",
            "\u001b[?25h  Installing build dependencies ... \u001b[?25l\u001b[?25hdone\n",
            "  Getting requirements to build wheel ... \u001b[?25l\u001b[?25hdone\n",
            "    Preparing wheel metadata ... \u001b[?25l\u001b[?25hdone\n",
            "Collecting wave\n",
            "  Downloading Wave-0.0.2.zip (38 kB)\n",
            "Requirement already satisfied: audioread>=2.0.0 in /usr/local/lib/python3.7/dist-packages (from librosa==0.8.0->-r requirements.txt (line 1)) (3.0.0)\n",
            "Requirement already satisfied: scikit-learn!=0.19.0,>=0.14.0 in /usr/local/lib/python3.7/dist-packages (from librosa==0.8.0->-r requirements.txt (line 1)) (1.0.2)\n",
            "Requirement already satisfied: joblib>=0.14 in /usr/local/lib/python3.7/dist-packages (from librosa==0.8.0->-r requirements.txt (line 1)) (1.1.0)\n",
            "Requirement already satisfied: decorator>=3.0.0 in /usr/local/lib/python3.7/dist-packages (from librosa==0.8.0->-r requirements.txt (line 1)) (4.4.2)\n",
            "Requirement already satisfied: resampy>=0.2.2 in /usr/local/lib/python3.7/dist-packages (from librosa==0.8.0->-r requirements.txt (line 1)) (0.4.0)\n",
            "Requirement already satisfied: numba>=0.43.0 in /usr/local/lib/python3.7/dist-packages (from librosa==0.8.0->-r requirements.txt (line 1)) (0.56.2)\n",
            "Requirement already satisfied: soundfile>=0.9.0 in /usr/local/lib/python3.7/dist-packages (from librosa==0.8.0->-r requirements.txt (line 1)) (0.10.3.post1)\n",
            "Requirement already satisfied: pooch>=1.0 in /usr/local/lib/python3.7/dist-packages (from librosa==0.8.0->-r requirements.txt (line 1)) (1.6.0)\n",
            "Requirement already satisfied: certifi>=2020.06.20 in /usr/local/lib/python3.7/dist-packages (from matplotlib==3.3.1->-r requirements.txt (line 2)) (2022.6.15)\n",
            "Requirement already satisfied: python-dateutil>=2.1 in /usr/local/lib/python3.7/dist-packages (from matplotlib==3.3.1->-r requirements.txt (line 2)) (2.8.2)\n",
            "Requirement already satisfied: cycler>=0.10 in /usr/local/lib/python3.7/dist-packages (from matplotlib==3.3.1->-r requirements.txt (line 2)) (0.11.0)\n",
            "Requirement already satisfied: pyparsing!=2.0.4,!=2.1.2,!=2.1.6,>=2.0.3 in /usr/local/lib/python3.7/dist-packages (from matplotlib==3.3.1->-r requirements.txt (line 2)) (3.0.9)\n",
            "Requirement already satisfied: kiwisolver>=1.0.1 in /usr/local/lib/python3.7/dist-packages (from matplotlib==3.3.1->-r requirements.txt (line 2)) (1.4.4)\n",
            "Requirement already satisfied: pillow>=6.2.0 in /usr/local/lib/python3.7/dist-packages (from matplotlib==3.3.1->-r requirements.txt (line 2)) (7.1.2)\n",
            "Requirement already satisfied: attrs>=18.1 in /usr/local/lib/python3.7/dist-packages (from phonemizer==2.2.1->-r requirements.txt (line 4)) (22.1.0)\n",
            "Collecting segments\n",
            "  Downloading segments-2.2.1-py2.py3-none-any.whl (15 kB)\n",
            "Requirement already satisfied: typing-extensions in /usr/local/lib/python3.7/dist-packages (from kiwisolver>=1.0.1->matplotlib==3.3.1->-r requirements.txt (line 2)) (4.1.1)\n",
            "Requirement already satisfied: importlib-metadata in /usr/local/lib/python3.7/dist-packages (from numba>=0.43.0->librosa==0.8.0->-r requirements.txt (line 1)) (4.12.0)\n",
            "Requirement already satisfied: setuptools<60 in /usr/local/lib/python3.7/dist-packages (from numba>=0.43.0->librosa==0.8.0->-r requirements.txt (line 1)) (57.4.0)\n",
            "Requirement already satisfied: llvmlite<0.40,>=0.39.0dev0 in /usr/local/lib/python3.7/dist-packages (from numba>=0.43.0->librosa==0.8.0->-r requirements.txt (line 1)) (0.39.1)\n",
            "Requirement already satisfied: packaging>=20.0 in /usr/local/lib/python3.7/dist-packages (from pooch>=1.0->librosa==0.8.0->-r requirements.txt (line 1)) (21.3)\n",
            "Requirement already satisfied: requests>=2.19.0 in /usr/local/lib/python3.7/dist-packages (from pooch>=1.0->librosa==0.8.0->-r requirements.txt (line 1)) (2.23.0)\n",
            "Requirement already satisfied: appdirs>=1.3.0 in /usr/local/lib/python3.7/dist-packages (from pooch>=1.0->librosa==0.8.0->-r requirements.txt (line 1)) (1.4.4)\n",
            "Requirement already satisfied: six>=1.5 in /usr/local/lib/python3.7/dist-packages (from python-dateutil>=2.1->matplotlib==3.3.1->-r requirements.txt (line 2)) (1.15.0)\n",
            "Requirement already satisfied: idna<3,>=2.5 in /usr/local/lib/python3.7/dist-packages (from requests>=2.19.0->pooch>=1.0->librosa==0.8.0->-r requirements.txt (line 1)) (2.10)\n",
            "Requirement already satisfied: chardet<4,>=3.0.2 in /usr/local/lib/python3.7/dist-packages (from requests>=2.19.0->pooch>=1.0->librosa==0.8.0->-r requirements.txt (line 1)) (3.0.4)\n",
            "Requirement already satisfied: urllib3!=1.25.0,!=1.25.1,<1.26,>=1.21.1 in /usr/local/lib/python3.7/dist-packages (from requests>=2.19.0->pooch>=1.0->librosa==0.8.0->-r requirements.txt (line 1)) (1.24.3)\n",
            "Requirement already satisfied: threadpoolctl>=2.0.0 in /usr/local/lib/python3.7/dist-packages (from scikit-learn!=0.19.0,>=0.14.0->librosa==0.8.0->-r requirements.txt (line 1)) (3.1.0)\n",
            "Requirement already satisfied: cffi>=1.0 in /usr/local/lib/python3.7/dist-packages (from soundfile>=0.9.0->librosa==0.8.0->-r requirements.txt (line 1)) (1.15.1)\n",
            "Requirement already satisfied: pycparser in /usr/local/lib/python3.7/dist-packages (from cffi>=1.0->soundfile>=0.9.0->librosa==0.8.0->-r requirements.txt (line 1)) (2.21)\n",
            "Requirement already satisfied: zipp>=0.5 in /usr/local/lib/python3.7/dist-packages (from importlib-metadata->numba>=0.43.0->librosa==0.8.0->-r requirements.txt (line 1)) (3.8.1)\n",
            "Collecting clldutils>=1.7.3\n",
            "  Downloading clldutils-3.12.0-py2.py3-none-any.whl (197 kB)\n",
            "\u001b[K     |████████████████████████████████| 197 kB 49.9 MB/s \n",
            "\u001b[?25hRequirement already satisfied: regex in /usr/local/lib/python3.7/dist-packages (from segments->phonemizer==2.2.1->-r requirements.txt (line 4)) (2022.6.2)\n",
            "Collecting csvw>=1.5.6\n",
            "  Downloading csvw-3.1.1-py2.py3-none-any.whl (56 kB)\n",
            "\u001b[K     |████████████████████████████████| 56 kB 4.8 MB/s \n",
            "\u001b[?25hCollecting colorlog\n",
            "  Downloading colorlog-6.7.0-py2.py3-none-any.whl (11 kB)\n",
            "Requirement already satisfied: tabulate>=0.7.7 in /usr/local/lib/python3.7/dist-packages (from clldutils>=1.7.3->segments->phonemizer==2.2.1->-r requirements.txt (line 4)) (0.8.10)\n",
            "Requirement already satisfied: jsonschema in /usr/local/lib/python3.7/dist-packages (from csvw>=1.5.6->segments->phonemizer==2.2.1->-r requirements.txt (line 4)) (4.3.3)\n",
            "Collecting isodate\n",
            "  Downloading isodate-0.6.1-py2.py3-none-any.whl (41 kB)\n",
            "\u001b[K     |████████████████████████████████| 41 kB 637 kB/s \n",
            "\u001b[?25hCollecting language-tags\n",
            "  Downloading language_tags-1.1.0-py2.py3-none-any.whl (210 kB)\n",
            "\u001b[K     |████████████████████████████████| 210 kB 72.3 MB/s \n",
            "\u001b[?25hRequirement already satisfied: babel in /usr/local/lib/python3.7/dist-packages (from csvw>=1.5.6->segments->phonemizer==2.2.1->-r requirements.txt (line 4)) (2.10.3)\n",
            "Requirement already satisfied: uritemplate>=3.0.0 in /usr/local/lib/python3.7/dist-packages (from csvw>=1.5.6->segments->phonemizer==2.2.1->-r requirements.txt (line 4)) (3.0.1)\n",
            "Collecting rfc3986<2\n",
            "  Downloading rfc3986-1.5.0-py2.py3-none-any.whl (31 kB)\n",
            "Collecting colorama\n",
            "  Downloading colorama-0.4.5-py2.py3-none-any.whl (16 kB)\n",
            "Collecting rdflib\n",
            "  Downloading rdflib-6.2.0-py3-none-any.whl (500 kB)\n",
            "\u001b[K     |████████████████████████████████| 500 kB 45.5 MB/s \n",
            "\u001b[?25hRequirement already satisfied: pytz>=2015.7 in /usr/local/lib/python3.7/dist-packages (from babel->csvw>=1.5.6->segments->phonemizer==2.2.1->-r requirements.txt (line 4)) (2022.2.1)\n",
            "Requirement already satisfied: pyrsistent!=0.17.0,!=0.17.1,!=0.17.2,>=0.14.0 in /usr/local/lib/python3.7/dist-packages (from jsonschema->csvw>=1.5.6->segments->phonemizer==2.2.1->-r requirements.txt (line 4)) (0.18.1)\n",
            "Requirement already satisfied: importlib-resources>=1.4.0 in /usr/local/lib/python3.7/dist-packages (from jsonschema->csvw>=1.5.6->segments->phonemizer==2.2.1->-r requirements.txt (line 4)) (5.9.0)\n",
            "Building wheels for collected packages: librosa, pyworld, demjson, pyaudio, wave\n",
            "  Building wheel for librosa (setup.py) ... \u001b[?25l\u001b[?25hdone\n",
            "  Created wheel for librosa: filename=librosa-0.8.0-py3-none-any.whl size=201396 sha256=30e54cbab69666393b71999e7dc1106625564d6feff8fefead717bac22926096\n",
            "  Stored in directory: /root/.cache/pip/wheels/de/1e/aa/d91797ae7e1ce11853ee100bee9d1781ae9d750e7458c95afb\n",
            "  Building wheel for pyworld (PEP 517) ... \u001b[?25l\u001b[?25hdone\n",
            "  Created wheel for pyworld: filename=pyworld-0.3.0-cp37-cp37m-linux_x86_64.whl size=609475 sha256=3e32e56c3ac2fd6375d0f33e0ba5ec933590378faea8a0ea0c5d1fd90bbee8fd\n",
            "  Stored in directory: /root/.cache/pip/wheels/e7/7c/11/c775fffa0e1e7b05a6604b4323408a77f80fb4ab304d96b5c6\n",
            "  Building wheel for demjson (setup.py) ... \u001b[?25l\u001b[?25hdone\n",
            "  Created wheel for demjson: filename=demjson-2.2.4-py3-none-any.whl size=73565 sha256=4addd209de9498a6a47c01e291be0276e9a977c261b0344ae0253348892bdf94\n",
            "  Stored in directory: /root/.cache/pip/wheels/41/94/3d/466801f4a8db8e6fce765d7a0115dfebcc55ddf6b00cd98f59\n",
            "  Building wheel for pyaudio (PEP 517) ... \u001b[?25l\u001b[?25herror\n",
            "\u001b[31m  ERROR: Failed building wheel for pyaudio\u001b[0m\n",
            "  Building wheel for wave (setup.py) ... \u001b[?25l\u001b[?25hdone\n",
            "  Created wheel for wave: filename=Wave-0.0.2-py3-none-any.whl size=1240 sha256=b614c8329eca4ea4ce777ed03d4231529e2c802c1c44e1a17295e3f22f052629\n",
            "  Stored in directory: /root/.cache/pip/wheels/25/e8/fe/458c7dac00c6abedad6380b9d0ef1a5cbc7c21807df1d30915\n",
            "Successfully built librosa pyworld demjson wave\n",
            "Failed to build pyaudio\n",
            "\u001b[31mERROR: Could not build wheels for pyaudio which use PEP 517 and cannot be installed directly\u001b[0m\n",
            "/content/sovits_f0_infer/wav_temp\n",
            "/content/sovits_f0_infer\n"
          ]
        }
      ],
      "source": [
        "!git clone -b record https://github.com/IceKyrin/sovits_f0_infer\n",
        "%cd sovits_f0_infer\n",
        "!pip install -r requirements.txt\n",
        "!mkdir pth\n",
        "!mkdir raw\n",
        "!mkdir results\n",
        "%cd wav_temp\n",
        "!mkdir input\n",
        "!mkdir output\n",
        "%cd .."
      ]
    },
    {
      "cell_type": "code",
      "execution_count": 2,
      "metadata": {
        "id": "RMUmOmIiX873",
        "outputId": "8d339416-34ac-4e1b-f872-00ce54bef595",
        "colab": {
          "base_uri": "https://localhost:8080/"
        }
      },
      "outputs": [
        {
          "output_type": "stream",
          "name": "stdout",
          "text": [
            "Looking in indexes: https://pypi.org/simple, https://us-python.pkg.dev/colab-wheels/public/simple/\n",
            "Collecting demjson\n",
            "  Using cached demjson-2.2.4-py3-none-any.whl\n",
            "Collecting pydub\n",
            "  Using cached pydub-0.25.1-py2.py3-none-any.whl (32 kB)\n",
            "Collecting pyworld\n",
            "  Using cached pyworld-0.3.0-cp37-cp37m-linux_x86_64.whl\n",
            "Requirement already satisfied: numpy in /usr/local/lib/python3.7/dist-packages (from pyworld) (1.21.6)\n",
            "Requirement already satisfied: cython>=0.24.0 in /usr/local/lib/python3.7/dist-packages (from pyworld) (0.29.32)\n",
            "Installing collected packages: pyworld, pydub, demjson\n",
            "Successfully installed demjson-2.2.4 pydub-0.25.1 pyworld-0.3.0\n"
          ]
        }
      ],
      "source": [
        "import logging\n",
        "import os\n",
        "import shutil\n",
        "!pip install demjson pydub pyworld\n",
        "import demjson\n",
        "import soundfile\n",
        "import torch\n",
        "import torchaudio\n",
        "import hubert_model\n",
        "import infer_tool\n",
        "import utils\n",
        "from models import SynthesizerTrn\n",
        "from preprocess_wave import FeatureInput\n",
        "from wav_temp import merge\n",
        "\n",
        "\n",
        "\n",
        "def get_units(path):\n",
        "    source, sr = torchaudio.load(path)\n",
        "    source = torchaudio.functional.resample(source, sr, 16000)\n",
        "    source = source.unsqueeze(0).to(dev)\n",
        "    with torch.inference_mode():\n",
        "        units = hubert_soft.units(source)\n",
        "        return units\n",
        "\n",
        "\n",
        "def transcribe(path, length, transform):\n",
        "    feature_pit = featureInput.compute_f0(path)\n",
        "    feature_pit = feature_pit * 2 ** (transform / 12)\n",
        "    feature_pit = infer_tool.resize2d_f0(feature_pit, length)\n",
        "    coarse_pit = featureInput.coarse_f0(feature_pit)\n",
        "    return coarse_pit"
      ]
    },
    {
      "cell_type": "markdown",
      "metadata": {
        "id": "monWsXd-YUUb"
      },
      "source": [
        "# 加载模型"
      ]
    },
    {
      "cell_type": "markdown",
      "metadata": {
        "id": "EiHW39jFYhou"
      },
      "source": [
        "## 加载内容编码器"
      ]
    },
    {
      "cell_type": "code",
      "execution_count": 3,
      "metadata": {
        "id": "sZ2mXdCa10di",
        "outputId": "d1af2222-abce-4750-8fa1-98bd0ef720cb",
        "colab": {
          "base_uri": "https://localhost:8080/"
        }
      },
      "outputs": [
        {
          "output_type": "stream",
          "name": "stdout",
          "text": [
            "--2022-10-03 06:14:54--  https://huggingface.co/spaces/xiaolang/sovits_midi_dev/resolve/main/hubert.pt\n",
            "Resolving huggingface.co (huggingface.co)... 54.173.5.192, 54.210.225.113, 52.5.54.249, ...\n",
            "Connecting to huggingface.co (huggingface.co)|54.173.5.192|:443... connected.\n",
            "HTTP request sent, awaiting response... 302 Found\n",
            "Location: https://cdn-lfs.huggingface.co/repos/28/d8/28d830556bcdd0cb46c4fede42ac3941296568acdd6086982580ca95e028d6ca/e82e7d079df05fe3aa535f6f7d42d309bdae1d2a53324e2b2386c56721f4f649?response-content-disposition=attachment%3B%20filename%3D%22hubert.pt%22 [following]\n",
            "--2022-10-03 06:14:55--  https://cdn-lfs.huggingface.co/repos/28/d8/28d830556bcdd0cb46c4fede42ac3941296568acdd6086982580ca95e028d6ca/e82e7d079df05fe3aa535f6f7d42d309bdae1d2a53324e2b2386c56721f4f649?response-content-disposition=attachment%3B%20filename%3D%22hubert.pt%22\n",
            "Resolving cdn-lfs.huggingface.co (cdn-lfs.huggingface.co)... 13.227.254.123, 13.227.254.47, 13.227.254.52, ...\n",
            "Connecting to cdn-lfs.huggingface.co (cdn-lfs.huggingface.co)|13.227.254.123|:443... connected.\n",
            "HTTP request sent, awaiting response... 200 OK\n",
            "Length: 378435957 (361M) [binary/octet-stream]\n",
            "Saving to: ‘/content/sovits_f0_infer/pth/hubert.pt’\n",
            "\n",
            "/content/sovits_f0_ 100%[===================>] 360.90M  83.0MB/s    in 4.3s    \n",
            "\n",
            "2022-10-03 06:14:59 (83.8 MB/s) - ‘/content/sovits_f0_infer/pth/hubert.pt’ saved [378435957/378435957]\n",
            "\n"
          ]
        }
      ],
      "source": [
        "# 这个东西是https://github.com/bshall/hubert/releases/tag/v0.1 的hubert-soft-0d54a1f4.pt，可以自己替换来源、但是不能换其他模型（路径自己改）。\n",
        "#!gdown --id '1cA37nsiSnsouF2TJkaXb3_VoA-rbifTu' --output /content/sovits_f0_infer/pth/hubert.pt\n",
        "!wget https://huggingface.co/spaces/xiaolang/sovits_midi_dev/resolve/main/hubert.pt -O /content/sovits_f0_infer/pth/hubert.pt\n",
        "hubert_soft = hubert_model.hubert_soft('/content/sovits_f0_infer/pth/hubert.pt')"
      ]
    },
    {
      "cell_type": "markdown",
      "metadata": {
        "id": "5C5qnjljYoPX"
      },
      "source": [
        "## 加载生成器"
      ]
    },
    {
      "cell_type": "markdown",
      "source": [
        "如果要**替换自己的模型**，将 !gdown这行注释掉（行首加个“#”即可，注释成功则变绿）\n",
        "\n",
        "将**自己的配置json（上一篇生成了的）**上传至/content/sovits_infer_rcell/configs/文件夹\n",
        "将**自己的模型（上一篇生成了的）**上传至/content/sovits_infer_rcell/pth文件夹"
      ],
      "metadata": {
        "id": "rEXBSUEwtu6U"
      }
    },
    {
      "cell_type": "code",
      "execution_count": 4,
      "metadata": {
        "id": "YNtmkYruYVqL",
        "outputId": "6a022159-17a6-4cd2-e2ed-53bd06895913",
        "colab": {
          "base_uri": "https://localhost:8080/"
        }
      },
      "outputs": [
        {
          "output_type": "stream",
          "name": "stdout",
          "text": [
            "Mounted at /content/drive/\n"
          ]
        }
      ],
      "source": [
        "from google.colab import drive\n",
        "\n",
        "#@markdown 是否使用谷歌盘内模型（不勾选则自动下载猫雷模型）\n",
        "g_drive = True #@param {type:\"boolean\"}\n",
        "if g_drive:\n",
        "  drive.mount('/content/drive/')\n",
        "  config_path = \"/content/drive/MyDrive/lamianer/config.json\" #@param {type:\"string\"}\n",
        "  model_path = '/content/drive/MyDrive/lamianer/G_21000.pth' #@param {type:\"string\"}\n",
        "else:\n",
        "  # 这个东西是https://huggingface.co/spaces/innnky/soft-vits-singingvc 的G.pth（猫雷），可以换成自己的模型（必须是按照sovits方式训练出的其他角色模型）\n",
        "  !wget https://huggingface.co/spaces/innnky/nyaru-svc2.0/resolve/main/nyarumodel.pth -O /content/sovits_f0_infer/pth/G.pth  \n",
        "  # !gdown --id '1c8ao-0leUPKg6pb8wnF43nSPIzjAHiGE' --output /content/sovits_f0_infer/pth/G.pth\n",
        "  config_path = \"./configs/nyarumul.json\"\n",
        "  model_path = \"/content/sovits_f0_infer/pth/G.pth\"\n",
        "\n",
        "hps_ms = utils.get_hparams_from_file(config_path)\n",
        "dev = torch.device(\"cuda\" if torch.cuda.is_available() else \"cpu\")\n",
        "net_g_ms = SynthesizerTrn(\n",
        "    178,\n",
        "    hps_ms.data.filter_length // 2 + 1,\n",
        "    hps_ms.train.segment_size // hps_ms.data.hop_length,\n",
        "    n_speakers=hps_ms.data.n_speakers,\n",
        "    **hps_ms.model)\n",
        "_ = utils.load_checkpoint(model_path, net_g_ms, None)\n",
        "_ = net_g_ms.eval().to(dev)\n",
        "targer_sample_rate = hps_ms.data.sampling_rate\n",
        "featureInput = FeatureInput(hps_ms.data.sampling_rate, hps_ms.data.hop_length)"
      ]
    },
    {
      "cell_type": "markdown",
      "metadata": {
        "id": "oy-GDKKsZl-j"
      },
      "source": [
        "# 声音转换\n",
        "\n",
        "支持{1、2}**任选一个方式**的声音转换！\n",
        "支持**10s以上5分钟以内**的音频（再久合成时间会过长）。\n",
        "上传到/content/sovits_infer_rcell/raw文件夹，支持自动合成歌曲\n",
        "\n",
        "使用[spleeter](https://github.com/deezer/spleeter)的2stems模式分离歌曲，自动生成这两个文件。（请自行阅读官方使用文档）\n",
        "\n",
        "spleeter separate -p spleeter:2stems -o output audio_example.mp3\n",
        "\n",
        "**结果自动输出至results文件夹。**自行下载，无预览\n",
        "mp3为自动合成的带伴奏歌曲，out_vits为纯人声。"
      ]
    },
    {
      "cell_type": "markdown",
      "source": [
        "跑调破音基本是因为直播采样到的音域不够，这个没办法。（狗头）猫雷高音上不去、低音下不去。\n",
        "例子是牵丝戏，可以不下。明显感觉开头的低音、戏腔都炸了，其他部分还好。"
      ],
      "metadata": {
        "id": "YIYXbcATPaXw"
      }
    },
    {
      "cell_type": "code",
      "source": [
        "# 进results下载试听\n",
        "!gdown --id '1ymJDK1VSESzv2xv_2Ce8h4QoSnzoplt7' --output /content/sovits_f0_infer/results/demo.mp3"
      ],
      "metadata": {
        "id": "XbBW_XMOQKYj"
      },
      "execution_count": null,
      "outputs": []
    },
    {
      "cell_type": "markdown",
      "metadata": {
        "id": "CqCACnGFbOZE"
      },
      "source": [
        "1、使用参考音频"
      ]
    },
    {
      "cell_type": "code",
      "execution_count": null,
      "metadata": {
        "id": "VX_Rgrc6iQtt"
      },
      "outputs": [],
      "source": [
        "!gdown --id '10JQMPdzp0gjg9cVVersxVZWhIr4UwrFF' --output /content/sovits_f0_infer/raw/vocals.wav\n",
        "!gdown --id '1lwmw9P-kgNYjjUveD8J_HuF_yfcdnoHJ' --output /content/sovits_f0_infer/raw/bgm.wav"
      ]
    },
    {
      "cell_type": "markdown",
      "metadata": {
        "id": "JmYTeL_BiXty"
      },
      "source": [
        "2、使用上传音频\n",
        "\n",
        "自行上传至raw文件夹（单声道，22050hz，wav格式），可有bgm.wav（必须为wav格式），无伴奏则为纯人声合成"
      ]
    },
    {
      "cell_type": "markdown",
      "metadata": {
        "id": "7wHXCofJ_64b"
      },
      "source": [
        "3、合成音频"
      ]
    },
    {
      "cell_type": "code",
      "execution_count": 5,
      "metadata": {
        "id": "MXoalx7B2NEv",
        "outputId": "e21f9d06-7ae6-4c61-ff52-0784b71c1cac",
        "colab": {
          "base_uri": "https://localhost:8080/"
        }
      },
      "outputs": [
        {
          "output_type": "stream",
          "name": "stdout",
          "text": [
            "summer_ED2_vocal-1.wav success: 5.00%\n",
            "summer_ED2_vocal-16.wav success: 10.00%\n",
            "summer_ED2_vocal-7.wav success: 15.00%\n",
            "summer_ED2_vocal-3.wav success: 20.00%\n",
            "summer_ED2_vocal-14.wav success: 25.00%\n",
            "summer_ED2_vocal-13.wav success: 30.00%\n",
            "summer_ED2_vocal-5.wav success: 35.00%\n",
            "summer_ED2_vocal-12.wav success: 40.00%\n",
            "summer_ED2_vocal-4.wav success: 45.00%\n",
            "summer_ED2_vocal-19.wav success: 50.00%\n",
            "summer_ED2_vocal-15.wav success: 55.00%\n",
            "summer_ED2_vocal-9.wav success: 60.00%\n",
            "summer_ED2_vocal-2.wav success: 65.00%\n",
            "summer_ED2_vocal-8.wav success: 70.00%\n",
            "summer_ED2_vocal-18.wav success: 75.00%\n",
            "summer_ED2_vocal-0.wav success: 80.00%\n",
            "summer_ED2_vocal-10.wav success: 85.00%\n",
            "summer_ED2_vocal-6.wav success: 90.00%\n",
            "summer_ED2_vocal-11.wav success: 95.00%\n",
            "summer_ED2_vocal-17.wav success: 100.00%\n",
            "out vits success\n"
          ]
        }
      ],
      "source": [
        "#@markdown **仅支持wav格式**\n",
        "\n",
        "#@markdown 角色id——猫雷模型：0号为猫雷，1号为？？？\n",
        "\n",
        "#@markdown 角色id\n",
        "speaker_id = \"0\" #@param {type:\"string\"}\n",
        "\n",
        "#@markdown 人声文件名（不带.wav）\n",
        "clean_name = \"summer_ED2_vocal\" #@param {type:\"string\"}\n",
        "#@markdown 伴奏文件名（可以不放伴奏）（不带.wav）\n",
        "bgm_name = \"\" #@param {type:\"string\"}\n",
        "#@markdown 每次处理的长度，建议30s以内，大了炸显存\n",
        "cut_time = \"15\" #@param {type:\"string\"}\n",
        "#@markdown 可为正负（升降n个半音）\n",
        "vc_transform = \"0\" #@param {type:\"string\"}\n",
        "\n",
        "\n",
        "out_audio_name = clean_name\n",
        "# 可填写音源文件列表，音源文件格式为wav，放置于raw文件夹下\n",
        "clean_names = [clean_name]\n",
        "# bgm、trans分别对应歌曲列表，若能找到相应文件、则自动合并伴奏，若找不到bgm，则输出干声（不使用bgm合成多首歌时，可只随意填写一个不存在的bgm名）\n",
        "bgm_names = [bgm_name]\n",
        "# 合成多少歌曲时，若半音数量不足、自动补齐相同数量（按第一首歌的半音）\n",
        "trans = [int(vc_transform)]  # 加减半音数（可为正负）s\n",
        "# 每首歌同时输出的speaker_id\n",
        "id_list = [int(speaker_id)]\n",
        "\n",
        "# 每次合成长度，建议30s内，太高了爆掉显存(gtx1066一次15s以内）\n",
        "cut_time = int(cut_time)\n",
        "\n",
        "# 自动补齐\n",
        "infer_tool.fill_a_to_b(bgm_names, clean_names)\n",
        "infer_tool.fill_a_to_b(trans, clean_names)\n",
        "for clean_name, bgm_name, tran in zip(clean_names, bgm_names, trans):\n",
        "    infer_tool.resample_to_22050(f'./raw/{clean_name}.wav')\n",
        "    for speaker_id in id_list:\n",
        "        speakers = [\"猫雷\",\"？？？\"]\n",
        "        out_audio_name = clean_name\n",
        "        # 清除缓存文件\n",
        "        infer_tool.del_file(\"./wav_temp/input/\")\n",
        "        infer_tool.del_file(\"./wav_temp/output/\")\n",
        "\n",
        "        raw_audio_path = f\"./raw/{clean_name}.wav\"\n",
        "        audio, sample_rate = torchaudio.load(raw_audio_path)\n",
        "\n",
        "        audio_time = audio.shape[-1] / targer_sample_rate\n",
        "        if audio_time > 1.3 * int(cut_time):\n",
        "            infer_tool.cut(int(cut_time), raw_audio_path, out_audio_name, \"./wav_temp/input\")\n",
        "        else:\n",
        "            shutil.copy(f\"./raw/{clean_name}.wav\", f\"./wav_temp/input/{out_audio_name}-0.wav\")\n",
        "        file_list = os.listdir(\"./wav_temp/input\")\n",
        "\n",
        "        count = 0\n",
        "        for file_name in file_list:\n",
        "            source_path = \"./wav_temp/input/\" + file_name\n",
        "            audio, sample_rate = torchaudio.load(source_path)\n",
        "            input_size = audio.shape[-1]\n",
        "\n",
        "            sid = torch.LongTensor([int(speaker_id)]).to(dev)\n",
        "            soft = get_units(source_path).squeeze(0).cpu().numpy()\n",
        "            pitch = transcribe(source_path, soft.shape[0], tran)\n",
        "            pitch = torch.LongTensor(pitch).unsqueeze(0).to(dev)\n",
        "            stn_tst = torch.FloatTensor(soft)\n",
        "\n",
        "            with torch.no_grad():\n",
        "                x_tst = stn_tst.unsqueeze(0).to(dev)\n",
        "                x_tst_lengths = torch.LongTensor([stn_tst.size(0)]).to(dev)\n",
        "                audio = \\\n",
        "                    net_g_ms.infer(x_tst, x_tst_lengths, pitch, sid=sid, noise_scale=.667, noise_scale_w=0.8,\n",
        "                                   length_scale=1)[0][\n",
        "                        0, 0].data.float().cpu().numpy()\n",
        "\n",
        "            soundfile.write(\"./wav_temp/output/\" + file_name, audio, int(audio.shape[0] / input_size * targer_sample_rate))\n",
        "            count += 1\n",
        "            print(\"%s success: %.2f%%\" % (file_name, 100 * count / len(file_list)))\n",
        "        merge.run(out_audio_name, bgm_name, out_audio_name)\n"
      ]
    },
    {
      "cell_type": "code",
      "source": [
        "import IPython.display as ipd\n",
        "import torchaudio\n",
        "#@markdown 预览干声（自行进results查看文件名，带.wav，仅支持wav）\n",
        "source_path = \"/content/sovits_f0_infer/results/vocals.wav\"  #@param {type:\"string\"}\n",
        "audio,sr = torchaudio.load(source_path)\n",
        "ipd.display(ipd.Audio(audio, rate=sr))"
      ],
      "metadata": {
        "cellView": "form",
        "id": "vjkgBV7j2cVJ"
      },
      "execution_count": null,
      "outputs": []
    }
  ],
  "metadata": {
    "colab": {
      "collapsed_sections": [],
      "provenance": [],
      "include_colab_link": true
    },
    "gpuClass": "standard",
    "interpreter": {
      "hash": "742fb0cf312e06021cb7ef6febc33961079fd3903e709e6dbd223a75c181bd01"
    },
    "kernelspec": {
      "display_name": "Python 3.8.13 ('torch')",
      "language": "python",
      "name": "python3"
    },
    "language_info": {
      "codemirror_mode": {
        "name": "ipython",
        "version": 3
      },
      "file_extension": ".py",
      "mimetype": "text/x-python",
      "name": "python",
      "nbconvert_exporter": "python",
      "pygments_lexer": "ipython3",
      "version": "3.8.13"
    },
    "accelerator": "GPU"
  },
  "nbformat": 4,
  "nbformat_minor": 0
}