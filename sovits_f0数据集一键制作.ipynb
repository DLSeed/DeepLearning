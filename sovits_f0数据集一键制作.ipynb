{
  "cells": [
    {
      "cell_type": "markdown",
      "metadata": {
        "id": "view-in-github",
        "colab_type": "text"
      },
      "source": [
        "<a href=\"https://colab.research.google.com/github/DLSeed/DeepLearning/blob/main/sovits_f0%E6%95%B0%E6%8D%AE%E9%9B%86%E4%B8%80%E9%94%AE%E5%88%B6%E4%BD%9C.ipynb\" target=\"_parent\"><img src=\"https://colab.research.google.com/assets/colab-badge.svg\" alt=\"Open In Colab\"/></a>"
      ]
    },
    {
      "cell_type": "markdown",
      "metadata": {
        "id": "QdX-J2jIHu-a"
      },
      "source": [
        "# 创建单人数据集"
      ]
    },
    {
      "cell_type": "markdown",
      "metadata": {
        "id": "xx2oAf90btEy"
      },
      "source": [
        "**[sovits合集导航](https://github.com/IceKyrin/sovits_guide)**\n",
        "\n",
        "\n",
        "**格式参考vits专栏三件套（评论区）**[vits注解](https://www.bilibili.com/read/cv18478187)\n",
        "\n",
        "95%的问题都可以参考专栏解决，剩下的我也不会了\n",
        "\n",
        "建议下载**公开歌声数据集opencpop**，进行多人模型训练，直接转22050hz\n",
        "\n",
        "**切片一下，一段语音超过60s可能会炸gpu**[自动切片机](https://github.com/openvpi/audio-slicer)（要按歌手分id）\n",
        "\n",
        "本专栏使用GPU运行，cpu解析f0速度比较慢，cpu直接运行脚本可能会卡死\n",
        "\n",
        "本专栏一次只能做一个id的数据，清数据、断联重启，重复做几次（改id）。\n",
        "\n",
        "参考文末，合并多个数据集的压缩包即可\n",
        "\n",
        "后续：[一键训练](https://colab.research.google.com/drive/1DexYpwWIdD_RRqQ165l-YoWMzFAHIbPy)\n",
        "\n",
        "后续：[一键合成](https://colab.research.google.com/drive/1F3VpHCi9eridGw1F1hbqR7qhXGKuSCus#scrollTo=vjkgBV7j2cVJ)\n",
        "\n",
        "**关联midi版（仅供语音转换）**\n",
        "\n",
        "[sovit midi版数据集制作](https://colab.research.google.com/drive/1ynEZGX9FG8gFRZ3PX2tvNXkEq094yTmR)"
      ]
    },
    {
      "cell_type": "markdown",
      "metadata": {
        "id": "axHntYvvIden"
      },
      "source": [
        "数据集格式：假设名字为paimeng\n",
        "\n",
        "/paimeng/wavs/train(val)/xxx.wav，打包成paimeng.zip上传到谷歌云盘里\n",
        "（在谷歌云盘的根目录，建立dataset文件夹，然后放进去）\n",
        "\n",
        "**你的工程文件夹叫paimeng，里面装着wavs和其子目录**\n",
        "**把工程文件夹右键打包**\n",
        "\n",
        "建个文件夹 /paimeng/wavs/val/xxx.wav\n",
        "就下面这个格式，然后把**paimeng这个文件夹**右键压缩成paimeng.zip传上来\n",
        "```\n",
        "paimeng\n",
        "└───wavs\n",
        "    ├───val\n",
        "    │   ├───xxx1-xxx1.wav\n",
        "    │   ├───...\n",
        "    │   └───Lxx-0xx8.wav\n",
        "    └───train\n",
        "        ├───xx2-0xxx2.wav\n",
        "        ├───...\n",
        "        └───xxx7-xxx007.wav\n",
        "```\n"
      ]
    },
    {
      "cell_type": "code",
      "execution_count": 1,
      "metadata": {
        "cellView": "form",
        "id": "natb9m81v9HN",
        "outputId": "57becdff-4e65-436a-f265-5928c010dc24",
        "colab": {
          "base_uri": "https://localhost:8080/"
        }
      },
      "outputs": [
        {
          "output_type": "stream",
          "name": "stdout",
          "text": [
            "Mounted at /content/drive\n"
          ]
        }
      ],
      "source": [
        "#@title 加载Google云端硬盘\n",
        "from google.colab import drive\n",
        "drive.mount('/content/drive')"
      ]
    },
    {
      "cell_type": "code",
      "execution_count": 2,
      "metadata": {
        "id": "T9jpHntAH9h5",
        "outputId": "8aa0e636-a014-4d97-93b6-ab918cbdafb4",
        "colab": {
          "base_uri": "https://localhost:8080/"
        }
      },
      "outputs": [
        {
          "output_type": "stream",
          "name": "stdout",
          "text": [
            "/content\n",
            "Looking in indexes: https://pypi.org/simple, https://us-python.pkg.dev/colab-wheels/public/simple/\n",
            "Requirement already satisfied: torchaudio in /usr/local/lib/python3.7/dist-packages (0.12.1+cu113)\n",
            "Requirement already satisfied: soundfile in /usr/local/lib/python3.7/dist-packages (0.10.3.post1)\n",
            "Requirement already satisfied: torch==1.12.1 in /usr/local/lib/python3.7/dist-packages (from torchaudio) (1.12.1+cu113)\n",
            "Requirement already satisfied: typing-extensions in /usr/local/lib/python3.7/dist-packages (from torch==1.12.1->torchaudio) (4.1.1)\n",
            "Requirement already satisfied: cffi>=1.0 in /usr/local/lib/python3.7/dist-packages (from soundfile) (1.15.1)\n",
            "Requirement already satisfied: pycparser in /usr/local/lib/python3.7/dist-packages (from cffi>=1.0->soundfile) (2.21)\n"
          ]
        }
      ],
      "source": [
        "#@title 数据集设置\n",
        "#@markdown 数据集名称（别带zip，就是普通英文名称）\n",
        "DATASETNAME = \"lamianer2\"  #@param {type:\"string\"}\n",
        "#@markdown 压缩包路径（谷歌盘路径）\n",
        "ZIP_PATH = \"/content/drive/MyDrive/dataset/\"  #@param {type:\"string\"}\n",
        "ZIP_PATH = ZIP_PATH + DATASETNAME+\".zip\"\n",
        "DATASETPATH = \"/content/\" + DATASETNAME\n",
        "!cp {ZIP_PATH} {DATASETPATH}.zip\n",
        "%cd /content/\n",
        "!unzip -q {DATASETNAME}.zip\n",
        "!pip install torchaudio soundfile\n",
        "import os\n",
        "import soundfile\n",
        "import torchaudio\n",
        "#@markdown 自动将采样率转换为22050，如需其他采样率，请自行修改代码\n",
        "def resample_to_22050(audio_path):\n",
        "    raw_audio, raw_sample_rate = torchaudio.load(audio_path)\n",
        "    if raw_sample_rate != 22050:\n",
        "      audio_22050 = torchaudio.transforms.Resample(orig_freq=raw_sample_rate, new_freq=22050)(raw_audio)[0]\n",
        "      soundfile.write(audio_path, audio_22050, 22050)\n",
        "\n",
        "for i in os.listdir(f\"{DATASETPATH}/wavs/train\"):\n",
        "  resample_to_22050(f\"{DATASETPATH}/wavs/train/{i.split('.')[0]}.wav\")\n",
        "for i in os.listdir(f\"{DATASETPATH}/wavs/val\"):\n",
        "  resample_to_22050(f\"{DATASETPATH}/wavs/val/{i.split('.')[0]}.wav\")"
      ]
    },
    {
      "cell_type": "code",
      "execution_count": 3,
      "metadata": {
        "id": "CirV9coQHruD",
        "outputId": "b5c932b8-280b-47bf-f375-717e168e9791",
        "colab": {
          "base_uri": "https://localhost:8080/"
        }
      },
      "outputs": [
        {
          "output_type": "stream",
          "name": "stdout",
          "text": [
            "Looking in indexes: https://pypi.org/simple, https://us-python.pkg.dev/colab-wheels/public/simple/\n",
            "Collecting torchcrepe\n",
            "  Downloading torchcrepe-0.0.17-py3-none-any.whl (72.3 MB)\n",
            "\u001b[K     |████████████████████████████████| 72.3 MB 5.8 kB/s \n",
            "\u001b[?25hRequirement already satisfied: resampy in /usr/local/lib/python3.7/dist-packages (from torchcrepe) (0.4.0)\n",
            "Collecting librosa==0.9.1\n",
            "  Downloading librosa-0.9.1-py3-none-any.whl (213 kB)\n",
            "\u001b[K     |████████████████████████████████| 213 kB 69.1 MB/s \n",
            "\u001b[?25hRequirement already satisfied: scipy in /usr/local/lib/python3.7/dist-packages (from torchcrepe) (1.7.3)\n",
            "Requirement already satisfied: torch in /usr/local/lib/python3.7/dist-packages (from torchcrepe) (1.12.1+cu113)\n",
            "Requirement already satisfied: tqdm in /usr/local/lib/python3.7/dist-packages (from torchcrepe) (4.64.1)\n",
            "Requirement already satisfied: joblib>=0.14 in /usr/local/lib/python3.7/dist-packages (from librosa==0.9.1->torchcrepe) (1.1.0)\n",
            "Requirement already satisfied: numba>=0.45.1 in /usr/local/lib/python3.7/dist-packages (from librosa==0.9.1->torchcrepe) (0.56.2)\n",
            "Requirement already satisfied: soundfile>=0.10.2 in /usr/local/lib/python3.7/dist-packages (from librosa==0.9.1->torchcrepe) (0.10.3.post1)\n",
            "Requirement already satisfied: scikit-learn>=0.19.1 in /usr/local/lib/python3.7/dist-packages (from librosa==0.9.1->torchcrepe) (1.0.2)\n",
            "Requirement already satisfied: numpy>=1.17.0 in /usr/local/lib/python3.7/dist-packages (from librosa==0.9.1->torchcrepe) (1.21.6)\n",
            "Requirement already satisfied: pooch>=1.0 in /usr/local/lib/python3.7/dist-packages (from librosa==0.9.1->torchcrepe) (1.6.0)\n",
            "Requirement already satisfied: audioread>=2.1.5 in /usr/local/lib/python3.7/dist-packages (from librosa==0.9.1->torchcrepe) (3.0.0)\n",
            "Requirement already satisfied: packaging>=20.0 in /usr/local/lib/python3.7/dist-packages (from librosa==0.9.1->torchcrepe) (21.3)\n",
            "Requirement already satisfied: decorator>=4.0.10 in /usr/local/lib/python3.7/dist-packages (from librosa==0.9.1->torchcrepe) (4.4.2)\n",
            "Requirement already satisfied: llvmlite<0.40,>=0.39.0dev0 in /usr/local/lib/python3.7/dist-packages (from numba>=0.45.1->librosa==0.9.1->torchcrepe) (0.39.1)\n",
            "Requirement already satisfied: importlib-metadata in /usr/local/lib/python3.7/dist-packages (from numba>=0.45.1->librosa==0.9.1->torchcrepe) (4.12.0)\n",
            "Requirement already satisfied: setuptools<60 in /usr/local/lib/python3.7/dist-packages (from numba>=0.45.1->librosa==0.9.1->torchcrepe) (57.4.0)\n",
            "Requirement already satisfied: pyparsing!=3.0.5,>=2.0.2 in /usr/local/lib/python3.7/dist-packages (from packaging>=20.0->librosa==0.9.1->torchcrepe) (3.0.9)\n",
            "Requirement already satisfied: appdirs>=1.3.0 in /usr/local/lib/python3.7/dist-packages (from pooch>=1.0->librosa==0.9.1->torchcrepe) (1.4.4)\n",
            "Requirement already satisfied: requests>=2.19.0 in /usr/local/lib/python3.7/dist-packages (from pooch>=1.0->librosa==0.9.1->torchcrepe) (2.23.0)\n",
            "Requirement already satisfied: urllib3!=1.25.0,!=1.25.1,<1.26,>=1.21.1 in /usr/local/lib/python3.7/dist-packages (from requests>=2.19.0->pooch>=1.0->librosa==0.9.1->torchcrepe) (1.24.3)\n",
            "Requirement already satisfied: idna<3,>=2.5 in /usr/local/lib/python3.7/dist-packages (from requests>=2.19.0->pooch>=1.0->librosa==0.9.1->torchcrepe) (2.10)\n",
            "Requirement already satisfied: certifi>=2017.4.17 in /usr/local/lib/python3.7/dist-packages (from requests>=2.19.0->pooch>=1.0->librosa==0.9.1->torchcrepe) (2022.6.15)\n",
            "Requirement already satisfied: chardet<4,>=3.0.2 in /usr/local/lib/python3.7/dist-packages (from requests>=2.19.0->pooch>=1.0->librosa==0.9.1->torchcrepe) (3.0.4)\n",
            "Requirement already satisfied: threadpoolctl>=2.0.0 in /usr/local/lib/python3.7/dist-packages (from scikit-learn>=0.19.1->librosa==0.9.1->torchcrepe) (3.1.0)\n",
            "Requirement already satisfied: cffi>=1.0 in /usr/local/lib/python3.7/dist-packages (from soundfile>=0.10.2->librosa==0.9.1->torchcrepe) (1.15.1)\n",
            "Requirement already satisfied: pycparser in /usr/local/lib/python3.7/dist-packages (from cffi>=1.0->soundfile>=0.10.2->librosa==0.9.1->torchcrepe) (2.21)\n",
            "Requirement already satisfied: typing-extensions>=3.6.4 in /usr/local/lib/python3.7/dist-packages (from importlib-metadata->numba>=0.45.1->librosa==0.9.1->torchcrepe) (4.1.1)\n",
            "Requirement already satisfied: zipp>=0.5 in /usr/local/lib/python3.7/dist-packages (from importlib-metadata->numba>=0.45.1->librosa==0.9.1->torchcrepe) (3.8.1)\n",
            "Installing collected packages: librosa, torchcrepe\n",
            "  Attempting uninstall: librosa\n",
            "    Found existing installation: librosa 0.8.1\n",
            "    Uninstalling librosa-0.8.1:\n",
            "      Successfully uninstalled librosa-0.8.1\n",
            "Successfully installed librosa-0.9.1 torchcrepe-0.0.17\n",
            "/content/lamianer2\n",
            "Cloning into 'hubert'...\n",
            "remote: Enumerating objects: 105, done.\u001b[K\n",
            "remote: Counting objects: 100% (105/105), done.\u001b[K\n",
            "remote: Compressing objects: 100% (72/72), done.\u001b[K\n",
            "remote: Total 105 (delta 53), reused 80 (delta 32), pack-reused 0\u001b[K\n",
            "Receiving objects: 100% (105/105), 469.75 KiB | 5.00 MiB/s, done.\n",
            "Resolving deltas: 100% (53/53), done.\n",
            "/content/lamianer2/hubert\n",
            "Loading hubert checkpoint\n",
            "/usr/local/lib/python3.7/dist-packages/torch/hub.py:267: UserWarning: You are about to download and run code from an untrusted repository. In a future release, this won't be allowed. To add the repository to your trusted list, change the command to {calling_fn}(..., trust_repo=False) and a command prompt will appear asking for an explicit confirmation of trust, or load(..., trust_repo=True), which will assume that the prompt is to be answered with 'yes'. You can also use load(..., trust_repo='check') which will only prompt for confirmation if the repo is not already trusted. This will eventually be the default behaviour\n",
            "  \"You are about to download and run code from an untrusted repository. In a future release, this won't \"\n",
            "Downloading: \"https://github.com/bshall/hubert/zipball/main\" to /root/.cache/torch/hub/main.zip\n",
            "Downloading: \"https://github.com/bshall/hubert/releases/download/v0.1/hubert-soft-0d54a1f4.pt\" to /root/.cache/torch/hub/checkpoints/hubert-soft-0d54a1f4.pt\n",
            "100% 361M/361M [00:05<00:00, 69.3MB/s]\n",
            "Encoding dataset at /content/lamianer2/wavs\n",
            "100% 573/573 [01:32<00:00,  6.23it/s]\n"
          ]
        }
      ],
      "source": [
        "#@title 自动预处理(处理两千条数据，花3min左右，按比例估算)\n",
        "!pip install torchcrepe\n",
        "%cd {DATASETPATH}\n",
        "!git clone https://github.com/bshall/hubert.git\n",
        "%cd hubert\n",
        "!python encode.py soft  {DATASETPATH}/wavs {DATASETPATH}/soft --extension .wav "
      ]
    },
    {
      "cell_type": "code",
      "execution_count": 4,
      "metadata": {
        "id": "Tp-u-FLPMbM-",
        "outputId": "a912f4f0-87f7-4821-fef8-451a37dcd578",
        "colab": {
          "base_uri": "https://localhost:8080/"
        }
      },
      "outputs": [
        {
          "output_type": "stream",
          "name": "stdout",
          "text": [
            "/content/lamianer2\n"
          ]
        }
      ],
      "source": [
        "#@title 生成txt\n",
        "#@markdown 这是给多人数据集准备的，**单人填写\"|\"**；多人填写角色id，如\"|0|\"、\"|1|\"（编号从0开始）\n",
        "\n",
        "#@markdown 若使用预模型加速训练，id从|10|开始，最大为15，也就是说预模型保留了6个空位，详见**一键训练**对预模型的介绍\n",
        "ID = \"|0|\"  #@param {type:\"string\"}\n",
        "%cd {DATASETPATH}\n",
        "import os \n",
        "with open(\"train.txt\",\"w\") as f:\n",
        "  for i in os.listdir(f\"{DATASETPATH}/soft/train\"):\n",
        "    f.write(f\"{DATASETPATH}/wavs/train/{i.split('.')[0]}.wav{ID}{DATASETPATH}/soft/train/{i}|{DATASETPATH}/pitch/train/{i.split('.')[0]}.npy\\n\")\n",
        "\n",
        "with open(\"val.txt\",\"w\") as f:\n",
        "  for i in os.listdir(f\"{DATASETPATH}/soft/val\"):\n",
        "    f.write(f\"{DATASETPATH}/wavs/val/{i.split('.')[0]}.wav{ID}{DATASETPATH}/soft/val/{i}|{DATASETPATH}/pitch/val/{i.split('.')[0]}.npy\\n\")"
      ]
    },
    {
      "cell_type": "code",
      "source": [
        "#@markdown 等这个下载完\n",
        "%cd /content\n",
        "!git clone https://github.com/innnky/so-vits-svc\n",
        "!pip install pyworld"
      ],
      "metadata": {
        "id": "SXfsHE42vqvo",
        "outputId": "138fd04d-e29c-43cb-b31b-adb03b6c7de7",
        "colab": {
          "base_uri": "https://localhost:8080/"
        }
      },
      "execution_count": 5,
      "outputs": [
        {
          "output_type": "stream",
          "name": "stdout",
          "text": [
            "/content\n",
            "Cloning into 'so-vits-svc'...\n",
            "remote: Enumerating objects: 99, done.\u001b[K\n",
            "remote: Counting objects: 100% (99/99), done.\u001b[K\n",
            "remote: Compressing objects: 100% (82/82), done.\u001b[K\n",
            "remote: Total 99 (delta 25), reused 83 (delta 14), pack-reused 0\u001b[K\n",
            "Unpacking objects: 100% (99/99), done.\n",
            "Looking in indexes: https://pypi.org/simple, https://us-python.pkg.dev/colab-wheels/public/simple/\n",
            "Collecting pyworld\n",
            "  Downloading pyworld-0.3.0.tar.gz (212 kB)\n",
            "\u001b[K     |████████████████████████████████| 212 kB 4.9 MB/s \n",
            "\u001b[?25h  Installing build dependencies ... \u001b[?25l\u001b[?25hdone\n",
            "  Getting requirements to build wheel ... \u001b[?25l\u001b[?25hdone\n",
            "    Preparing wheel metadata ... \u001b[?25l\u001b[?25hdone\n",
            "Requirement already satisfied: numpy in /usr/local/lib/python3.7/dist-packages (from pyworld) (1.21.6)\n",
            "Requirement already satisfied: cython>=0.24.0 in /usr/local/lib/python3.7/dist-packages (from pyworld) (0.29.32)\n",
            "Building wheels for collected packages: pyworld\n",
            "  Building wheel for pyworld (PEP 517) ... \u001b[?25l\u001b[?25hdone\n",
            "  Created wheel for pyworld: filename=pyworld-0.3.0-cp37-cp37m-linux_x86_64.whl size=609490 sha256=00f29eb52de2e076c183608dfd8e27dd34af983ca4c8c3e5078ccc54064e26a8\n",
            "  Stored in directory: /root/.cache/pip/wheels/e7/7c/11/c775fffa0e1e7b05a6604b4323408a77f80fb4ab304d96b5c6\n",
            "Successfully built pyworld\n",
            "Installing collected packages: pyworld\n",
            "Successfully installed pyworld-0.3.0\n"
          ]
        }
      ]
    },
    {
      "cell_type": "code",
      "execution_count": 6,
      "metadata": {
        "id": "CeviOqrYNRuy",
        "outputId": "7551b2e0-8bbd-430f-ebcc-9155ce2f1ca9",
        "colab": {
          "base_uri": "https://localhost:8080/"
        }
      },
      "outputs": [
        {
          "output_type": "stream",
          "name": "stdout",
          "text": [
            "/content/so-vits-svc\n"
          ]
        }
      ],
      "source": [
        "#@title 生成pitch文件\n",
        "%cd /content/so-vits-svc\n",
        "!mkdir /content/{DATASETNAME}/pitch\n",
        "!mkdir /content/{DATASETNAME}/pitch/train\n",
        "!mkdir /content/{DATASETNAME}/pitch/val\n",
        "import os\n",
        "import numpy as np\n",
        "from preprocess_wave import FeatureInput\n",
        "featureInput = FeatureInput(22050, 256)\n",
        "\n",
        "def resize2d(x, target_len):\n",
        "    source = np.array(x)\n",
        "    source[source<0.001] = np.nan\n",
        "    target = np.interp(np.arange(0, len(source)*target_len, len(source))/ target_len, np.arange(0, len(source)), source)\n",
        "    res = np.nan_to_num(target)\n",
        "    return res\n",
        "\n",
        "def get_end_file(dir_path, end):\n",
        "    file_lists = []\n",
        "    for root, dirs, files in os.walk(dir_path):\n",
        "        for f_file in files:\n",
        "            if f_file.endswith(end):\n",
        "                file_lists.append(os.path.join(root, f_file).replace(\"\\\\\", \"/\"))\n",
        "\n",
        "    return file_lists\n",
        "\n",
        "\n",
        "folder = \"train\"\n",
        "wav_paths = get_end_file(f\"/content/{DATASETNAME}/wavs/{folder}/\", \"wav\")\n",
        "for wav_path in wav_paths:\n",
        "    soft = np.load(wav_path.replace(\"wavs\", \"soft\").replace(\".wav\", \".npy\"))\n",
        "    featur_pit = featureInput.compute_f0(wav_path)\n",
        "    featur_pit = resize2d(featur_pit, soft.shape[0])\n",
        "    pitch = featureInput.coarse_f0(featur_pit)\n",
        "    np.save(wav_path.replace(\"wavs\", \"pitch\").replace(\".wav\", \".npy\"), pitch)\n",
        "\n",
        "folder = \"val\"\n",
        "wav_paths = get_end_file(f\"/content/{DATASETNAME}/wavs/{folder}/\", \"wav\")\n",
        "for wav_path in wav_paths:\n",
        "    soft = np.load(wav_path.replace(\"wavs\", \"soft\").replace(\".wav\", \".npy\"))\n",
        "    featur_pit = featureInput.compute_f0(wav_path)\n",
        "    featur_pit = resize2d(featur_pit, soft.shape[0])\n",
        "    pitch = featureInput.coarse_f0(featur_pit)\n",
        "    np.save(wav_path.replace(\"wavs\", \"pitch\").replace(\".wav\", \".npy\"), pitch)"
      ]
    },
    {
      "cell_type": "code",
      "execution_count": 7,
      "metadata": {
        "id": "MpUF_yu28LEn",
        "cellView": "form",
        "outputId": "b9d523ca-d095-48dc-ad21-708a3cd17b85",
        "colab": {
          "base_uri": "https://localhost:8080/"
        }
      },
      "outputs": [
        {
          "output_type": "stream",
          "name": "stdout",
          "text": [
            "/content\n"
          ]
        }
      ],
      "source": [
        "#@title 打包数据集\n",
        "#@markdown 处理好的压缩包路径\n",
        "ZIP_PATH = \"/content/drive/MyDrive/dataset/\"  #@param {type:\"string\"}\n",
        "ZIP_PATH = ZIP_PATH + \"out_\" + DATASETNAME + \".zip\"\n",
        "%cd /content/\n",
        "!zip -q -r {ZIP_PATH} {DATASETNAME}\n",
        "#@markdown 刷新一下谷歌盘，会多一个out_xxx.zip（根据你填的路径）"
      ]
    },
    {
      "cell_type": "markdown",
      "metadata": {
        "id": "SPfl1eP8S4fF"
      },
      "source": [
        "多人数据集就是按序号在ID处填写\"|0|\"、\"|1|\"，每次制作单人的压缩包，然后把wavs下的文件夹按目录合并\n",
        "\n",
        "例如：\n",
        "\n",
        "第一个角色为paimeng，ID处写\"|0|\"，生成out_paimeng.zip\n",
        "\n",
        "第二个角色为zhangsan,ID处写\"|1|\"，生成out_zhangsan.zip\n",
        "\n",
        "分别解压一下：\n",
        "\n",
        "paimeng和zhangsan的目录层次是完全相同的，把zhangsan子目录的文件，分别放到paimeng的相应文件夹，以此类推，第一个角色的文件夹，最后放的是所有文件\n",
        "\n",
        "\n",
        "zhangsan的train和val.txt，把内容复制粘贴到**paimeng压缩包的相应txt内,跟在结尾一行就行，保持原格式**\n",
        "\n",
        "**然后ctrl+h，把所有zhangsan一键替换成paimeng**\n",
        "\n",
        "txt内**一定不能有空行**\n",
        "\n",
        "然后右键**paimeng文件夹**，打包**zip格式**，还是生成一个out_paimeng.zip上传到云盘的dataset文件夹下\n",
        "\n",
        "下一个脚本运行失败，自己检查是不是打包路径有问题"
      ]
    },
    {
      "cell_type": "code",
      "source": [],
      "metadata": {
        "id": "xq3kRbbOKuKQ"
      },
      "execution_count": null,
      "outputs": []
    }
  ],
  "metadata": {
    "accelerator": "GPU",
    "colab": {
      "collapsed_sections": [],
      "provenance": [],
      "include_colab_link": true
    },
    "gpuClass": "standard",
    "kernelspec": {
      "display_name": "Python 3",
      "name": "python3"
    },
    "language_info": {
      "name": "python"
    }
  },
  "nbformat": 4,
  "nbformat_minor": 0
}