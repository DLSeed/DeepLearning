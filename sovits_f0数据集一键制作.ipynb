{
  "cells": [
    {
      "cell_type": "markdown",
      "metadata": {
        "id": "view-in-github",
        "colab_type": "text"
      },
      "source": [
        "<a href=\"https://colab.research.google.com/github/DLSeed/DeepLearning/blob/main/sovits_f0%E6%95%B0%E6%8D%AE%E9%9B%86%E4%B8%80%E9%94%AE%E5%88%B6%E4%BD%9C.ipynb\" target=\"_parent\"><img src=\"https://colab.research.google.com/assets/colab-badge.svg\" alt=\"Open In Colab\"/></a>"
      ]
    },
    {
      "cell_type": "markdown",
      "metadata": {
        "id": "QdX-J2jIHu-a"
      },
      "source": [
        "# 创建单人数据集"
      ]
    },
    {
      "cell_type": "markdown",
      "metadata": {
        "id": "xx2oAf90btEy"
      },
      "source": [
        "**[sovits合集导航](https://github.com/IceKyrin/sovits_guide)**\n",
        "\n",
        "\n",
        "**格式参考vits专栏三件套（评论区）**[vits注解](https://www.bilibili.com/read/cv18478187)\n",
        "\n",
        "95%的问题都可以参考专栏解决，剩下的我也不会了\n",
        "\n",
        "建议下载**公开歌声数据集opencpop**，进行多人模型训练，直接转22050hz\n",
        "\n",
        "**切片一下，一段语音超过60s可能会炸gpu**[自动切片机](https://github.com/openvpi/audio-slicer)（要按歌手分id）\n",
        "\n",
        "本专栏使用GPU运行，cpu解析f0速度比较慢，cpu直接运行脚本可能会卡死\n",
        "\n",
        "本专栏一次只能做一个id的数据，清数据、断联重启，重复做几次（改id）。\n",
        "\n",
        "参考文末，合并多个数据集的压缩包即可\n",
        "\n",
        "后续：[一键训练](https://colab.research.google.com/drive/1DexYpwWIdD_RRqQ165l-YoWMzFAHIbPy)\n",
        "\n",
        "后续：[一键合成](https://colab.research.google.com/drive/1F3VpHCi9eridGw1F1hbqR7qhXGKuSCus#scrollTo=vjkgBV7j2cVJ)\n",
        "\n",
        "**关联midi版（仅供语音转换）**\n",
        "\n",
        "[sovit midi版数据集制作](https://colab.research.google.com/drive/1ynEZGX9FG8gFRZ3PX2tvNXkEq094yTmR)"
      ]
    },
    {
      "cell_type": "markdown",
      "metadata": {
        "id": "axHntYvvIden"
      },
      "source": [
        "数据集格式：假设名字为paimeng\n",
        "\n",
        "/paimeng/wavs/train(val)/xxx.wav，打包成paimeng.zip上传到谷歌云盘里\n",
        "（在谷歌云盘的根目录，建立dataset文件夹，然后放进去）\n",
        "\n",
        "**你的工程文件夹叫paimeng，里面装着wavs和其子目录**\n",
        "**把工程文件夹右键打包**\n",
        "\n",
        "建个文件夹 /paimeng/wavs/val/xxx.wav\n",
        "就下面这个格式，然后把**paimeng这个文件夹**右键压缩成paimeng.zip传上来\n",
        "```\n",
        "paimeng\n",
        "└───wavs\n",
        "    ├───val\n",
        "    │   ├───xxx1-xxx1.wav\n",
        "    │   ├───...\n",
        "    │   └───Lxx-0xx8.wav\n",
        "    └───train\n",
        "        ├───xx2-0xxx2.wav\n",
        "        ├───...\n",
        "        └───xxx7-xxx007.wav\n",
        "```\n"
      ]
    },
    {
      "cell_type": "code",
      "execution_count": null,
      "metadata": {
        "cellView": "form",
        "id": "natb9m81v9HN"
      },
      "outputs": [],
      "source": [
        "#@title 加载Google云端硬盘\n",
        "from google.colab import drive\n",
        "drive.mount('/content/drive')"
      ]
    },
    {
      "cell_type": "code",
      "execution_count": null,
      "metadata": {
        "id": "T9jpHntAH9h5",
        "cellView": "form"
      },
      "outputs": [],
      "source": [
        "#@title 数据集设置\n",
        "#@markdown 数据集名称（别带zip，就是普通英文名称）\n",
        "DATASETNAME = \"lamianer\"  #@param {type:\"string\"}\n",
        "#@markdown 压缩包路径（谷歌盘路径）\n",
        "ZIP_PATH = \"/content/drive/MyDrive/dataset/\"  #@param {type:\"string\"}\n",
        "ZIP_PATH = ZIP_PATH + DATASETNAME+\".zip\"\n",
        "DATASETPATH = \"/content/\" + DATASETNAME\n",
        "!cp {ZIP_PATH} {DATASETPATH}.zip\n",
        "%cd /content/\n",
        "!unzip -q {DATASETNAME}.zip\n",
        "!pip install torchaudio soundfile\n",
        "import os\n",
        "import soundfile\n",
        "import torchaudio\n",
        "#@markdown 自动将采样率转换为22050，如需其他采样率，请自行修改代码\n",
        "def resample_to_22050(audio_path):\n",
        "    raw_audio, raw_sample_rate = torchaudio.load(audio_path)\n",
        "    if raw_sample_rate != 22050:\n",
        "      audio_22050 = torchaudio.transforms.Resample(orig_freq=raw_sample_rate, new_freq=22050)(raw_audio)[0]\n",
        "      soundfile.write(audio_path, audio_22050, 22050)\n",
        "\n",
        "for i in os.listdir(f\"{DATASETPATH}/wavs/train\"):\n",
        "  resample_to_22050(f\"{DATASETPATH}/wavs/train/{i.split('.')[0]}.wav\")\n",
        "for i in os.listdir(f\"{DATASETPATH}/wavs/val\"):\n",
        "  resample_to_22050(f\"{DATASETPATH}/wavs/val/{i.split('.')[0]}.wav\")"
      ]
    },
    {
      "cell_type": "code",
      "execution_count": null,
      "metadata": {
        "id": "CirV9coQHruD"
      },
      "outputs": [],
      "source": [
        "#@title 自动预处理(处理两千条数据，花3min左右，按比例估算)\n",
        "!pip install torchcrepe\n",
        "%cd {DATASETPATH}\n",
        "!git clone https://github.com/bshall/hubert.git\n",
        "%cd hubert\n",
        "!python encode.py soft  {DATASETPATH}/wavs {DATASETPATH}/soft --extension .wav "
      ]
    },
    {
      "cell_type": "code",
      "execution_count": null,
      "metadata": {
        "id": "Tp-u-FLPMbM-"
      },
      "outputs": [],
      "source": [
        "#@title 生成txt\n",
        "#@markdown 这是给多人数据集准备的，**单人填写\"|\"**；多人填写角色id，如\"|0|\"、\"|1|\"（编号从0开始）\n",
        "\n",
        "#@markdown 若使用预模型加速训练，id从|10|开始，最大为15，也就是说预模型保留了6个空位，详见**一键训练**对预模型的介绍\n",
        "ID = \"|0|\"  #@param {type:\"string\"}\n",
        "%cd {DATASETPATH}\n",
        "import os \n",
        "with open(\"train.txt\",\"w\") as f:\n",
        "  for i in os.listdir(f\"{DATASETPATH}/soft/train\"):\n",
        "    f.write(f\"{DATASETPATH}/wavs/train/{i.split('.')[0]}.wav{ID}{DATASETPATH}/soft/train/{i}|{DATASETPATH}/pitch/train/{i.split('.')[0]}.npy\\n\")\n",
        "\n",
        "with open(\"val.txt\",\"w\") as f:\n",
        "  for i in os.listdir(f\"{DATASETPATH}/soft/val\"):\n",
        "    f.write(f\"{DATASETPATH}/wavs/val/{i.split('.')[0]}.wav{ID}{DATASETPATH}/soft/val/{i}|{DATASETPATH}/pitch/val/{i.split('.')[0]}.npy\\n\")"
      ]
    },
    {
      "cell_type": "code",
      "source": [
        "#@markdown 等这个下载完\n",
        "%cd /content\n",
        "!git clone https://github.com/innnky/so-vits-svc\n",
        "!pip install pyworld"
      ],
      "metadata": {
        "id": "SXfsHE42vqvo"
      },
      "execution_count": null,
      "outputs": []
    },
    {
      "cell_type": "code",
      "execution_count": null,
      "metadata": {
        "id": "CeviOqrYNRuy"
      },
      "outputs": [],
      "source": [
        "#@title 生成pitch文件\n",
        "%cd /content/so-vits-svc\n",
        "!mkdir /content/{DATASETNAME}/pitch\n",
        "!mkdir /content/{DATASETNAME}/pitch/train\n",
        "!mkdir /content/{DATASETNAME}/pitch/val\n",
        "import os\n",
        "import numpy as np\n",
        "from preprocess_wave import FeatureInput\n",
        "featureInput = FeatureInput(22050, 256)\n",
        "\n",
        "def resize2d(x, target_len):\n",
        "    source = np.array(x)\n",
        "    source[source<0.001] = np.nan\n",
        "    target = np.interp(np.arange(0, len(source)*target_len, len(source))/ target_len, np.arange(0, len(source)), source)\n",
        "    res = np.nan_to_num(target)\n",
        "    return res\n",
        "\n",
        "def get_end_file(dir_path, end):\n",
        "    file_lists = []\n",
        "    for root, dirs, files in os.walk(dir_path):\n",
        "        for f_file in files:\n",
        "            if f_file.endswith(end):\n",
        "                file_lists.append(os.path.join(root, f_file).replace(\"\\\\\", \"/\"))\n",
        "\n",
        "    return file_lists\n",
        "\n",
        "\n",
        "folder = \"train\"\n",
        "wav_paths = get_end_file(f\"/content/{DATASETNAME}/wavs/{folder}/\", \"wav\")\n",
        "for wav_path in wav_paths:\n",
        "    soft = np.load(wav_path.replace(\"wavs\", \"soft\").replace(\".wav\", \".npy\"))\n",
        "    featur_pit = featureInput.compute_f0(wav_path)\n",
        "    featur_pit = resize2d(featur_pit, soft.shape[0])\n",
        "    pitch = featureInput.coarse_f0(featur_pit)\n",
        "    np.save(wav_path.replace(\"wavs\", \"pitch\").replace(\".wav\", \".npy\"), pitch)\n",
        "\n",
        "folder = \"val\"\n",
        "wav_paths = get_end_file(f\"/content/{DATASETNAME}/wavs/{folder}/\", \"wav\")\n",
        "for wav_path in wav_paths:\n",
        "    soft = np.load(wav_path.replace(\"wavs\", \"soft\").replace(\".wav\", \".npy\"))\n",
        "    featur_pit = featureInput.compute_f0(wav_path)\n",
        "    featur_pit = resize2d(featur_pit, soft.shape[0])\n",
        "    pitch = featureInput.coarse_f0(featur_pit)\n",
        "    np.save(wav_path.replace(\"wavs\", \"pitch\").replace(\".wav\", \".npy\"), pitch)"
      ]
    },
    {
      "cell_type": "code",
      "execution_count": null,
      "metadata": {
        "id": "MpUF_yu28LEn",
        "cellView": "form"
      },
      "outputs": [],
      "source": [
        "#@title 打包数据集\n",
        "#@markdown 处理好的压缩包路径\n",
        "ZIP_PATH = \"/content/drive/MyDrive/dataset/\"  #@param {type:\"string\"}\n",
        "ZIP_PATH = ZIP_PATH + \"out_\" + DATASETNAME + \".zip\"\n",
        "%cd /content/\n",
        "!zip -q -r {ZIP_PATH} {DATASETNAME}\n",
        "#@markdown 刷新一下谷歌盘，会多一个out_xxx.zip（根据你填的路径）"
      ]
    },
    {
      "cell_type": "markdown",
      "metadata": {
        "id": "SPfl1eP8S4fF"
      },
      "source": [
        "多人数据集就是按序号在ID处填写\"|0|\"、\"|1|\"，每次制作单人的压缩包，然后把wavs下的文件夹按目录合并\n",
        "\n",
        "例如：\n",
        "\n",
        "第一个角色为paimeng，ID处写\"|0|\"，生成out_paimeng.zip\n",
        "\n",
        "第二个角色为zhangsan,ID处写\"|1|\"，生成out_zhangsan.zip\n",
        "\n",
        "分别解压一下：\n",
        "\n",
        "paimeng和zhangsan的目录层次是完全相同的，把zhangsan子目录的文件，分别放到paimeng的相应文件夹，以此类推，第一个角色的文件夹，最后放的是所有文件\n",
        "\n",
        "\n",
        "zhangsan的train和val.txt，把内容复制粘贴到**paimeng压缩包的相应txt内,跟在结尾一行就行，保持原格式**\n",
        "\n",
        "**然后ctrl+h，把所有zhangsan一键替换成paimeng**\n",
        "\n",
        "txt内**一定不能有空行**\n",
        "\n",
        "然后右键**paimeng文件夹**，打包**zip格式**，还是生成一个out_paimeng.zip上传到云盘的dataset文件夹下\n",
        "\n",
        "下一个脚本运行失败，自己检查是不是打包路径有问题"
      ]
    },
    {
      "cell_type": "code",
      "source": [],
      "metadata": {
        "id": "xq3kRbbOKuKQ"
      },
      "execution_count": null,
      "outputs": []
    }
  ],
  "metadata": {
    "accelerator": "GPU",
    "colab": {
      "collapsed_sections": [],
      "provenance": [],
      "include_colab_link": true
    },
    "gpuClass": "standard",
    "kernelspec": {
      "display_name": "Python 3",
      "name": "python3"
    },
    "language_info": {
      "name": "python"
    }
  },
  "nbformat": 4,
  "nbformat_minor": 0
}