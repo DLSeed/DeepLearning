{
  "nbformat": 4,
  "nbformat_minor": 0,
  "metadata": {
    "colab": {
      "provenance": [],
      "authorship_tag": "ABX9TyPta/4qcrd/0SKFGHpFDDH+",
      "include_colab_link": true
    },
    "kernelspec": {
      "name": "python3",
      "display_name": "Python 3"
    },
    "language_info": {
      "name": "python"
    }
  },
  "cells": [
    {
      "cell_type": "markdown",
      "metadata": {
        "id": "view-in-github",
        "colab_type": "text"
      },
      "source": [
        "<a href=\"https://colab.research.google.com/github/DLSeed/DeepLearning/blob/main/%E6%AD%8C%E6%9B%B2%E7%94%9F%E6%88%90%E4%B8%80%E9%94%AE%E5%A4%84%E7%90%86.ipynb\" target=\"_parent\"><img src=\"https://colab.research.google.com/assets/colab-badge.svg\" alt=\"Open In Colab\"/></a>"
      ]
    },
    {
      "cell_type": "code",
      "execution_count": null,
      "metadata": {
        "id": "Il56bKufWN3v"
      },
      "outputs": [],
      "source": [
        "music_filename=\"\"\n",
        "from google.colab import drive\n",
        "drive.mount('/content/drive/')"
      ]
    },
    {
      "cell_type": "code",
      "source": [
        "from IPython.display import Audio, display\n",
        "from google.colab import output\n",
        "from google.colab import files\n",
        "from sys import exit\n",
        "import zipfile,hashlib,os.path,shutil,psutil,random,glob,time,zlib,sys,os\n",
        "os.chdir('/content/drive/VocalRemover5-COLAB_arch')\n",
        "input = music_filename\n",
        "convertAll = False\n"
      ],
      "metadata": {
        "id": "lumfYrQ7aJrv"
      },
      "execution_count": null,
      "outputs": []
    }
  ]
}