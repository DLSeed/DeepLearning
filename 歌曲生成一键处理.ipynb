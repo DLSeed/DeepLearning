{
  "nbformat": 4,
  "nbformat_minor": 0,
  "metadata": {
    "colab": {
      "provenance": [],
      "authorship_tag": "ABX9TyPng/ZDFYLNKKCtlQxs1ooz",
      "include_colab_link": true
    },
    "kernelspec": {
      "name": "python3",
      "display_name": "Python 3"
    },
    "language_info": {
      "name": "python"
    }
  },
  "cells": [
    {
      "cell_type": "markdown",
      "metadata": {
        "id": "view-in-github",
        "colab_type": "text"
      },
      "source": [
        "<a href=\"https://colab.research.google.com/github/DLSeed/DeepLearning/blob/main/%E6%AD%8C%E6%9B%B2%E7%94%9F%E6%88%90%E4%B8%80%E9%94%AE%E5%A4%84%E7%90%86.ipynb\" target=\"_parent\"><img src=\"https://colab.research.google.com/assets/colab-badge.svg\" alt=\"Open In Colab\"/></a>"
      ]
    },
    {
      "cell_type": "code",
      "execution_count": null,
      "metadata": {
        "id": "Il56bKufWN3v"
      },
      "outputs": [],
      "source": [
        "music_filename=\"\"\n",
        "from google.colab import drive\n",
        "drive.mount('/content/drive/')"
      ]
    },
    {
      "cell_type": "code",
      "source": [
        "from IPython.display import Audio, display\n",
        "from google.colab import output\n",
        "from google.colab import files\n",
        "from sys import exit\n",
        "import zipfile,hashlib,os.path,shutil,psutil,random,glob,time,zlib,sys,os\n",
        "os.chdir('/content/drive/VocalRemover5-COLAB_arch')\n",
        "input = music_filename\n",
        "pretrained_model = \"HP-KAROKEE-MSB2-3BAND-3090_arch-124m.pth\" #HP2-4BAND-3090_4band_arch-500m_1.pth\n",
        "window_size = 512\n",
        "parameter = \"modelparams/Auto detect\"\n",
        "high_end_process = 'mirroring2'\n",
        "aggressiveness=0.3\n",
        "model_version = 'none'\n",
        "nn_architecture == 'Auto detect'\n",
        "if nn_architecture == 'Auto detect':\n",
        "    if 'arch-default' in pretrained_model:\n",
        "        nn_architecture = 'default'\n",
        "    elif 'arch-34m' in pretrained_model:\n",
        "        nn_architecture = '33966KB'\n",
        "    elif 'arch-124m' in pretrained_model:\n",
        "        nn_architecture = '123821KB'\n",
        "    elif 'arch-130m' in pretrained_model:\n",
        "        nn_architecture = '129605KB'\n",
        "    elif 'arch-500m' in pretrained_model:\n",
        "        nn_architecture = '537238KB'\n",
        "    else:\n",
        "        print('Error! autoDetect_arch')\n",
        "        print('Using 124 MB instead.')\n",
        "        nn_architecture = '123821KB'\n",
        "if parameter == 'modelparams/Auto detect':\n",
        "    if '4band' in pretrained_model.lower():\n",
        "        if 'v2' in pretrained_model.lower():\n",
        "            parameter = 'modelparams/4band_v2.json'\n",
        "        else:\n",
        "            parameter = 'modelparams/4band_44100.json'\n",
        "    elif '3band' in pretrained_model.lower():\n",
        "        if 'msb2' in pretrained_model.lower():\n",
        "            parameter = 'modelparams/3band_44100_msb2.json'\n",
        "        else:\n",
        "            parameter = 'modelparams/3band_44100.json'\n",
        "    elif 'midside' in pretrained_model.lower():\n",
        "        parameter = 'modelparams/3band_44100_mid.json'\n",
        "    elif '2band' in pretrained_model.lower():\n",
        "        if 'lofi' in pretrained_model.lower():\n",
        "            parameter = 'modelparams/2band_44100_lofi.json'\n",
        "        else:\n",
        "            parameter = 'modelparams/2band_48000.json'\n",
        "    else:\n",
        "        print('Parameter auto detect failed, using 1band instead.')\n",
        "        parameter = 'modelparams/1band_sr44100_hl512.json'\n",
        "get_ipython().system(f'python3 main.py -i \"{input}\" --useAllModel \"{model_version}\" --model_params \"{parameter}\" -P \"{pretrained_model}\" -w {window_size} -H \"{high_end_process}\" --aggressiveness {aggressiveness} -n \"{nn_architecture}\" -g {gpu} ')"
      ],
      "metadata": {
        "id": "lumfYrQ7aJrv"
      },
      "execution_count": null,
      "outputs": []
    }
  ]
}