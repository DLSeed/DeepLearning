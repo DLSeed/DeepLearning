{
  "nbformat": 4,
  "nbformat_minor": 0,
  "metadata": {
    "colab": {
      "provenance": [],
      "collapsed_sections": [],
      "authorship_tag": "ABX9TyPa9i9cjgEWf+lZtSpIoWre",
      "include_colab_link": true
    },
    "kernelspec": {
      "name": "python3",
      "display_name": "Python 3"
    },
    "language_info": {
      "name": "python"
    },
    "accelerator": "GPU",
    "gpuClass": "standard"
  },
  "cells": [
    {
      "cell_type": "markdown",
      "metadata": {
        "id": "view-in-github",
        "colab_type": "text"
      },
      "source": [
        "<a href=\"https://colab.research.google.com/github/DLSeed/DeepLearning/blob/main/%E6%AD%8C%E6%9B%B2%E7%94%9F%E6%88%90%E4%B8%80%E9%94%AE%E5%A4%84%E7%90%86.ipynb\" target=\"_parent\"><img src=\"https://colab.research.google.com/assets/colab-badge.svg\" alt=\"Open In Colab\"/></a>"
      ]
    },
    {
      "cell_type": "code",
      "execution_count": 1,
      "metadata": {
        "colab": {
          "base_uri": "https://localhost:8080/"
        },
        "id": "Il56bKufWN3v",
        "outputId": "a837034b-b45f-41e7-f8b8-6b12e8fa8247"
      },
      "outputs": [
        {
          "output_type": "stream",
          "name": "stdout",
          "text": [
            "Mounted at /content/drive/\n"
          ]
        }
      ],
      "source": [
        "music_filename=\"未闻花名NCED(secret base ~君がくれたもの~)_高清 1080P.wav\"\n",
        "from google.colab import drive\n",
        "drive.mount('/content/drive/')"
      ]
    },
    {
      "cell_type": "code",
      "source": [
        "from IPython.display import Audio, display\n",
        "from google.colab import output\n",
        "from google.colab import files\n",
        "from sys import exit\n",
        "import zipfile,hashlib,os.path,shutil,psutil,random,glob,time,zlib,sys,os\n",
        "class hide_opt: # hide outputs\n",
        "    def __enter__(self):\n",
        "        self._original_stdout = sys.stdout\n",
        "        sys.stdout = open(os.devnull, 'w')\n",
        "    def __exit__(self, exc_type, exc_val, exc_tb):\n",
        "        sys.stdout.close()\n",
        "        sys.stdout = self._original_stdout\n",
        "with hide_opt():\n",
        "  ! pip install pathvalidate\n",
        "  ! pip install youtube-dl\n",
        "  ! pip install samplerate\n",
        "os.chdir('/content/drive/MyDrive/VocalRemover5-COLAB_arch')\n",
        "input = music_filename\n",
        "pretrained_model = \"HP-KAROKEE-MSB2-3BAND-3090_arch-124m.pth\" #HP2-4BAND-3090_4band_arch-500m_1.pth\n",
        "window_size = 512\n",
        "parameter = \"modelparams/Auto detect\"\n",
        "high_end_process = 'mirroring2'\n",
        "aggressiveness=0.3\n",
        "model_version = 'none'\n",
        "nn_architecture = 'Auto detect'\n",
        "gpu = 0\n",
        "if nn_architecture == 'Auto detect':\n",
        "    if 'arch-default' in pretrained_model:\n",
        "        nn_architecture = 'default'\n",
        "    elif 'arch-34m' in pretrained_model:\n",
        "        nn_architecture = '33966KB'\n",
        "    elif 'arch-124m' in pretrained_model:\n",
        "        nn_architecture = '123821KB'\n",
        "    elif 'arch-130m' in pretrained_model:\n",
        "        nn_architecture = '129605KB'\n",
        "    elif 'arch-500m' in pretrained_model:\n",
        "        nn_architecture = '537238KB'\n",
        "    else:\n",
        "        print('Error! autoDetect_arch')\n",
        "        print('Using 124 MB instead.')\n",
        "        nn_architecture = '123821KB'\n",
        "if parameter == 'modelparams/Auto detect':\n",
        "    if '4band' in pretrained_model.lower():\n",
        "        if 'v2' in pretrained_model.lower():\n",
        "            parameter = 'modelparams/4band_v2.json'\n",
        "        else:\n",
        "            parameter = 'modelparams/4band_44100.json'\n",
        "    elif '3band' in pretrained_model.lower():\n",
        "        if 'msb2' in pretrained_model.lower():\n",
        "            parameter = 'modelparams/3band_44100_msb2.json'\n",
        "        else:\n",
        "            parameter = 'modelparams/3band_44100.json'\n",
        "    elif 'midside' in pretrained_model.lower():\n",
        "        parameter = 'modelparams/3band_44100_mid.json'\n",
        "    elif '2band' in pretrained_model.lower():\n",
        "        if 'lofi' in pretrained_model.lower():\n",
        "            parameter = 'modelparams/2band_44100_lofi.json'\n",
        "        else:\n",
        "            parameter = 'modelparams/2band_48000.json'\n",
        "    else:\n",
        "        print('Parameter auto detect failed, using 1band instead.')\n",
        "        parameter = 'modelparams/1band_sr44100_hl512.json'\n",
        "output_Vocal=input[:-4]+'_'+pretrained_model[:-4]+'_Vocals.wav'\n",
        "print(output_Vocal)\n",
        "if '34m' in pretrained_model or '124m' in pretrained_model or '130m' in pretrained_model or '500m' in pretrained_model:\n",
        "    pretrained_model = \"models/v5_new/\" + pretrained_model\n",
        "else:\n",
        "    pretrained_model = \"models/v5/\" + pretrained_model\n",
        "input = 'tracks/' + input\n",
        "start_time = time.time()\n",
        "get_ipython().system(f'python3 main.py -i \"{input}\" --useAllModel \"{model_version}\" --model_params \"{parameter}\" -P \"{pretrained_model}\" -w {window_size} -H \"{high_end_process}\" --aggressiveness {aggressiveness} -n \"{nn_architecture}\" -g {gpu} ')\n",
        "print('Notebook took: {0:.{1}f}s'.format(time.time() - start_time, 1))\n",
        "get_ipython().system(f'cp /content/drive/MyDrive/VocalRemover5-COLAB_arch/separated/\"{output_Vocal}\" /content/drive/MyDrive/music/raw')"
      ],
      "metadata": {
        "colab": {
          "base_uri": "https://localhost:8080/"
        },
        "id": "lumfYrQ7aJrv",
        "outputId": "06539e73-9f06-4a4c-e16a-6b361e0e3fee"
      },
      "execution_count": 4,
      "outputs": [
        {
          "output_type": "stream",
          "name": "stdout",
          "text": [
            "未闻花名NCED(secret base ~君がくれたもの~)_高清 1080P_HP-KAROKEE-MSB2-3BAND-3090_arch-124m_Vocals.wav\n",
            "loading model... done\n",
            "stft of wave source... done\n",
            "100% 37/37 [00:10<00:00,  3.63it/s]\n",
            "inverse stft of Instruments... done\n",
            "inverse stft of Vocals... done\n",
            "Total time: 23.3s\n",
            "Notebook took: 26.2s\n",
            "/bin/bash: -c: line 0: syntax error near unexpected token `('\n",
            "/bin/bash: -c: line 0: `cp /content/drive/MyDrive/VocalRemover5-COLAB_arch/separated/未闻花名NCED(secret base ~君がくれたもの~)_高清 1080P_HP-KAROKEE-MSB2-3BAND-3090_arch-124m_Vocals.wav /content/drive/MyDrive/music/raw'\n"
          ]
        }
      ]
    },
    {
      "cell_type": "code",
      "source": [],
      "metadata": {
        "id": "0F51L_fbpdzu"
      },
      "execution_count": null,
      "outputs": []
    },
    {
      "cell_type": "code",
      "source": [],
      "metadata": {
        "id": "Gg0ynE8sg7dz"
      },
      "execution_count": 7,
      "outputs": []
    }
  ]
}