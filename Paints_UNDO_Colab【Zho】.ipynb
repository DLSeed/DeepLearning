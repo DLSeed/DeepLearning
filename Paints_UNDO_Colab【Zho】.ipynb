{
  "nbformat": 4,
  "nbformat_minor": 0,
  "metadata": {
    "colab": {
      "provenance": [],
      "machine_shape": "hm",
      "gpuType": "L4",
      "include_colab_link": true
    },
    "kernelspec": {
      "name": "python3",
      "display_name": "Python 3"
    },
    "language_info": {
      "name": "python"
    },
    "accelerator": "GPU"
  },
  "cells": [
    {
      "cell_type": "markdown",
      "metadata": {
        "id": "view-in-github",
        "colab_type": "text"
      },
      "source": [
        "<a href=\"https://colab.research.google.com/github/DLSeed/DeepLearning/blob/main/Paints_UNDO_Colab%E3%80%90Zho%E3%80%91.ipynb\" target=\"_parent\"><img src=\"https://colab.research.google.com/assets/colab-badge.svg\" alt=\"Open In Colab\"/></a>"
      ]
    },
    {
      "cell_type": "markdown",
      "source": [
        "# **<font color=\"white\"> Paints-UNDO Colab【-Zho-】**\n",
        "\n",
        "**源代码来自**：[lllyasviel](https://github.com/lllyasviel/Paints-UNDO)\n",
        "\n",
        "**内容制作**：[-Zho-](https://github.com/ZHO-ZHO-ZHO)（[B站主页](https://space.bilibili.com/484366804) ，[小红书主页](https://www.xiaohongshu.com/user/profile/63f11530000000001001e0c8?xhsshare=CopyLink&appuid=63f11530000000001001e0c8&apptime=1690528872)6116270352）\n",
        "\n",
        "**欢迎大家**：关注 + 一键三连+充电支持 ~\n",
        "\n",
        "<font color=\"gren\">**充电支持**：[爱发电主页](https://afdian.net/a/ZHOZHO)\n",
        "\n",
        "<font color=\"orange\">**特别说明**：需要 Colab Pro，先复制到自己云盘，然后依次运行01-02（或直接菜单栏-代码执行程序-全部运行），出现网址打开进入即可"
      ],
      "metadata": {
        "id": "uJFJTy1SOafp"
      }
    },
    {
      "cell_type": "code",
      "execution_count": null,
      "metadata": {
        "id": "5DSWCV-Y4tM4",
        "cellView": "form"
      },
      "outputs": [],
      "source": [
        "#@title <font color=\"\" size=\"5\">01 环境安装（运行的最后弹出重启清直接点取消）</font>\n",
        "!git clone https://github.com/ZHO-ZHO-ZHO/Paints-UNDO-Colab.git\n",
        "%cd /content/Paints-UNDO\n",
        "\n",
        "!pip install xformers\n",
        "!pip install -r requirements.txt"
      ]
    },
    {
      "cell_type": "code",
      "source": [
        "#@title <font color=\"\" size=\"5\">02 启动</font>\n",
        "%cd /content/Paints-UNDO\n",
        "!python gradio_app.py"
      ],
      "metadata": {
        "id": "kA5IQXsV4vl6",
        "cellView": "form"
      },
      "execution_count": null,
      "outputs": []
    }
  ]
}